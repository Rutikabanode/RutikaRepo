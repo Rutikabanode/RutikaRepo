{
  "nbformat": 4,
  "nbformat_minor": 0,
  "metadata": {
    "colab": {
      "provenance": [],
      "gpuType": "T4",
      "authorship_tag": "ABX9TyMHJvnN4GMhCwTQPRwokHAv"
    },
    "kernelspec": {
      "name": "python3",
      "display_name": "Python 3"
    },
    "language_info": {
      "name": "python"
    },
    "accelerator": "GPU"
  },
  "cells": [
    {
      "cell_type": "markdown",
      "source": [
        "##Code for Word2Vec\n",
        "\n",
        "Data: https://www.kaggle.com/datasets/khulasasndh/game-of-thrones-books"
      ],
      "metadata": {
        "id": "1uvRardUgKJr"
      }
    },
    {
      "cell_type": "code",
      "source": [
        "import pandas as pd\n",
        "import numpy as np\n",
        "import os\n",
        "import gensim\n",
        "import nltk"
      ],
      "metadata": {
        "id": "usZbob5rgVB0"
      },
      "execution_count": 2,
      "outputs": []
    },
    {
      "cell_type": "code",
      "source": [
        "nltk.download(\"all\")"
      ],
      "metadata": {
        "id": "_-4RmCZ9hueN"
      },
      "execution_count": null,
      "outputs": []
    },
    {
      "cell_type": "code",
      "source": [
        "from nltk import sent_tokenize\n",
        "from gensim.utils import simple_preprocess #basic preprocessing and automatically conver sentence into tokens\n"
      ],
      "metadata": {
        "id": "kbu1jYBYk7RX"
      },
      "execution_count": 4,
      "outputs": []
    },
    {
      "cell_type": "code",
      "source": [
        "for file in os.listdir(\"/content/data\"):\n",
        "  print(file)"
      ],
      "metadata": {
        "colab": {
          "base_uri": "https://localhost:8080/"
        },
        "id": "e6FV4Nb3mhCw",
        "outputId": "d3af1840-273a-47c7-e73b-beca47973dbe"
      },
      "execution_count": 6,
      "outputs": [
        {
          "output_type": "stream",
          "name": "stdout",
          "text": [
            "005ssb.txt\n",
            "004ssb.txt\n",
            "001ssb.txt\n",
            "002ssb.txt\n",
            "003ssb.txt\n"
          ]
        }
      ]
    },
    {
      "cell_type": "code",
      "source": [
        "\n",
        "f = open(\"/content/data/001ssb.txt\",encoding =\"unicode_escape\")\n",
        "corpus= f.read()"
      ],
      "metadata": {
        "id": "RLp4Yuh2mp05"
      },
      "execution_count": 7,
      "outputs": []
    },
    {
      "cell_type": "code",
      "source": [
        "raw_sentence = sent_tokenize(corpus)"
      ],
      "metadata": {
        "id": "qqSZg0WRnAAE"
      },
      "execution_count": 8,
      "outputs": []
    },
    {
      "cell_type": "code",
      "source": [
        "for i in raw_sentence:\n",
        "  print(simple_preprocess(i))\n"
      ],
      "metadata": {
        "id": "Qw85g3_FnrYb"
      },
      "execution_count": null,
      "outputs": []
    },
    {
      "cell_type": "code",
      "source": [
        "story=[]\n",
        "for filename in os.listdir(\"/content/data\"):\n",
        "  filepath=os.path.join(\"/content/data\",filename)\n",
        "  with open(filepath,encoding=\"unicode_escape\")as f:\n",
        "    corpus=f.read()\n",
        "  raw_sentences=sent_tokenize(corpus)\n",
        "  for sent in raw_sentences:\n",
        "    story.append(simple_preprocess(sent))"
      ],
      "metadata": {
        "id": "9qvbxbw5nwBd"
      },
      "execution_count": 11,
      "outputs": []
    },
    {
      "cell_type": "code",
      "source": [
        "len(story)"
      ],
      "metadata": {
        "colab": {
          "base_uri": "https://localhost:8080/"
        },
        "id": "zTHNmxZJoyY7",
        "outputId": "38989d33-9093-4df5-d5bf-5ff02a41e671"
      },
      "execution_count": 12,
      "outputs": [
        {
          "output_type": "execute_result",
          "data": {
            "text/plain": [
              "145020"
            ]
          },
          "metadata": {},
          "execution_count": 12
        }
      ]
    },
    {
      "cell_type": "code",
      "source": [
        "story[7]"
      ],
      "metadata": {
        "colab": {
          "base_uri": "https://localhost:8080/"
        },
        "id": "30Fuy5QJBuKM",
        "outputId": "75b83824-f8fa-49c4-b4ca-d1b977665263"
      },
      "execution_count": 13,
      "outputs": [
        {
          "output_type": "execute_result",
          "data": {
            "text/plain": [
              "['rather',\n",
              " 'than',\n",
              " 'being',\n",
              " 'sequential',\n",
              " 'the',\n",
              " 'two',\n",
              " 'books',\n",
              " 'are',\n",
              " 'parallel',\n",
              " 'divided',\n",
              " 'geographically',\n",
              " 'rather',\n",
              " 'than',\n",
              " 'chronologically']"
            ]
          },
          "metadata": {},
          "execution_count": 13
        }
      ]
    },
    {
      "cell_type": "code",
      "source": [
        "from gensim.models import Word2Vec\n",
        "from gensim.models.word2vec import Word2Vec\n",
        "model=Word2Vec(window=10,min_count=5,vector_size=150)#context window size is 10 ,Vector dimension is 150 default value is 100"
      ],
      "metadata": {
        "id": "N2EL7qIkwla5"
      },
      "execution_count": 14,
      "outputs": []
    },
    {
      "cell_type": "code",
      "source": [
        "#model=gensim.models.word2vec(window=10,min_count=5,vector_size=150)#context window size is 10 ,Vector dimension is 150 default value is 100\n",
        "#model=gensim.models.Word2vec(window=10,min_count=5,vector=150)"
      ],
      "metadata": {
        "id": "K45dne6Ap6bt"
      },
      "execution_count": null,
      "outputs": []
    },
    {
      "cell_type": "code",
      "source": [
        "#to build the vocab\n",
        "model.build_vocab(story)"
      ],
      "metadata": {
        "id": "CtACo3cYvV3O"
      },
      "execution_count": 15,
      "outputs": []
    },
    {
      "cell_type": "code",
      "source": [
        "model.epochs"
      ],
      "metadata": {
        "colab": {
          "base_uri": "https://localhost:8080/"
        },
        "id": "sw-atp-W6t-Z",
        "outputId": "7243f7e8-8c8a-4323-e723-6328a59c8e46"
      },
      "execution_count": 16,
      "outputs": [
        {
          "output_type": "execute_result",
          "data": {
            "text/plain": [
              "5"
            ]
          },
          "metadata": {},
          "execution_count": 16
        }
      ]
    },
    {
      "cell_type": "code",
      "source": [
        "model.corpus_count"
      ],
      "metadata": {
        "colab": {
          "base_uri": "https://localhost:8080/"
        },
        "id": "joIAN5q97AXb",
        "outputId": "4776240e-1660-4db8-edd0-a7ff1830782d"
      },
      "execution_count": 17,
      "outputs": [
        {
          "output_type": "execute_result",
          "data": {
            "text/plain": [
              "145020"
            ]
          },
          "metadata": {},
          "execution_count": 17
        }
      ]
    },
    {
      "cell_type": "code",
      "source": [
        "model.corpus_total_words"
      ],
      "metadata": {
        "colab": {
          "base_uri": "https://localhost:8080/"
        },
        "id": "gheVirN36zOR",
        "outputId": "3b8026fc-76e0-4dd8-9f8b-7d3b6a54c4bc"
      },
      "execution_count": 18,
      "outputs": [
        {
          "output_type": "execute_result",
          "data": {
            "text/plain": [
              "1725638"
            ]
          },
          "metadata": {},
          "execution_count": 18
        }
      ]
    },
    {
      "cell_type": "code",
      "source": [
        "model.min_count"
      ],
      "metadata": {
        "colab": {
          "base_uri": "https://localhost:8080/"
        },
        "id": "be2Fms1w7fX1",
        "outputId": "0d58dbb4-da34-42a5-fac8-b0fc5f06e4ec"
      },
      "execution_count": 19,
      "outputs": [
        {
          "output_type": "execute_result",
          "data": {
            "text/plain": [
              "5"
            ]
          },
          "metadata": {},
          "execution_count": 19
        }
      ]
    },
    {
      "cell_type": "code",
      "source": [
        "model.train(story,total_examples=model.corpus_count,epochs=model.epochs)"
      ],
      "metadata": {
        "colab": {
          "base_uri": "https://localhost:8080/"
        },
        "id": "lwqGapE065hS",
        "outputId": "60a23ebf-a907-4b8d-ec0d-36a90c7a5a05"
      },
      "execution_count": 20,
      "outputs": [
        {
          "output_type": "execute_result",
          "data": {
            "text/plain": [
              "(6482927, 8628190)"
            ]
          },
          "metadata": {},
          "execution_count": 20
        }
      ]
    },
    {
      "cell_type": "code",
      "source": [
        "model.wv.get_normed_vectors().shape #total number of vectors"
      ],
      "metadata": {
        "colab": {
          "base_uri": "https://localhost:8080/"
        },
        "id": "slMnv8Ol8e-3",
        "outputId": "c6602f47-185f-4348-c9a4-58d8ecc64945"
      },
      "execution_count": 21,
      "outputs": [
        {
          "output_type": "execute_result",
          "data": {
            "text/plain": [
              "(11760, 150)"
            ]
          },
          "metadata": {},
          "execution_count": 21
        }
      ]
    },
    {
      "cell_type": "code",
      "source": [
        "model.wv.index_to_key"
      ],
      "metadata": {
        "id": "pJ_j5pEq8xIJ"
      },
      "execution_count": null,
      "outputs": []
    },
    {
      "cell_type": "code",
      "source": [
        "len(model.wv.index_to_key)"
      ],
      "metadata": {
        "colab": {
          "base_uri": "https://localhost:8080/"
        },
        "id": "gi49nWML87a5",
        "outputId": "d0adb35e-8537-411f-dc06-29aa5a378b73"
      },
      "execution_count": 24,
      "outputs": [
        {
          "output_type": "execute_result",
          "data": {
            "text/plain": [
              "11760"
            ]
          },
          "metadata": {},
          "execution_count": 24
        }
      ]
    },
    {
      "cell_type": "code",
      "source": [
        "model.wv.most_similar(\"king\")"
      ],
      "metadata": {
        "colab": {
          "base_uri": "https://localhost:8080/"
        },
        "id": "7xG8HGGWyLT5",
        "outputId": "7e8f6678-0980-406c-ea9e-486c4038793e"
      },
      "execution_count": 25,
      "outputs": [
        {
          "output_type": "execute_result",
          "data": {
            "text/plain": [
              "[('realm', 0.6784332394599915),\n",
              " ('prince', 0.669420599937439),\n",
              " ('baratheon', 0.6627554893493652),\n",
              " ('throne', 0.644426167011261),\n",
              " ('tourney', 0.5990457534790039),\n",
              " ('victory', 0.5905713438987732),\n",
              " ('lannisters', 0.5832441449165344),\n",
              " ('usurper', 0.5800471901893616),\n",
              " ('council', 0.575627863407135),\n",
              " ('stannis', 0.574170708656311)]"
            ]
          },
          "metadata": {},
          "execution_count": 25
        }
      ]
    },
    {
      "cell_type": "code",
      "source": [
        "model.wv.most_similar(\"queen\")"
      ],
      "metadata": {
        "colab": {
          "base_uri": "https://localhost:8080/"
        },
        "id": "_xR1R9GZyIv_",
        "outputId": "cb3c5838-49dc-40b2-ed6d-703d93623a7b"
      },
      "execution_count": 26,
      "outputs": [
        {
          "output_type": "execute_result",
          "data": {
            "text/plain": [
              "[('princess', 0.7357994914054871),\n",
              " ('margaery', 0.7039681673049927),\n",
              " ('prince', 0.7009903788566589),\n",
              " ('daenerys', 0.6881498098373413),\n",
              " ('myrcella', 0.6619316935539246),\n",
              " ('elia', 0.6549037098884583),\n",
              " ('joffrey', 0.6526364684104919),\n",
              " ('cersei', 0.6517835855484009),\n",
              " ('mother', 0.6385722160339355),\n",
              " ('imp', 0.6227278113365173)]"
            ]
          },
          "metadata": {},
          "execution_count": 26
        }
      ]
    },
    {
      "cell_type": "code",
      "source": [
        "model.wv.most_similar(\"daenerys\")"
      ],
      "metadata": {
        "colab": {
          "base_uri": "https://localhost:8080/"
        },
        "id": "gAPNXh3Zyzyn",
        "outputId": "14a1bffe-8112-460f-fa8c-4e292b7fb36c"
      },
      "execution_count": 27,
      "outputs": [
        {
          "output_type": "execute_result",
          "data": {
            "text/plain": [
              "[('stormborn', 0.7977011799812317),\n",
              " ('targaryen', 0.7294933795928955),\n",
              " ('queen', 0.6881496906280518),\n",
              " ('unburnt', 0.6834090948104858),\n",
              " ('princess', 0.6543430685997009),\n",
              " ('dragons', 0.6347925662994385),\n",
              " ('dorne', 0.6294481754302979),\n",
              " ('elia', 0.6184465885162354),\n",
              " ('myrcella', 0.6119629144668579),\n",
              " ('khal', 0.6008322834968567)]"
            ]
          },
          "metadata": {},
          "execution_count": 27
        }
      ]
    },
    {
      "cell_type": "code",
      "source": [
        "model.wv.most_similar(\"dhoni\")"
      ],
      "metadata": {
        "colab": {
          "base_uri": "https://localhost:8080/",
          "height": 338
        },
        "id": "XPATKcvOzU7q",
        "outputId": "9c69cc5b-3e45-43f3-a548-627598bdae76"
      },
      "execution_count": 28,
      "outputs": [
        {
          "output_type": "error",
          "ename": "KeyError",
          "evalue": "\"Key 'dhoni' not present in vocabulary\"",
          "traceback": [
            "\u001b[0;31m---------------------------------------------------------------------------\u001b[0m",
            "\u001b[0;31mKeyError\u001b[0m                                  Traceback (most recent call last)",
            "\u001b[0;32m<ipython-input-28-f9e67fe7d4db>\u001b[0m in \u001b[0;36m<cell line: 1>\u001b[0;34m()\u001b[0m\n\u001b[0;32m----> 1\u001b[0;31m \u001b[0mmodel\u001b[0m\u001b[0;34m.\u001b[0m\u001b[0mwv\u001b[0m\u001b[0;34m.\u001b[0m\u001b[0mmost_similar\u001b[0m\u001b[0;34m(\u001b[0m\u001b[0;34m\"dhoni\"\u001b[0m\u001b[0;34m)\u001b[0m\u001b[0;34m\u001b[0m\u001b[0;34m\u001b[0m\u001b[0m\n\u001b[0m",
            "\u001b[0;32m/usr/local/lib/python3.10/dist-packages/gensim/models/keyedvectors.py\u001b[0m in \u001b[0;36mmost_similar\u001b[0;34m(self, positive, negative, topn, clip_start, clip_end, restrict_vocab, indexer)\u001b[0m\n\u001b[1;32m    839\u001b[0m \u001b[0;34m\u001b[0m\u001b[0m\n\u001b[1;32m    840\u001b[0m         \u001b[0;31m# compute the weighted average of all keys\u001b[0m\u001b[0;34m\u001b[0m\u001b[0;34m\u001b[0m\u001b[0m\n\u001b[0;32m--> 841\u001b[0;31m         \u001b[0mmean\u001b[0m \u001b[0;34m=\u001b[0m \u001b[0mself\u001b[0m\u001b[0;34m.\u001b[0m\u001b[0mget_mean_vector\u001b[0m\u001b[0;34m(\u001b[0m\u001b[0mkeys\u001b[0m\u001b[0;34m,\u001b[0m \u001b[0mweight\u001b[0m\u001b[0;34m,\u001b[0m \u001b[0mpre_normalize\u001b[0m\u001b[0;34m=\u001b[0m\u001b[0;32mTrue\u001b[0m\u001b[0;34m,\u001b[0m \u001b[0mpost_normalize\u001b[0m\u001b[0;34m=\u001b[0m\u001b[0;32mTrue\u001b[0m\u001b[0;34m,\u001b[0m \u001b[0mignore_missing\u001b[0m\u001b[0;34m=\u001b[0m\u001b[0;32mFalse\u001b[0m\u001b[0;34m)\u001b[0m\u001b[0;34m\u001b[0m\u001b[0;34m\u001b[0m\u001b[0m\n\u001b[0m\u001b[1;32m    842\u001b[0m         all_keys = [\n\u001b[1;32m    843\u001b[0m             \u001b[0mself\u001b[0m\u001b[0;34m.\u001b[0m\u001b[0mget_index\u001b[0m\u001b[0;34m(\u001b[0m\u001b[0mkey\u001b[0m\u001b[0;34m)\u001b[0m \u001b[0;32mfor\u001b[0m \u001b[0mkey\u001b[0m \u001b[0;32min\u001b[0m \u001b[0mkeys\u001b[0m \u001b[0;32mif\u001b[0m \u001b[0misinstance\u001b[0m\u001b[0;34m(\u001b[0m\u001b[0mkey\u001b[0m\u001b[0;34m,\u001b[0m \u001b[0m_KEY_TYPES\u001b[0m\u001b[0;34m)\u001b[0m \u001b[0;32mand\u001b[0m \u001b[0mself\u001b[0m\u001b[0;34m.\u001b[0m\u001b[0mhas_index_for\u001b[0m\u001b[0;34m(\u001b[0m\u001b[0mkey\u001b[0m\u001b[0;34m)\u001b[0m\u001b[0;34m\u001b[0m\u001b[0;34m\u001b[0m\u001b[0m\n",
            "\u001b[0;32m/usr/local/lib/python3.10/dist-packages/gensim/models/keyedvectors.py\u001b[0m in \u001b[0;36mget_mean_vector\u001b[0;34m(self, keys, weights, pre_normalize, post_normalize, ignore_missing)\u001b[0m\n\u001b[1;32m    516\u001b[0m                 \u001b[0mtotal_weight\u001b[0m \u001b[0;34m+=\u001b[0m \u001b[0mabs\u001b[0m\u001b[0;34m(\u001b[0m\u001b[0mweights\u001b[0m\u001b[0;34m[\u001b[0m\u001b[0midx\u001b[0m\u001b[0;34m]\u001b[0m\u001b[0;34m)\u001b[0m\u001b[0;34m\u001b[0m\u001b[0;34m\u001b[0m\u001b[0m\n\u001b[1;32m    517\u001b[0m             \u001b[0;32melif\u001b[0m \u001b[0;32mnot\u001b[0m \u001b[0mignore_missing\u001b[0m\u001b[0;34m:\u001b[0m\u001b[0;34m\u001b[0m\u001b[0;34m\u001b[0m\u001b[0m\n\u001b[0;32m--> 518\u001b[0;31m                 \u001b[0;32mraise\u001b[0m \u001b[0mKeyError\u001b[0m\u001b[0;34m(\u001b[0m\u001b[0;34mf\"Key '{key}' not present in vocabulary\"\u001b[0m\u001b[0;34m)\u001b[0m\u001b[0;34m\u001b[0m\u001b[0;34m\u001b[0m\u001b[0m\n\u001b[0m\u001b[1;32m    519\u001b[0m \u001b[0;34m\u001b[0m\u001b[0m\n\u001b[1;32m    520\u001b[0m         \u001b[0;32mif\u001b[0m \u001b[0mtotal_weight\u001b[0m \u001b[0;34m>\u001b[0m \u001b[0;36m0\u001b[0m\u001b[0;34m:\u001b[0m\u001b[0;34m\u001b[0m\u001b[0;34m\u001b[0m\u001b[0m\n",
            "\u001b[0;31mKeyError\u001b[0m: \"Key 'dhoni' not present in vocabulary\""
          ]
        }
      ]
    },
    {
      "cell_type": "code",
      "source": [
        "model.wv.doesnt_match(['jon','rikon','robb','arya','sansa','bran'])"
      ],
      "metadata": {
        "colab": {
          "base_uri": "https://localhost:8080/",
          "height": 53
        },
        "id": "L1xJR_nAzHC5",
        "outputId": "0e15e136-a8e1-45ea-f393-2a30378bff8e"
      },
      "execution_count": 29,
      "outputs": [
        {
          "output_type": "stream",
          "name": "stderr",
          "text": [
            "WARNING:gensim.models.keyedvectors:vectors for words {'rikon'} are not present in the model, ignoring these words\n"
          ]
        },
        {
          "output_type": "execute_result",
          "data": {
            "text/plain": [
              "'jon'"
            ],
            "application/vnd.google.colaboratory.intrinsic+json": {
              "type": "string"
            }
          },
          "metadata": {},
          "execution_count": 29
        }
      ]
    },
    {
      "cell_type": "code",
      "source": [
        "model.save(\"wordtoVec.model\")"
      ],
      "metadata": {
        "id": "tNxbNaJ90C7h"
      },
      "execution_count": 30,
      "outputs": []
    },
    {
      "cell_type": "code",
      "source": [
        "model.save(\"wordtoVec.model.bin\")"
      ],
      "metadata": {
        "id": "yrL6KEkl9JBm"
      },
      "execution_count": 31,
      "outputs": []
    },
    {
      "cell_type": "markdown",
      "source": [
        "![image.png](data:image/png;base64,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)"
      ],
      "metadata": {
        "id": "ns7K8Pmh7uGK"
      }
    },
    {
      "cell_type": "code",
      "source": [
        "!gzip wordtoVec.model.bin > word2vec.bin.gz"
      ],
      "metadata": {
        "id": "RR1hcxns9UVG"
      },
      "execution_count": 32,
      "outputs": []
    },
    {
      "cell_type": "markdown",
      "source": [
        "![image.png](data:image/png;base64,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)**bold text**"
      ],
      "metadata": {
        "id": "yGY2HsdO9rqA"
      }
    },
    {
      "cell_type": "code",
      "source": [
        "import numpy as np\n",
        "from sklearn.decomposition import PCA\n",
        "#https://scikit-learn.org/stable/modules/generated/sklearn.decomposition.PCA.html"
      ],
      "metadata": {
        "id": "8D_32iIE9y3F"
      },
      "execution_count": 33,
      "outputs": []
    },
    {
      "cell_type": "code",
      "source": [
        "vectors = model.wv.get_normed_vectors()\n",
        "y=model.wv.index_to_key"
      ],
      "metadata": {
        "id": "gQ8-8pNKAJi7"
      },
      "execution_count": 34,
      "outputs": []
    },
    {
      "cell_type": "code",
      "source": [
        "pca=PCA(n_components=3)\n",
        "X=pca.fit_transform(vectors)"
      ],
      "metadata": {
        "id": "oniwpTtw-KAT"
      },
      "execution_count": 35,
      "outputs": []
    },
    {
      "cell_type": "code",
      "source": [
        "X.shape"
      ],
      "metadata": {
        "colab": {
          "base_uri": "https://localhost:8080/"
        },
        "id": "_paPkolJ-a-9",
        "outputId": "64eedb54-5975-41c5-a300-9f7c4d1dfd1c"
      },
      "execution_count": 36,
      "outputs": [
        {
          "output_type": "execute_result",
          "data": {
            "text/plain": [
              "(11760, 3)"
            ]
          },
          "metadata": {},
          "execution_count": 36
        }
      ]
    },
    {
      "cell_type": "code",
      "source": [
        "import plotly.express as px\n",
        "fig = px.scatter_3d(X[200:300],x=0,y=1,z=2,color=y[200:300])\n",
        "fig.show()"
      ],
      "metadata": {
        "colab": {
          "base_uri": "https://localhost:8080/",
          "height": 542
        },
        "id": "29aB9sTr-eZq",
        "outputId": "d0d40619-2ff2-46cd-ede9-f4d0d06e8ea3"
      },
      "execution_count": 37,
      "outputs": [
        {
          "output_type": "display_data",
          "data": {
            "text/html": [
              "<html>\n",
              "<head><meta charset=\"utf-8\" /></head>\n",
              "<body>\n",
              "    <div>            <script src=\"https://cdnjs.cloudflare.com/ajax/libs/mathjax/2.7.5/MathJax.js?config=TeX-AMS-MML_SVG\"></script><script type=\"text/javascript\">if (window.MathJax && window.MathJax.Hub && window.MathJax.Hub.Config) {window.MathJax.Hub.Config({SVG: {font: \"STIX-Web\"}});}</script>                <script type=\"text/javascript\">window.PlotlyConfig = {MathJaxConfig: 'local'};</script>\n",
              "        <script charset=\"utf-8\" src=\"https://cdn.plot.ly/plotly-2.24.1.min.js\"></script>                <div id=\"4609132b-b3a0-4f44-ac16-15c625ae3091\" class=\"plotly-graph-div\" style=\"height:525px; width:100%;\"></div>            <script type=\"text/javascript\">                                    window.PLOTLYENV=window.PLOTLYENV || {};                                    if (document.getElementById(\"4609132b-b3a0-4f44-ac16-15c625ae3091\")) {                    Plotly.newPlot(                        \"4609132b-b3a0-4f44-ac16-15c625ae3091\",                        [{\"hovertemplate\":\"color=hands\\u003cbr\\u003e0=%{x}\\u003cbr\\u003e1=%{y}\\u003cbr\\u003e2=%{z}\\u003cextra\\u003e\\u003c\\u002fextra\\u003e\",\"legendgroup\":\"hands\",\"marker\":{\"color\":\"#636efa\",\"symbol\":\"circle\"},\"mode\":\"markers\",\"name\":\"hands\",\"scene\":\"scene\",\"showlegend\":true,\"x\":[-0.21106840670108795],\"y\":[0.3099178373813629],\"z\":[0.5185684561729431],\"type\":\"scatter3d\"},{\"hovertemplate\":\"color=stannis\\u003cbr\\u003e0=%{x}\\u003cbr\\u003e1=%{y}\\u003cbr\\u003e2=%{z}\\u003cextra\\u003e\\u003c\\u002fextra\\u003e\",\"legendgroup\":\"stannis\",\"marker\":{\"color\":\"#EF553B\",\"symbol\":\"circle\"},\"mode\":\"markers\",\"name\":\"stannis\",\"scene\":\"scene\",\"showlegend\":true,\"x\":[0.4546937346458435],\"y\":[0.602131187915802],\"z\":[0.0626257061958313],\"type\":\"scatter3d\"},{\"hovertemplate\":\"color=mother\\u003cbr\\u003e0=%{x}\\u003cbr\\u003e1=%{y}\\u003cbr\\u003e2=%{z}\\u003cextra\\u003e\\u003c\\u002fextra\\u003e\",\"legendgroup\":\"mother\",\"marker\":{\"color\":\"#00cc96\",\"symbol\":\"circle\"},\"mode\":\"markers\",\"name\":\"mother\",\"scene\":\"scene\",\"showlegend\":true,\"x\":[0.5101416110992432],\"y\":[0.4189463257789612],\"z\":[0.2580670416355133],\"type\":\"scatter3d\"},{\"hovertemplate\":\"color=catelyn\\u003cbr\\u003e0=%{x}\\u003cbr\\u003e1=%{y}\\u003cbr\\u003e2=%{z}\\u003cextra\\u003e\\u003c\\u002fextra\\u003e\",\"legendgroup\":\"catelyn\",\"marker\":{\"color\":\"#ab63fa\",\"symbol\":\"circle\"},\"mode\":\"markers\",\"name\":\"catelyn\",\"scene\":\"scene\",\"showlegend\":true,\"x\":[0.2877802848815918],\"y\":[0.20649416744709015],\"z\":[0.28999093174934387],\"type\":\"scatter3d\"},{\"hovertemplate\":\"color=robert\\u003cbr\\u003e0=%{x}\\u003cbr\\u003e1=%{y}\\u003cbr\\u003e2=%{z}\\u003cextra\\u003e\\u003c\\u002fextra\\u003e\",\"legendgroup\":\"robert\",\"marker\":{\"color\":\"#FFA15A\",\"symbol\":\"circle\"},\"mode\":\"markers\",\"name\":\"robert\",\"scene\":\"scene\",\"showlegend\":true,\"x\":[0.5905666947364807],\"y\":[0.39116984605789185],\"z\":[0.18603605031967163],\"type\":\"scatter3d\"},{\"hovertemplate\":\"color=seemed\\u003cbr\\u003e0=%{x}\\u003cbr\\u003e1=%{y}\\u003cbr\\u003e2=%{z}\\u003cextra\\u003e\\u003c\\u002fextra\\u003e\",\"legendgroup\":\"seemed\",\"marker\":{\"color\":\"#19d3f3\",\"symbol\":\"circle\"},\"mode\":\"markers\",\"name\":\"seemed\",\"scene\":\"scene\",\"showlegend\":true,\"x\":[0.07485663145780563],\"y\":[0.3431805372238159],\"z\":[0.36818927526474],\"type\":\"scatter3d\"},{\"hovertemplate\":\"color=prince\\u003cbr\\u003e0=%{x}\\u003cbr\\u003e1=%{y}\\u003cbr\\u003e2=%{z}\\u003cextra\\u003e\\u003c\\u002fextra\\u003e\",\"legendgroup\":\"prince\",\"marker\":{\"color\":\"#FF6692\",\"symbol\":\"circle\"},\"mode\":\"markers\",\"name\":\"prince\",\"scene\":\"scene\",\"showlegend\":true,\"x\":[0.6160561442375183],\"y\":[0.3439106047153473],\"z\":[0.21380658447742462],\"type\":\"scatter3d\"},{\"hovertemplate\":\"color=may\\u003cbr\\u003e0=%{x}\\u003cbr\\u003e1=%{y}\\u003cbr\\u003e2=%{z}\\u003cextra\\u003e\\u003c\\u002fextra\\u003e\",\"legendgroup\":\"may\",\"marker\":{\"color\":\"#B6E880\",\"symbol\":\"circle\"},\"mode\":\"markers\",\"name\":\"may\",\"scene\":\"scene\",\"showlegend\":true,\"x\":[0.6016483306884766],\"y\":[0.4037644863128662],\"z\":[0.2208806574344635],\"type\":\"scatter3d\"},{\"hovertemplate\":\"color=ever\\u003cbr\\u003e0=%{x}\\u003cbr\\u003e1=%{y}\\u003cbr\\u003e2=%{z}\\u003cextra\\u003e\\u003c\\u002fextra\\u003e\",\"legendgroup\":\"ever\",\"marker\":{\"color\":\"#FF97FF\",\"symbol\":\"circle\"},\"mode\":\"markers\",\"name\":\"ever\",\"scene\":\"scene\",\"showlegend\":true,\"x\":[0.5070313215255737],\"y\":[0.35407406091690063],\"z\":[0.21411706507205963],\"type\":\"scatter3d\"},{\"hovertemplate\":\"color=robb\\u003cbr\\u003e0=%{x}\\u003cbr\\u003e1=%{y}\\u003cbr\\u003e2=%{z}\\u003cextra\\u003e\\u003c\\u002fextra\\u003e\",\"legendgroup\":\"robb\",\"marker\":{\"color\":\"#FECB52\",\"symbol\":\"circle\"},\"mode\":\"markers\",\"name\":\"robb\",\"scene\":\"scene\",\"showlegend\":true,\"x\":[0.4794416129589081],\"y\":[0.3646843731403351],\"z\":[0.30820778012275696],\"type\":\"scatter3d\"},{\"hovertemplate\":\"color=done\\u003cbr\\u003e0=%{x}\\u003cbr\\u003e1=%{y}\\u003cbr\\u003e2=%{z}\\u003cextra\\u003e\\u003c\\u002fextra\\u003e\",\"legendgroup\":\"done\",\"marker\":{\"color\":\"#636efa\",\"symbol\":\"circle\"},\"mode\":\"markers\",\"name\":\"done\",\"scene\":\"scene\",\"showlegend\":true,\"x\":[0.521001398563385],\"y\":[0.5073999166488647],\"z\":[0.39580559730529785],\"type\":\"scatter3d\"},{\"hovertemplate\":\"color=don\\u003cbr\\u003e0=%{x}\\u003cbr\\u003e1=%{y}\\u003cbr\\u003e2=%{z}\\u003cextra\\u003e\\u003c\\u002fextra\\u003e\",\"legendgroup\":\"don\",\"marker\":{\"color\":\"#EF553B\",\"symbol\":\"circle\"},\"mode\":\"markers\",\"name\":\"don\",\"scene\":\"scene\",\"showlegend\":true,\"x\":[0.5151629447937012],\"y\":[0.20737698674201965],\"z\":[0.4299306571483612],\"type\":\"scatter3d\"},{\"hovertemplate\":\"color=find\\u003cbr\\u003e0=%{x}\\u003cbr\\u003e1=%{y}\\u003cbr\\u003e2=%{z}\\u003cextra\\u003e\\u003c\\u002fextra\\u003e\",\"legendgroup\":\"find\",\"marker\":{\"color\":\"#00cc96\",\"symbol\":\"circle\"},\"mode\":\"markers\",\"name\":\"find\",\"scene\":\"scene\",\"showlegend\":true,\"x\":[0.46029096841812134],\"y\":[0.5437902212142944],\"z\":[0.5604361891746521],\"type\":\"scatter3d\"},{\"hovertemplate\":\"color=lannister\\u003cbr\\u003e0=%{x}\\u003cbr\\u003e1=%{y}\\u003cbr\\u003e2=%{z}\\u003cextra\\u003e\\u003c\\u002fextra\\u003e\",\"legendgroup\":\"lannister\",\"marker\":{\"color\":\"#ab63fa\",\"symbol\":\"circle\"},\"mode\":\"markers\",\"name\":\"lannister\",\"scene\":\"scene\",\"showlegend\":true,\"x\":[0.4273518919944763],\"y\":[0.3471437394618988],\"z\":[0.14730708301067352],\"type\":\"scatter3d\"},{\"hovertemplate\":\"color=re\\u003cbr\\u003e0=%{x}\\u003cbr\\u003e1=%{y}\\u003cbr\\u003e2=%{z}\\u003cextra\\u003e\\u003c\\u002fextra\\u003e\",\"legendgroup\":\"re\",\"marker\":{\"color\":\"#FFA15A\",\"symbol\":\"circle\"},\"mode\":\"markers\",\"name\":\"re\",\"scene\":\"scene\",\"showlegend\":true,\"x\":[0.4062967598438263],\"y\":[0.36647337675094604],\"z\":[0.3681061863899231],\"type\":\"scatter3d\"},{\"hovertemplate\":\"color=hear\\u003cbr\\u003e0=%{x}\\u003cbr\\u003e1=%{y}\\u003cbr\\u003e2=%{z}\\u003cextra\\u003e\\u003c\\u002fextra\\u003e\",\"legendgroup\":\"hear\",\"marker\":{\"color\":\"#19d3f3\",\"symbol\":\"circle\"},\"mode\":\"markers\",\"name\":\"hear\",\"scene\":\"scene\",\"showlegend\":true,\"x\":[0.2370632290840149],\"y\":[0.43108630180358887],\"z\":[0.5392301082611084],\"type\":\"scatter3d\"},{\"hovertemplate\":\"color=name\\u003cbr\\u003e0=%{x}\\u003cbr\\u003e1=%{y}\\u003cbr\\u003e2=%{z}\\u003cextra\\u003e\\u003c\\u002fextra\\u003e\",\"legendgroup\":\"name\",\"marker\":{\"color\":\"#FF6692\",\"symbol\":\"circle\"},\"mode\":\"markers\",\"name\":\"name\",\"scene\":\"scene\",\"showlegend\":true,\"x\":[0.633703887462616],\"y\":[0.48483365774154663],\"z\":[0.3133668601512909],\"type\":\"scatter3d\"},{\"hovertemplate\":\"color=grey\\u003cbr\\u003e0=%{x}\\u003cbr\\u003e1=%{y}\\u003cbr\\u003e2=%{z}\\u003cextra\\u003e\\u003c\\u002fextra\\u003e\",\"legendgroup\":\"grey\",\"marker\":{\"color\":\"#B6E880\",\"symbol\":\"circle\"},\"mode\":\"markers\",\"name\":\"grey\",\"scene\":\"scene\",\"showlegend\":true,\"x\":[-0.4232046902179718],\"y\":[0.2214273363351822],\"z\":[0.05018923431634903],\"type\":\"scatter3d\"},{\"hovertemplate\":\"color=horse\\u003cbr\\u003e0=%{x}\\u003cbr\\u003e1=%{y}\\u003cbr\\u003e2=%{z}\\u003cextra\\u003e\\u003c\\u002fextra\\u003e\",\"legendgroup\":\"horse\",\"marker\":{\"color\":\"#FF97FF\",\"symbol\":\"circle\"},\"mode\":\"markers\",\"name\":\"horse\",\"scene\":\"scene\",\"showlegend\":true,\"x\":[-0.2651270031929016],\"y\":[0.4367736876010895],\"z\":[0.4851398468017578],\"type\":\"scatter3d\"},{\"hovertemplate\":\"color=high\\u003cbr\\u003e0=%{x}\\u003cbr\\u003e1=%{y}\\u003cbr\\u003e2=%{z}\\u003cextra\\u003e\\u003c\\u002fextra\\u003e\",\"legendgroup\":\"high\",\"marker\":{\"color\":\"#FECB52\",\"symbol\":\"circle\"},\"mode\":\"markers\",\"name\":\"high\",\"scene\":\"scene\",\"showlegend\":true,\"x\":[-0.09952109307050705],\"y\":[0.4814318120479584],\"z\":[-0.13758648931980133],\"type\":\"scatter3d\"},{\"hovertemplate\":\"color=put\\u003cbr\\u003e0=%{x}\\u003cbr\\u003e1=%{y}\\u003cbr\\u003e2=%{z}\\u003cextra\\u003e\\u003c\\u002fextra\\u003e\",\"legendgroup\":\"put\",\"marker\":{\"color\":\"#636efa\",\"symbol\":\"circle\"},\"mode\":\"markers\",\"name\":\"put\",\"scene\":\"scene\",\"showlegend\":true,\"x\":[0.2795030176639557],\"y\":[0.42183104157447815],\"z\":[0.7143439054489136],\"type\":\"scatter3d\"},{\"hovertemplate\":\"color=stone\\u003cbr\\u003e0=%{x}\\u003cbr\\u003e1=%{y}\\u003cbr\\u003e2=%{z}\\u003cextra\\u003e\\u003c\\u002fextra\\u003e\",\"legendgroup\":\"stone\",\"marker\":{\"color\":\"#EF553B\",\"symbol\":\"circle\"},\"mode\":\"markers\",\"name\":\"stone\",\"scene\":\"scene\",\"showlegend\":true,\"x\":[-0.5724968910217285],\"y\":[0.5400313138961792],\"z\":[-0.07228510081768036],\"type\":\"scatter3d\"},{\"hovertemplate\":\"color=wine\\u003cbr\\u003e0=%{x}\\u003cbr\\u003e1=%{y}\\u003cbr\\u003e2=%{z}\\u003cextra\\u003e\\u003c\\u002fextra\\u003e\",\"legendgroup\":\"wine\",\"marker\":{\"color\":\"#00cc96\",\"symbol\":\"circle\"},\"mode\":\"markers\",\"name\":\"wine\",\"scene\":\"scene\",\"showlegend\":true,\"x\":[-0.00898012425750494],\"y\":[0.1927560418844223],\"z\":[0.44103550910949707],\"type\":\"scatter3d\"},{\"hovertemplate\":\"color=hard\\u003cbr\\u003e0=%{x}\\u003cbr\\u003e1=%{y}\\u003cbr\\u003e2=%{z}\\u003cextra\\u003e\\u003c\\u002fextra\\u003e\",\"legendgroup\":\"hard\",\"marker\":{\"color\":\"#ab63fa\",\"symbol\":\"circle\"},\"mode\":\"markers\",\"name\":\"hard\",\"scene\":\"scene\",\"showlegend\":true,\"x\":[-0.2651533782482147],\"y\":[0.21971237659454346],\"z\":[0.46276775002479553],\"type\":\"scatter3d\"},{\"hovertemplate\":\"color=water\\u003cbr\\u003e0=%{x}\\u003cbr\\u003e1=%{y}\\u003cbr\\u003e2=%{z}\\u003cextra\\u003e\\u003c\\u002fextra\\u003e\",\"legendgroup\":\"water\",\"marker\":{\"color\":\"#FFA15A\",\"symbol\":\"circle\"},\"mode\":\"markers\",\"name\":\"water\",\"scene\":\"scene\",\"showlegend\":true,\"x\":[-0.48133283853530884],\"y\":[0.49922075867652893],\"z\":[0.3538767993450165],\"type\":\"scatter3d\"},{\"hovertemplate\":\"color=upon\\u003cbr\\u003e0=%{x}\\u003cbr\\u003e1=%{y}\\u003cbr\\u003e2=%{z}\\u003cextra\\u003e\\u003c\\u002fextra\\u003e\",\"legendgroup\":\"upon\",\"marker\":{\"color\":\"#19d3f3\",\"symbol\":\"circle\"},\"mode\":\"markers\",\"name\":\"upon\",\"scene\":\"scene\",\"showlegend\":true,\"x\":[-0.046091511845588684],\"y\":[0.37444165349006653],\"z\":[0.15996822714805603],\"type\":\"scatter3d\"},{\"hovertemplate\":\"color=fire\\u003cbr\\u003e0=%{x}\\u003cbr\\u003e1=%{y}\\u003cbr\\u003e2=%{z}\\u003cextra\\u003e\\u003c\\u002fextra\\u003e\",\"legendgroup\":\"fire\",\"marker\":{\"color\":\"#FF6692\",\"symbol\":\"circle\"},\"mode\":\"markers\",\"name\":\"fire\",\"scene\":\"scene\",\"showlegend\":true,\"x\":[-0.3978155255317688],\"y\":[0.6385007500648499],\"z\":[0.19944772124290466],\"type\":\"scatter3d\"},{\"hovertemplate\":\"color=iron\\u003cbr\\u003e0=%{x}\\u003cbr\\u003e1=%{y}\\u003cbr\\u003e2=%{z}\\u003cextra\\u003e\\u003c\\u002fextra\\u003e\",\"legendgroup\":\"iron\",\"marker\":{\"color\":\"#B6E880\",\"symbol\":\"circle\"},\"mode\":\"markers\",\"name\":\"iron\",\"scene\":\"scene\",\"showlegend\":true,\"x\":[-0.13933774828910828],\"y\":[0.5177052617073059],\"z\":[-0.11046909540891647],\"type\":\"scatter3d\"},{\"hovertemplate\":\"color=until\\u003cbr\\u003e0=%{x}\\u003cbr\\u003e1=%{y}\\u003cbr\\u003e2=%{z}\\u003cextra\\u003e\\u003c\\u002fextra\\u003e\",\"legendgroup\":\"until\",\"marker\":{\"color\":\"#FF97FF\",\"symbol\":\"circle\"},\"mode\":\"markers\",\"name\":\"until\",\"scene\":\"scene\",\"showlegend\":true,\"x\":[-0.07116298377513885],\"y\":[0.4559132754802704],\"z\":[0.4929698705673218],\"type\":\"scatter3d\"},{\"hovertemplate\":\"color=these\\u003cbr\\u003e0=%{x}\\u003cbr\\u003e1=%{y}\\u003cbr\\u003e2=%{z}\\u003cextra\\u003e\\u003c\\u002fextra\\u003e\",\"legendgroup\":\"these\",\"marker\":{\"color\":\"#FECB52\",\"symbol\":\"circle\"},\"mode\":\"markers\",\"name\":\"these\",\"scene\":\"scene\",\"showlegend\":true,\"x\":[0.47103357315063477],\"y\":[0.6854746341705322],\"z\":[-0.23987321555614471],\"type\":\"scatter3d\"},{\"hovertemplate\":\"color=voice\\u003cbr\\u003e0=%{x}\\u003cbr\\u003e1=%{y}\\u003cbr\\u003e2=%{z}\\u003cextra\\u003e\\u003c\\u002fextra\\u003e\",\"legendgroup\":\"voice\",\"marker\":{\"color\":\"#636efa\",\"symbol\":\"circle\"},\"mode\":\"markers\",\"name\":\"voice\",\"scene\":\"scene\",\"showlegend\":true,\"x\":[0.09188801050186157],\"y\":[0.09501791000366211],\"z\":[0.5079664587974548],\"type\":\"scatter3d\"},{\"hovertemplate\":\"color=gone\\u003cbr\\u003e0=%{x}\\u003cbr\\u003e1=%{y}\\u003cbr\\u003e2=%{z}\\u003cextra\\u003e\\u003c\\u002fextra\\u003e\",\"legendgroup\":\"gone\",\"marker\":{\"color\":\"#EF553B\",\"symbol\":\"circle\"},\"mode\":\"markers\",\"name\":\"gone\",\"scene\":\"scene\",\"showlegend\":true,\"x\":[0.10748924314975739],\"y\":[0.49089664220809937],\"z\":[0.4418647289276123],\"type\":\"scatter3d\"},{\"hovertemplate\":\"color=give\\u003cbr\\u003e0=%{x}\\u003cbr\\u003e1=%{y}\\u003cbr\\u003e2=%{z}\\u003cextra\\u003e\\u003c\\u002fextra\\u003e\",\"legendgroup\":\"give\",\"marker\":{\"color\":\"#00cc96\",\"symbol\":\"circle\"},\"mode\":\"markers\",\"name\":\"give\",\"scene\":\"scene\",\"showlegend\":true,\"x\":[0.6036438941955566],\"y\":[0.3945258855819702],\"z\":[0.5218565464019775],\"type\":\"scatter3d\"},{\"hovertemplate\":\"color=sam\\u003cbr\\u003e0=%{x}\\u003cbr\\u003e1=%{y}\\u003cbr\\u003e2=%{z}\\u003cextra\\u003e\\u003c\\u002fextra\\u003e\",\"legendgroup\":\"sam\",\"marker\":{\"color\":\"#ab63fa\",\"symbol\":\"circle\"},\"mode\":\"markers\",\"name\":\"sam\",\"scene\":\"scene\",\"showlegend\":true,\"x\":[0.051354341208934784],\"y\":[0.18845799565315247],\"z\":[0.46503758430480957],\"type\":\"scatter3d\"},{\"hovertemplate\":\"color=seen\\u003cbr\\u003e0=%{x}\\u003cbr\\u003e1=%{y}\\u003cbr\\u003e2=%{z}\\u003cextra\\u003e\\u003c\\u002fextra\\u003e\",\"legendgroup\":\"seen\",\"marker\":{\"color\":\"#FFA15A\",\"symbol\":\"circle\"},\"mode\":\"markers\",\"name\":\"seen\",\"scene\":\"scene\",\"showlegend\":true,\"x\":[0.1739046573638916],\"y\":[0.5116722583770752],\"z\":[0.26361995935440063],\"type\":\"scatter3d\"},{\"hovertemplate\":\"color=better\\u003cbr\\u003e0=%{x}\\u003cbr\\u003e1=%{y}\\u003cbr\\u003e2=%{z}\\u003cextra\\u003e\\u003c\\u002fextra\\u003e\",\"legendgroup\":\"better\",\"marker\":{\"color\":\"#19d3f3\",\"symbol\":\"circle\"},\"mode\":\"markers\",\"name\":\"better\",\"scene\":\"scene\",\"showlegend\":true,\"x\":[0.5065520405769348],\"y\":[0.38589155673980713],\"z\":[0.2419973760843277],\"type\":\"scatter3d\"},{\"hovertemplate\":\"color=shall\\u003cbr\\u003e0=%{x}\\u003cbr\\u003e1=%{y}\\u003cbr\\u003e2=%{z}\\u003cextra\\u003e\\u003c\\u002fextra\\u003e\",\"legendgroup\":\"shall\",\"marker\":{\"color\":\"#FF6692\",\"symbol\":\"circle\"},\"mode\":\"markers\",\"name\":\"shall\",\"scene\":\"scene\",\"showlegend\":true,\"x\":[0.5642568469047546],\"y\":[0.4779082238674164],\"z\":[0.19359083473682404],\"type\":\"scatter3d\"},{\"hovertemplate\":\"color=ned\\u003cbr\\u003e0=%{x}\\u003cbr\\u003e1=%{y}\\u003cbr\\u003e2=%{z}\\u003cextra\\u003e\\u003c\\u002fextra\\u003e\",\"legendgroup\":\"ned\",\"marker\":{\"color\":\"#B6E880\",\"symbol\":\"circle\"},\"mode\":\"markers\",\"name\":\"ned\",\"scene\":\"scene\",\"showlegend\":true,\"x\":[0.315343976020813],\"y\":[0.22617864608764648],\"z\":[0.33821916580200195],\"type\":\"scatter3d\"},{\"hovertemplate\":\"color=always\\u003cbr\\u003e0=%{x}\\u003cbr\\u003e1=%{y}\\u003cbr\\u003e2=%{z}\\u003cextra\\u003e\\u003c\\u002fextra\\u003e\",\"legendgroup\":\"always\",\"marker\":{\"color\":\"#FF97FF\",\"symbol\":\"circle\"},\"mode\":\"markers\",\"name\":\"always\",\"scene\":\"scene\",\"showlegend\":true,\"x\":[0.5157764554023743],\"y\":[0.31591159105300903],\"z\":[0.2378571778535843],\"type\":\"scatter3d\"},{\"hovertemplate\":\"color=years\\u003cbr\\u003e0=%{x}\\u003cbr\\u003e1=%{y}\\u003cbr\\u003e2=%{z}\\u003cextra\\u003e\\u003c\\u002fextra\\u003e\",\"legendgroup\":\"years\",\"marker\":{\"color\":\"#FECB52\",\"symbol\":\"circle\"},\"mode\":\"markers\",\"name\":\"years\",\"scene\":\"scene\",\"showlegend\":true,\"x\":[0.35290396213531494],\"y\":[0.5884168744087219],\"z\":[-0.0515291728079319],\"type\":\"scatter3d\"},{\"hovertemplate\":\"color=between\\u003cbr\\u003e0=%{x}\\u003cbr\\u003e1=%{y}\\u003cbr\\u003e2=%{z}\\u003cextra\\u003e\\u003c\\u002fextra\\u003e\",\"legendgroup\":\"between\",\"marker\":{\"color\":\"#636efa\",\"symbol\":\"circle\"},\"mode\":\"markers\",\"name\":\"between\",\"scene\":\"scene\",\"showlegend\":true,\"x\":[-0.3512325584888458],\"y\":[0.2930956482887268],\"z\":[0.2800319790840149],\"type\":\"scatter3d\"},{\"hovertemplate\":\"color=dark\\u003cbr\\u003e0=%{x}\\u003cbr\\u003e1=%{y}\\u003cbr\\u003e2=%{z}\\u003cextra\\u003e\\u003c\\u002fextra\\u003e\",\"legendgroup\":\"dark\",\"marker\":{\"color\":\"#EF553B\",\"symbol\":\"circle\"},\"mode\":\"markers\",\"name\":\"dark\",\"scene\":\"scene\",\"showlegend\":true,\"x\":[-0.48038092255592346],\"y\":[0.3704187870025635],\"z\":[0.14356578886508942],\"type\":\"scatter3d\"},{\"hovertemplate\":\"color=place\\u003cbr\\u003e0=%{x}\\u003cbr\\u003e1=%{y}\\u003cbr\\u003e2=%{z}\\u003cextra\\u003e\\u003c\\u002fextra\\u003e\",\"legendgroup\":\"place\",\"marker\":{\"color\":\"#00cc96\",\"symbol\":\"circle\"},\"mode\":\"markers\",\"name\":\"place\",\"scene\":\"scene\",\"showlegend\":true,\"x\":[0.28700268268585205],\"y\":[0.7768974900245667],\"z\":[0.21365141868591309],\"type\":\"scatter3d\"},{\"hovertemplate\":\"color=small\\u003cbr\\u003e0=%{x}\\u003cbr\\u003e1=%{y}\\u003cbr\\u003e2=%{z}\\u003cextra\\u003e\\u003c\\u002fextra\\u003e\",\"legendgroup\":\"small\",\"marker\":{\"color\":\"#ab63fa\",\"symbol\":\"circle\"},\"mode\":\"markers\",\"name\":\"small\",\"scene\":\"scene\",\"showlegend\":true,\"x\":[-0.15605852007865906],\"y\":[0.33806532621383667],\"z\":[-0.1302460879087448],\"type\":\"scatter3d\"},{\"hovertemplate\":\"color=cold\\u003cbr\\u003e0=%{x}\\u003cbr\\u003e1=%{y}\\u003cbr\\u003e2=%{z}\\u003cextra\\u003e\\u003c\\u002fextra\\u003e\",\"legendgroup\":\"cold\",\"marker\":{\"color\":\"#FFA15A\",\"symbol\":\"circle\"},\"mode\":\"markers\",\"name\":\"cold\",\"scene\":\"scene\",\"showlegend\":true,\"x\":[-0.3022695779800415],\"y\":[0.3654332160949707],\"z\":[0.29747411608695984],\"type\":\"scatter3d\"},{\"hovertemplate\":\"color=winterfell\\u003cbr\\u003e0=%{x}\\u003cbr\\u003e1=%{y}\\u003cbr\\u003e2=%{z}\\u003cextra\\u003e\\u003c\\u002fextra\\u003e\",\"legendgroup\":\"winterfell\",\"marker\":{\"color\":\"#19d3f3\",\"symbol\":\"circle\"},\"mode\":\"markers\",\"name\":\"winterfell\",\"scene\":\"scene\",\"showlegend\":true,\"x\":[0.3587421774864197],\"y\":[0.7088212966918945],\"z\":[0.13099496066570282],\"type\":\"scatter3d\"},{\"hovertemplate\":\"color=most\\u003cbr\\u003e0=%{x}\\u003cbr\\u003e1=%{y}\\u003cbr\\u003e2=%{z}\\u003cextra\\u003e\\u003c\\u002fextra\\u003e\",\"legendgroup\":\"most\",\"marker\":{\"color\":\"#FF6692\",\"symbol\":\"circle\"},\"mode\":\"markers\",\"name\":\"most\",\"scene\":\"scene\",\"showlegend\":true,\"x\":[0.5101297497749329],\"y\":[0.5642620325088501],\"z\":[-0.1823619157075882],\"type\":\"scatter3d\"},{\"hovertemplate\":\"color=hundred\\u003cbr\\u003e0=%{x}\\u003cbr\\u003e1=%{y}\\u003cbr\\u003e2=%{z}\\u003cextra\\u003e\\u003c\\u002fextra\\u003e\",\"legendgroup\":\"hundred\",\"marker\":{\"color\":\"#B6E880\",\"symbol\":\"circle\"},\"mode\":\"markers\",\"name\":\"hundred\",\"scene\":\"scene\",\"showlegend\":true,\"x\":[0.056552838534116745],\"y\":[0.6795671582221985],\"z\":[-0.29339101910591125],\"type\":\"scatter3d\"},{\"hovertemplate\":\"color=stood\\u003cbr\\u003e0=%{x}\\u003cbr\\u003e1=%{y}\\u003cbr\\u003e2=%{z}\\u003cextra\\u003e\\u003c\\u002fextra\\u003e\",\"legendgroup\":\"stood\",\"marker\":{\"color\":\"#FF97FF\",\"symbol\":\"circle\"},\"mode\":\"markers\",\"name\":\"stood\",\"scene\":\"scene\",\"showlegend\":true,\"x\":[-0.2361944317817688],\"y\":[0.3802667260169983],\"z\":[0.2503470778465271],\"type\":\"scatter3d\"},{\"hovertemplate\":\"color=end\\u003cbr\\u003e0=%{x}\\u003cbr\\u003e1=%{y}\\u003cbr\\u003e2=%{z}\\u003cextra\\u003e\\u003c\\u002fextra\\u003e\",\"legendgroup\":\"end\",\"marker\":{\"color\":\"#FECB52\",\"symbol\":\"circle\"},\"mode\":\"markers\",\"name\":\"end\",\"scene\":\"scene\",\"showlegend\":true,\"x\":[0.16473491489887238],\"y\":[0.7755182981491089],\"z\":[0.23639510571956635],\"type\":\"scatter3d\"},{\"hovertemplate\":\"color=sister\\u003cbr\\u003e0=%{x}\\u003cbr\\u003e1=%{y}\\u003cbr\\u003e2=%{z}\\u003cextra\\u003e\\u003c\\u002fextra\\u003e\",\"legendgroup\":\"sister\",\"marker\":{\"color\":\"#636efa\",\"symbol\":\"circle\"},\"mode\":\"markers\",\"name\":\"sister\",\"scene\":\"scene\",\"showlegend\":true,\"x\":[0.6345369815826416],\"y\":[0.3047877550125122],\"z\":[0.37836953997612],\"type\":\"scatter3d\"},{\"hovertemplate\":\"color=words\\u003cbr\\u003e0=%{x}\\u003cbr\\u003e1=%{y}\\u003cbr\\u003e2=%{z}\\u003cextra\\u003e\\u003c\\u002fextra\\u003e\",\"legendgroup\":\"words\",\"marker\":{\"color\":\"#EF553B\",\"symbol\":\"circle\"},\"mode\":\"markers\",\"name\":\"words\",\"scene\":\"scene\",\"showlegend\":true,\"x\":[0.34802332520484924],\"y\":[0.3317912518978119],\"z\":[0.41218075156211853],\"type\":\"scatter3d\"},{\"hovertemplate\":\"color=sea\\u003cbr\\u003e0=%{x}\\u003cbr\\u003e1=%{y}\\u003cbr\\u003e2=%{z}\\u003cextra\\u003e\\u003c\\u002fextra\\u003e\",\"legendgroup\":\"sea\",\"marker\":{\"color\":\"#00cc96\",\"symbol\":\"circle\"},\"mode\":\"markers\",\"name\":\"sea\",\"scene\":\"scene\",\"showlegend\":true,\"x\":[-0.05335540324449539],\"y\":[0.8289662599563599],\"z\":[-0.1667875051498413],\"type\":\"scatter3d\"},{\"hovertemplate\":\"color=right\\u003cbr\\u003e0=%{x}\\u003cbr\\u003e1=%{y}\\u003cbr\\u003e2=%{z}\\u003cextra\\u003e\\u003c\\u002fextra\\u003e\",\"legendgroup\":\"right\",\"marker\":{\"color\":\"#ab63fa\",\"symbol\":\"circle\"},\"mode\":\"markers\",\"name\":\"right\",\"scene\":\"scene\",\"showlegend\":true,\"x\":[-0.04945595562458038],\"y\":[0.4368380010128021],\"z\":[0.5577242374420166],\"type\":\"scatter3d\"},{\"hovertemplate\":\"color=nothing\\u003cbr\\u003e0=%{x}\\u003cbr\\u003e1=%{y}\\u003cbr\\u003e2=%{z}\\u003cextra\\u003e\\u003c\\u002fextra\\u003e\",\"legendgroup\":\"nothing\",\"marker\":{\"color\":\"#FFA15A\",\"symbol\":\"circle\"},\"mode\":\"markers\",\"name\":\"nothing\",\"scene\":\"scene\",\"showlegend\":true,\"x\":[0.28085705637931824],\"y\":[0.4325965940952301],\"z\":[0.26954424381256104],\"type\":\"scatter3d\"},{\"hovertemplate\":\"color=walls\\u003cbr\\u003e0=%{x}\\u003cbr\\u003e1=%{y}\\u003cbr\\u003e2=%{z}\\u003cextra\\u003e\\u003c\\u002fextra\\u003e\",\"legendgroup\":\"walls\",\"marker\":{\"color\":\"#19d3f3\",\"symbol\":\"circle\"},\"mode\":\"markers\",\"name\":\"walls\",\"scene\":\"scene\",\"showlegend\":true,\"x\":[-0.3617718815803528],\"y\":[0.8290918469429016],\"z\":[-0.17404673993587494],\"type\":\"scatter3d\"},{\"hovertemplate\":\"color=fingers\\u003cbr\\u003e0=%{x}\\u003cbr\\u003e1=%{y}\\u003cbr\\u003e2=%{z}\\u003cextra\\u003e\\u003c\\u002fextra\\u003e\",\"legendgroup\":\"fingers\",\"marker\":{\"color\":\"#FF6692\",\"symbol\":\"circle\"},\"mode\":\"markers\",\"name\":\"fingers\",\"scene\":\"scene\",\"showlegend\":true,\"x\":[-0.4150716960430145],\"y\":[0.22736722230911255],\"z\":[0.5940145254135132],\"type\":\"scatter3d\"},{\"hovertemplate\":\"color=same\\u003cbr\\u003e0=%{x}\\u003cbr\\u003e1=%{y}\\u003cbr\\u003e2=%{z}\\u003cextra\\u003e\\u003c\\u002fextra\\u003e\",\"legendgroup\":\"same\",\"marker\":{\"color\":\"#B6E880\",\"symbol\":\"circle\"},\"mode\":\"markers\",\"name\":\"same\",\"scene\":\"scene\",\"showlegend\":true,\"x\":[0.32743364572525024],\"y\":[0.4192277193069458],\"z\":[0.24523547291755676],\"type\":\"scatter3d\"},{\"hovertemplate\":\"color=cloak\\u003cbr\\u003e0=%{x}\\u003cbr\\u003e1=%{y}\\u003cbr\\u003e2=%{z}\\u003cextra\\u003e\\u003c\\u002fextra\\u003e\",\"legendgroup\":\"cloak\",\"marker\":{\"color\":\"#FF97FF\",\"symbol\":\"circle\"},\"mode\":\"markers\",\"name\":\"cloak\",\"scene\":\"scene\",\"showlegend\":true,\"x\":[-0.35030364990234375],\"y\":[0.19389750063419342],\"z\":[0.3727348744869232],\"type\":\"scatter3d\"},{\"hovertemplate\":\"color=house\\u003cbr\\u003e0=%{x}\\u003cbr\\u003e1=%{y}\\u003cbr\\u003e2=%{z}\\u003cextra\\u003e\\u003c\\u002fextra\\u003e\",\"legendgroup\":\"house\",\"marker\":{\"color\":\"#FECB52\",\"symbol\":\"circle\"},\"mode\":\"markers\",\"name\":\"house\",\"scene\":\"scene\",\"showlegend\":true,\"x\":[0.3483525812625885],\"y\":[0.43208029866218567],\"z\":[-0.13532468676567078],\"type\":\"scatter3d\"},{\"hovertemplate\":\"color=young\\u003cbr\\u003e0=%{x}\\u003cbr\\u003e1=%{y}\\u003cbr\\u003e2=%{z}\\u003cextra\\u003e\\u003c\\u002fextra\\u003e\",\"legendgroup\":\"young\",\"marker\":{\"color\":\"#636efa\",\"symbol\":\"circle\"},\"mode\":\"markers\",\"name\":\"young\",\"scene\":\"scene\",\"showlegend\":true,\"x\":[0.5208527445793152],\"y\":[0.17972201108932495],\"z\":[0.028584890067577362],\"type\":\"scatter3d\"},{\"hovertemplate\":\"color=beside\\u003cbr\\u003e0=%{x}\\u003cbr\\u003e1=%{y}\\u003cbr\\u003e2=%{z}\\u003cextra\\u003e\\u003c\\u002fextra\\u003e\",\"legendgroup\":\"beside\",\"marker\":{\"color\":\"#EF553B\",\"symbol\":\"circle\"},\"mode\":\"markers\",\"name\":\"beside\",\"scene\":\"scene\",\"showlegend\":true,\"x\":[-0.1925666183233261],\"y\":[0.3074369728565216],\"z\":[0.41121548414230347],\"type\":\"scatter3d\"},{\"hovertemplate\":\"color=does\\u003cbr\\u003e0=%{x}\\u003cbr\\u003e1=%{y}\\u003cbr\\u003e2=%{z}\\u003cextra\\u003e\\u003c\\u002fextra\\u003e\",\"legendgroup\":\"does\",\"marker\":{\"color\":\"#00cc96\",\"symbol\":\"circle\"},\"mode\":\"markers\",\"name\":\"does\",\"scene\":\"scene\",\"showlegend\":true,\"x\":[0.6520220041275024],\"y\":[0.26657238602638245],\"z\":[0.3537987768650055],\"type\":\"scatter3d\"},{\"hovertemplate\":\"color=get\\u003cbr\\u003e0=%{x}\\u003cbr\\u003e1=%{y}\\u003cbr\\u003e2=%{z}\\u003cextra\\u003e\\u003c\\u002fextra\\u003e\",\"legendgroup\":\"get\",\"marker\":{\"color\":\"#ab63fa\",\"symbol\":\"circle\"},\"mode\":\"markers\",\"name\":\"get\",\"scene\":\"scene\",\"showlegend\":true,\"x\":[0.25877252221107483],\"y\":[0.5375627279281616],\"z\":[0.6551498174667358],\"type\":\"scatter3d\"},{\"hovertemplate\":\"color=seven\\u003cbr\\u003e0=%{x}\\u003cbr\\u003e1=%{y}\\u003cbr\\u003e2=%{z}\\u003cextra\\u003e\\u003c\\u002fextra\\u003e\",\"legendgroup\":\"seven\",\"marker\":{\"color\":\"#FFA15A\",\"symbol\":\"circle\"},\"mode\":\"markers\",\"name\":\"seven\",\"scene\":\"scene\",\"showlegend\":true,\"x\":[0.382612943649292],\"y\":[0.753583550453186],\"z\":[-0.3580905795097351],\"type\":\"scatter3d\"},{\"hovertemplate\":\"color=mouth\\u003cbr\\u003e0=%{x}\\u003cbr\\u003e1=%{y}\\u003cbr\\u003e2=%{z}\\u003cextra\\u003e\\u003c\\u002fextra\\u003e\",\"legendgroup\":\"mouth\",\"marker\":{\"color\":\"#19d3f3\",\"symbol\":\"circle\"},\"mode\":\"markers\",\"name\":\"mouth\",\"scene\":\"scene\",\"showlegend\":true,\"x\":[-0.2561293840408325],\"y\":[0.14212466776371002],\"z\":[0.6644091010093689],\"type\":\"scatter3d\"},{\"hovertemplate\":\"color=watch\\u003cbr\\u003e0=%{x}\\u003cbr\\u003e1=%{y}\\u003cbr\\u003e2=%{z}\\u003cextra\\u003e\\u003c\\u002fextra\\u003e\",\"legendgroup\":\"watch\",\"marker\":{\"color\":\"#FF6692\",\"symbol\":\"circle\"},\"mode\":\"markers\",\"name\":\"watch\",\"scene\":\"scene\",\"showlegend\":true,\"x\":[0.38970527052879333],\"y\":[0.6209301352500916],\"z\":[0.05110286548733711],\"type\":\"scatter3d\"},{\"hovertemplate\":\"color=door\\u003cbr\\u003e0=%{x}\\u003cbr\\u003e1=%{y}\\u003cbr\\u003e2=%{z}\\u003cextra\\u003e\\u003c\\u002fextra\\u003e\",\"legendgroup\":\"door\",\"marker\":{\"color\":\"#B6E880\",\"symbol\":\"circle\"},\"mode\":\"markers\",\"name\":\"door\",\"scene\":\"scene\",\"showlegend\":true,\"x\":[-0.35598519444465637],\"y\":[0.4537782073020935],\"z\":[0.49661850929260254],\"type\":\"scatter3d\"},{\"hovertemplate\":\"color=joffrey\\u003cbr\\u003e0=%{x}\\u003cbr\\u003e1=%{y}\\u003cbr\\u003e2=%{z}\\u003cextra\\u003e\\u003c\\u002fextra\\u003e\",\"legendgroup\":\"joffrey\",\"marker\":{\"color\":\"#FF97FF\",\"symbol\":\"circle\"},\"mode\":\"markers\",\"name\":\"joffrey\",\"scene\":\"scene\",\"showlegend\":true,\"x\":[0.5502930283546448],\"y\":[0.2937181293964386],\"z\":[0.31670621037483215],\"type\":\"scatter3d\"},{\"hovertemplate\":\"color=green\\u003cbr\\u003e0=%{x}\\u003cbr\\u003e1=%{y}\\u003cbr\\u003e2=%{z}\\u003cextra\\u003e\\u003c\\u002fextra\\u003e\",\"legendgroup\":\"green\",\"marker\":{\"color\":\"#FECB52\",\"symbol\":\"circle\"},\"mode\":\"markers\",\"name\":\"green\",\"scene\":\"scene\",\"showlegend\":true,\"x\":[-0.3743759095668793],\"y\":[0.2911035716533661],\"z\":[-0.12305913865566254],\"type\":\"scatter3d\"},{\"hovertemplate\":\"color=big\\u003cbr\\u003e0=%{x}\\u003cbr\\u003e1=%{y}\\u003cbr\\u003e2=%{z}\\u003cextra\\u003e\\u003c\\u002fextra\\u003e\",\"legendgroup\":\"big\",\"marker\":{\"color\":\"#636efa\",\"symbol\":\"circle\"},\"mode\":\"markers\",\"name\":\"big\",\"scene\":\"scene\",\"showlegend\":true,\"x\":[-0.1802574098110199],\"y\":[0.06309245526790619],\"z\":[0.19946999847888947],\"type\":\"scatter3d\"},{\"hovertemplate\":\"color=under\\u003cbr\\u003e0=%{x}\\u003cbr\\u003e1=%{y}\\u003cbr\\u003e2=%{z}\\u003cextra\\u003e\\u003c\\u002fextra\\u003e\",\"legendgroup\":\"under\",\"marker\":{\"color\":\"#EF553B\",\"symbol\":\"circle\"},\"mode\":\"markers\",\"name\":\"under\",\"scene\":\"scene\",\"showlegend\":true,\"x\":[-0.5044366717338562],\"y\":[0.2258816659450531],\"z\":[0.3525855243206024],\"type\":\"scatter3d\"},{\"hovertemplate\":\"color=few\\u003cbr\\u003e0=%{x}\\u003cbr\\u003e1=%{y}\\u003cbr\\u003e2=%{z}\\u003cextra\\u003e\\u003c\\u002fextra\\u003e\",\"legendgroup\":\"few\",\"marker\":{\"color\":\"#00cc96\",\"symbol\":\"circle\"},\"mode\":\"markers\",\"name\":\"few\",\"scene\":\"scene\",\"showlegend\":true,\"x\":[0.01901898719370365],\"y\":[0.6047999858856201],\"z\":[-0.0590374656021595],\"type\":\"scatter3d\"},{\"hovertemplate\":\"color=sent\\u003cbr\\u003e0=%{x}\\u003cbr\\u003e1=%{y}\\u003cbr\\u003e2=%{z}\\u003cextra\\u003e\\u003c\\u002fextra\\u003e\",\"legendgroup\":\"sent\",\"marker\":{\"color\":\"#ab63fa\",\"symbol\":\"circle\"},\"mode\":\"markers\",\"name\":\"sent\",\"scene\":\"scene\",\"showlegend\":true,\"x\":[0.29880768060684204],\"y\":[0.4560621380805969],\"z\":[0.5021959543228149],\"type\":\"scatter3d\"},{\"hovertemplate\":\"color=perhaps\\u003cbr\\u003e0=%{x}\\u003cbr\\u003e1=%{y}\\u003cbr\\u003e2=%{z}\\u003cextra\\u003e\\u003c\\u002fextra\\u003e\",\"legendgroup\":\"perhaps\",\"marker\":{\"color\":\"#FFA15A\",\"symbol\":\"circle\"},\"mode\":\"markers\",\"name\":\"perhaps\",\"scene\":\"scene\",\"showlegend\":true,\"x\":[0.7330403327941895],\"y\":[0.4792538583278656],\"z\":[0.2967427968978882],\"type\":\"scatter3d\"},{\"hovertemplate\":\"color=almost\\u003cbr\\u003e0=%{x}\\u003cbr\\u003e1=%{y}\\u003cbr\\u003e2=%{z}\\u003cextra\\u003e\\u003c\\u002fextra\\u003e\",\"legendgroup\":\"almost\",\"marker\":{\"color\":\"#19d3f3\",\"symbol\":\"circle\"},\"mode\":\"markers\",\"name\":\"almost\",\"scene\":\"scene\",\"showlegend\":true,\"x\":[-0.16065582633018494],\"y\":[0.15944872796535492],\"z\":[0.4971707761287689],\"type\":\"scatter3d\"},{\"hovertemplate\":\"color=such\\u003cbr\\u003e0=%{x}\\u003cbr\\u003e1=%{y}\\u003cbr\\u003e2=%{z}\\u003cextra\\u003e\\u003c\\u002fextra\\u003e\",\"legendgroup\":\"such\",\"marker\":{\"color\":\"#FF6692\",\"symbol\":\"circle\"},\"mode\":\"markers\",\"name\":\"such\",\"scene\":\"scene\",\"showlegend\":true,\"x\":[0.7082169055938721],\"y\":[0.395099937915802],\"z\":[0.006775610148906708],\"type\":\"scatter3d\"},{\"hovertemplate\":\"color=wanted\\u003cbr\\u003e0=%{x}\\u003cbr\\u003e1=%{y}\\u003cbr\\u003e2=%{z}\\u003cextra\\u003e\\u003c\\u002fextra\\u003e\",\"legendgroup\":\"wanted\",\"marker\":{\"color\":\"#B6E880\",\"symbol\":\"circle\"},\"mode\":\"markers\",\"name\":\"wanted\",\"scene\":\"scene\",\"showlegend\":true,\"x\":[0.4978947341442108],\"y\":[0.2970668077468872],\"z\":[0.6611947417259216],\"type\":\"scatter3d\"},{\"hovertemplate\":\"color=true\\u003cbr\\u003e0=%{x}\\u003cbr\\u003e1=%{y}\\u003cbr\\u003e2=%{z}\\u003cextra\\u003e\\u003c\\u002fextra\\u003e\",\"legendgroup\":\"true\",\"marker\":{\"color\":\"#FF97FF\",\"symbol\":\"circle\"},\"mode\":\"markers\",\"name\":\"true\",\"scene\":\"scene\",\"showlegend\":true,\"x\":[0.75086909532547],\"y\":[0.3816780149936676],\"z\":[0.07772190123796463],\"type\":\"scatter3d\"},{\"hovertemplate\":\"color=daughter\\u003cbr\\u003e0=%{x}\\u003cbr\\u003e1=%{y}\\u003cbr\\u003e2=%{z}\\u003cextra\\u003e\\u003c\\u002fextra\\u003e\",\"legendgroup\":\"daughter\",\"marker\":{\"color\":\"#FECB52\",\"symbol\":\"circle\"},\"mode\":\"markers\",\"name\":\"daughter\",\"scene\":\"scene\",\"showlegend\":true,\"x\":[0.5707518458366394],\"y\":[0.20016998052597046],\"z\":[0.096392922103405],\"type\":\"scatter3d\"},{\"hovertemplate\":\"color=while\\u003cbr\\u003e0=%{x}\\u003cbr\\u003e1=%{y}\\u003cbr\\u003e2=%{z}\\u003cextra\\u003e\\u003c\\u002fextra\\u003e\",\"legendgroup\":\"while\",\"marker\":{\"color\":\"#636efa\",\"symbol\":\"circle\"},\"mode\":\"markers\",\"name\":\"while\",\"scene\":\"scene\",\"showlegend\":true,\"x\":[-0.2552559971809387],\"y\":[0.4512231945991516],\"z\":[0.28927165269851685],\"type\":\"scatter3d\"},{\"hovertemplate\":\"color=leave\\u003cbr\\u003e0=%{x}\\u003cbr\\u003e1=%{y}\\u003cbr\\u003e2=%{z}\\u003cextra\\u003e\\u003c\\u002fextra\\u003e\",\"legendgroup\":\"leave\",\"marker\":{\"color\":\"#EF553B\",\"symbol\":\"circle\"},\"mode\":\"markers\",\"name\":\"leave\",\"scene\":\"scene\",\"showlegend\":true,\"x\":[0.5172569751739502],\"y\":[0.6092697381973267],\"z\":[0.5374146103858948],\"type\":\"scatter3d\"},{\"hovertemplate\":\"color=city\\u003cbr\\u003e0=%{x}\\u003cbr\\u003e1=%{y}\\u003cbr\\u003e2=%{z}\\u003cextra\\u003e\\u003c\\u002fextra\\u003e\",\"legendgroup\":\"city\",\"marker\":{\"color\":\"#00cc96\",\"symbol\":\"circle\"},\"mode\":\"markers\",\"name\":\"city\",\"scene\":\"scene\",\"showlegend\":true,\"x\":[0.22991038858890533],\"y\":[0.9078172445297241],\"z\":[-0.19857440888881683],\"type\":\"scatter3d\"},{\"hovertemplate\":\"color=wind\\u003cbr\\u003e0=%{x}\\u003cbr\\u003e1=%{y}\\u003cbr\\u003e2=%{z}\\u003cextra\\u003e\\u003c\\u002fextra\\u003e\",\"legendgroup\":\"wind\",\"marker\":{\"color\":\"#ab63fa\",\"symbol\":\"circle\"},\"mode\":\"markers\",\"name\":\"wind\",\"scene\":\"scene\",\"showlegend\":true,\"x\":[-0.49784335494041443],\"y\":[0.5464767813682556],\"z\":[0.21120528876781464],\"type\":\"scatter3d\"},{\"hovertemplate\":\"color=light\\u003cbr\\u003e0=%{x}\\u003cbr\\u003e1=%{y}\\u003cbr\\u003e2=%{z}\\u003cextra\\u003e\\u003c\\u002fextra\\u003e\",\"legendgroup\":\"light\",\"marker\":{\"color\":\"#FFA15A\",\"symbol\":\"circle\"},\"mode\":\"markers\",\"name\":\"light\",\"scene\":\"scene\",\"showlegend\":true,\"x\":[-0.3269749581813812],\"y\":[0.5936083793640137],\"z\":[0.17867618799209595],\"type\":\"scatter3d\"},{\"hovertemplate\":\"color=arms\\u003cbr\\u003e0=%{x}\\u003cbr\\u003e1=%{y}\\u003cbr\\u003e2=%{z}\\u003cextra\\u003e\\u003c\\u002fextra\\u003e\",\"legendgroup\":\"arms\",\"marker\":{\"color\":\"#19d3f3\",\"symbol\":\"circle\"},\"mode\":\"markers\",\"name\":\"arms\",\"scene\":\"scene\",\"showlegend\":true,\"x\":[-0.15664859116077423],\"y\":[0.3434865176677704],\"z\":[0.37174907326698303],\"type\":\"scatter3d\"},{\"hovertemplate\":\"color=children\\u003cbr\\u003e0=%{x}\\u003cbr\\u003e1=%{y}\\u003cbr\\u003e2=%{z}\\u003cextra\\u003e\\u003c\\u002fextra\\u003e\",\"legendgroup\":\"children\",\"marker\":{\"color\":\"#FF6692\",\"symbol\":\"circle\"},\"mode\":\"markers\",\"name\":\"children\",\"scene\":\"scene\",\"showlegend\":true,\"x\":[0.4150368869304657],\"y\":[0.6625667810440063],\"z\":[-0.09711073338985443],\"type\":\"scatter3d\"},{\"hovertemplate\":\"color=herself\\u003cbr\\u003e0=%{x}\\u003cbr\\u003e1=%{y}\\u003cbr\\u003e2=%{z}\\u003cextra\\u003e\\u003c\\u002fextra\\u003e\",\"legendgroup\":\"herself\",\"marker\":{\"color\":\"#B6E880\",\"symbol\":\"circle\"},\"mode\":\"markers\",\"name\":\"herself\",\"scene\":\"scene\",\"showlegend\":true,\"x\":[0.13311195373535156],\"y\":[0.23178020119667053],\"z\":[0.46306341886520386],\"type\":\"scatter3d\"},{\"hovertemplate\":\"color=sweet\\u003cbr\\u003e0=%{x}\\u003cbr\\u003e1=%{y}\\u003cbr\\u003e2=%{z}\\u003cextra\\u003e\\u003c\\u002fextra\\u003e\",\"legendgroup\":\"sweet\",\"marker\":{\"color\":\"#FF97FF\",\"symbol\":\"circle\"},\"mode\":\"markers\",\"name\":\"sweet\",\"scene\":\"scene\",\"showlegend\":true,\"x\":[0.4869869351387024],\"y\":[0.044914986938238144],\"z\":[0.31820663809776306],\"type\":\"scatter3d\"},{\"hovertemplate\":\"color=others\\u003cbr\\u003e0=%{x}\\u003cbr\\u003e1=%{y}\\u003cbr\\u003e2=%{z}\\u003cextra\\u003e\\u003c\\u002fextra\\u003e\",\"legendgroup\":\"others\",\"marker\":{\"color\":\"#FECB52\",\"symbol\":\"circle\"},\"mode\":\"markers\",\"name\":\"others\",\"scene\":\"scene\",\"showlegend\":true,\"x\":[0.08010832965373993],\"y\":[0.6475217938423157],\"z\":[0.023905059322714806],\"type\":\"scatter3d\"},{\"hovertemplate\":\"color=lost\\u003cbr\\u003e0=%{x}\\u003cbr\\u003e1=%{y}\\u003cbr\\u003e2=%{z}\\u003cextra\\u003e\\u003c\\u002fextra\\u003e\",\"legendgroup\":\"lost\",\"marker\":{\"color\":\"#636efa\",\"symbol\":\"circle\"},\"mode\":\"markers\",\"name\":\"lost\",\"scene\":\"scene\",\"showlegend\":true,\"x\":[0.33643853664398193],\"y\":[0.47653353214263916],\"z\":[0.3090965747833252],\"type\":\"scatter3d\"},{\"hovertemplate\":\"color=theon\\u003cbr\\u003e0=%{x}\\u003cbr\\u003e1=%{y}\\u003cbr\\u003e2=%{z}\\u003cextra\\u003e\\u003c\\u002fextra\\u003e\",\"legendgroup\":\"theon\",\"marker\":{\"color\":\"#EF553B\",\"symbol\":\"circle\"},\"mode\":\"markers\",\"name\":\"theon\",\"scene\":\"scene\",\"showlegend\":true,\"x\":[0.2626194953918457],\"y\":[0.21384529769420624],\"z\":[0.3535443842411041],\"type\":\"scatter3d\"},{\"hovertemplate\":\"color=each\\u003cbr\\u003e0=%{x}\\u003cbr\\u003e1=%{y}\\u003cbr\\u003e2=%{z}\\u003cextra\\u003e\\u003c\\u002fextra\\u003e\",\"legendgroup\":\"each\",\"marker\":{\"color\":\"#00cc96\",\"symbol\":\"circle\"},\"mode\":\"markers\",\"name\":\"each\",\"scene\":\"scene\",\"showlegend\":true,\"x\":[-0.18765036761760712],\"y\":[0.5542532801628113],\"z\":[0.044859521090984344],\"type\":\"scatter3d\"},{\"hovertemplate\":\"color=felt\\u003cbr\\u003e0=%{x}\\u003cbr\\u003e1=%{y}\\u003cbr\\u003e2=%{z}\\u003cextra\\u003e\\u003c\\u002fextra\\u003e\",\"legendgroup\":\"felt\",\"marker\":{\"color\":\"#ab63fa\",\"symbol\":\"circle\"},\"mode\":\"markers\",\"name\":\"felt\",\"scene\":\"scene\",\"showlegend\":true,\"x\":[-0.0961456447839737],\"y\":[0.1470150500535965],\"z\":[0.6733009219169617],\"type\":\"scatter3d\"},{\"hovertemplate\":\"color=side\\u003cbr\\u003e0=%{x}\\u003cbr\\u003e1=%{y}\\u003cbr\\u003e2=%{z}\\u003cextra\\u003e\\u003c\\u002fextra\\u003e\",\"legendgroup\":\"side\",\"marker\":{\"color\":\"#FFA15A\",\"symbol\":\"circle\"},\"mode\":\"markers\",\"name\":\"side\",\"scene\":\"scene\",\"showlegend\":true,\"x\":[-0.23429329693317413],\"y\":[0.627673327922821],\"z\":[0.34781792759895325],\"type\":\"scatter3d\"},{\"hovertemplate\":\"color=yes\\u003cbr\\u003e0=%{x}\\u003cbr\\u003e1=%{y}\\u003cbr\\u003e2=%{z}\\u003cextra\\u003e\\u003c\\u002fextra\\u003e\",\"legendgroup\":\"yes\",\"marker\":{\"color\":\"#19d3f3\",\"symbol\":\"circle\"},\"mode\":\"markers\",\"name\":\"yes\",\"scene\":\"scene\",\"showlegend\":true,\"x\":[0.774659276008606],\"y\":[0.16825707256793976],\"z\":[0.339856892824173],\"type\":\"scatter3d\"},{\"hovertemplate\":\"color=brothers\\u003cbr\\u003e0=%{x}\\u003cbr\\u003e1=%{y}\\u003cbr\\u003e2=%{z}\\u003cextra\\u003e\\u003c\\u002fextra\\u003e\",\"legendgroup\":\"brothers\",\"marker\":{\"color\":\"#FF6692\",\"symbol\":\"circle\"},\"mode\":\"markers\",\"name\":\"brothers\",\"scene\":\"scene\",\"showlegend\":true,\"x\":[0.34125033020973206],\"y\":[0.6712085604667664],\"z\":[-0.007273647002875805],\"type\":\"scatter3d\"},{\"hovertemplate\":\"color=best\\u003cbr\\u003e0=%{x}\\u003cbr\\u003e1=%{y}\\u003cbr\\u003e2=%{z}\\u003cextra\\u003e\\u003c\\u002fextra\\u003e\",\"legendgroup\":\"best\",\"marker\":{\"color\":\"#B6E880\",\"symbol\":\"circle\"},\"mode\":\"markers\",\"name\":\"best\",\"scene\":\"scene\",\"showlegend\":true,\"x\":[0.5865037441253662],\"y\":[0.6376656889915466],\"z\":[0.28848057985305786],\"type\":\"scatter3d\"},{\"hovertemplate\":\"color=very\\u003cbr\\u003e0=%{x}\\u003cbr\\u003e1=%{y}\\u003cbr\\u003e2=%{z}\\u003cextra\\u003e\\u003c\\u002fextra\\u003e\",\"legendgroup\":\"very\",\"marker\":{\"color\":\"#FF97FF\",\"symbol\":\"circle\"},\"mode\":\"markers\",\"name\":\"very\",\"scene\":\"scene\",\"showlegend\":true,\"x\":[0.4310442805290222],\"y\":[0.21929585933685303],\"z\":[0.17099930346012115],\"type\":\"scatter3d\"},{\"hovertemplate\":\"color=die\\u003cbr\\u003e0=%{x}\\u003cbr\\u003e1=%{y}\\u003cbr\\u003e2=%{z}\\u003cextra\\u003e\\u003c\\u002fextra\\u003e\",\"legendgroup\":\"die\",\"marker\":{\"color\":\"#FECB52\",\"symbol\":\"circle\"},\"mode\":\"markers\",\"name\":\"die\",\"scene\":\"scene\",\"showlegend\":true,\"x\":[0.5461663007736206],\"y\":[0.6297674179077148],\"z\":[0.4287593960762024],\"type\":\"scatter3d\"}],                        {\"template\":{\"data\":{\"histogram2dcontour\":[{\"type\":\"histogram2dcontour\",\"colorbar\":{\"outlinewidth\":0,\"ticks\":\"\"},\"colorscale\":[[0.0,\"#0d0887\"],[0.1111111111111111,\"#46039f\"],[0.2222222222222222,\"#7201a8\"],[0.3333333333333333,\"#9c179e\"],[0.4444444444444444,\"#bd3786\"],[0.5555555555555556,\"#d8576b\"],[0.6666666666666666,\"#ed7953\"],[0.7777777777777778,\"#fb9f3a\"],[0.8888888888888888,\"#fdca26\"],[1.0,\"#f0f921\"]]}],\"choropleth\":[{\"type\":\"choropleth\",\"colorbar\":{\"outlinewidth\":0,\"ticks\":\"\"}}],\"histogram2d\":[{\"type\":\"histogram2d\",\"colorbar\":{\"outlinewidth\":0,\"ticks\":\"\"},\"colorscale\":[[0.0,\"#0d0887\"],[0.1111111111111111,\"#46039f\"],[0.2222222222222222,\"#7201a8\"],[0.3333333333333333,\"#9c179e\"],[0.4444444444444444,\"#bd3786\"],[0.5555555555555556,\"#d8576b\"],[0.6666666666666666,\"#ed7953\"],[0.7777777777777778,\"#fb9f3a\"],[0.8888888888888888,\"#fdca26\"],[1.0,\"#f0f921\"]]}],\"heatmap\":[{\"type\":\"heatmap\",\"colorbar\":{\"outlinewidth\":0,\"ticks\":\"\"},\"colorscale\":[[0.0,\"#0d0887\"],[0.1111111111111111,\"#46039f\"],[0.2222222222222222,\"#7201a8\"],[0.3333333333333333,\"#9c179e\"],[0.4444444444444444,\"#bd3786\"],[0.5555555555555556,\"#d8576b\"],[0.6666666666666666,\"#ed7953\"],[0.7777777777777778,\"#fb9f3a\"],[0.8888888888888888,\"#fdca26\"],[1.0,\"#f0f921\"]]}],\"heatmapgl\":[{\"type\":\"heatmapgl\",\"colorbar\":{\"outlinewidth\":0,\"ticks\":\"\"},\"colorscale\":[[0.0,\"#0d0887\"],[0.1111111111111111,\"#46039f\"],[0.2222222222222222,\"#7201a8\"],[0.3333333333333333,\"#9c179e\"],[0.4444444444444444,\"#bd3786\"],[0.5555555555555556,\"#d8576b\"],[0.6666666666666666,\"#ed7953\"],[0.7777777777777778,\"#fb9f3a\"],[0.8888888888888888,\"#fdca26\"],[1.0,\"#f0f921\"]]}],\"contourcarpet\":[{\"type\":\"contourcarpet\",\"colorbar\":{\"outlinewidth\":0,\"ticks\":\"\"}}],\"contour\":[{\"type\":\"contour\",\"colorbar\":{\"outlinewidth\":0,\"ticks\":\"\"},\"colorscale\":[[0.0,\"#0d0887\"],[0.1111111111111111,\"#46039f\"],[0.2222222222222222,\"#7201a8\"],[0.3333333333333333,\"#9c179e\"],[0.4444444444444444,\"#bd3786\"],[0.5555555555555556,\"#d8576b\"],[0.6666666666666666,\"#ed7953\"],[0.7777777777777778,\"#fb9f3a\"],[0.8888888888888888,\"#fdca26\"],[1.0,\"#f0f921\"]]}],\"surface\":[{\"type\":\"surface\",\"colorbar\":{\"outlinewidth\":0,\"ticks\":\"\"},\"colorscale\":[[0.0,\"#0d0887\"],[0.1111111111111111,\"#46039f\"],[0.2222222222222222,\"#7201a8\"],[0.3333333333333333,\"#9c179e\"],[0.4444444444444444,\"#bd3786\"],[0.5555555555555556,\"#d8576b\"],[0.6666666666666666,\"#ed7953\"],[0.7777777777777778,\"#fb9f3a\"],[0.8888888888888888,\"#fdca26\"],[1.0,\"#f0f921\"]]}],\"mesh3d\":[{\"type\":\"mesh3d\",\"colorbar\":{\"outlinewidth\":0,\"ticks\":\"\"}}],\"scatter\":[{\"fillpattern\":{\"fillmode\":\"overlay\",\"size\":10,\"solidity\":0.2},\"type\":\"scatter\"}],\"parcoords\":[{\"type\":\"parcoords\",\"line\":{\"colorbar\":{\"outlinewidth\":0,\"ticks\":\"\"}}}],\"scatterpolargl\":[{\"type\":\"scatterpolargl\",\"marker\":{\"colorbar\":{\"outlinewidth\":0,\"ticks\":\"\"}}}],\"bar\":[{\"error_x\":{\"color\":\"#2a3f5f\"},\"error_y\":{\"color\":\"#2a3f5f\"},\"marker\":{\"line\":{\"color\":\"#E5ECF6\",\"width\":0.5},\"pattern\":{\"fillmode\":\"overlay\",\"size\":10,\"solidity\":0.2}},\"type\":\"bar\"}],\"scattergeo\":[{\"type\":\"scattergeo\",\"marker\":{\"colorbar\":{\"outlinewidth\":0,\"ticks\":\"\"}}}],\"scatterpolar\":[{\"type\":\"scatterpolar\",\"marker\":{\"colorbar\":{\"outlinewidth\":0,\"ticks\":\"\"}}}],\"histogram\":[{\"marker\":{\"pattern\":{\"fillmode\":\"overlay\",\"size\":10,\"solidity\":0.2}},\"type\":\"histogram\"}],\"scattergl\":[{\"type\":\"scattergl\",\"marker\":{\"colorbar\":{\"outlinewidth\":0,\"ticks\":\"\"}}}],\"scatter3d\":[{\"type\":\"scatter3d\",\"line\":{\"colorbar\":{\"outlinewidth\":0,\"ticks\":\"\"}},\"marker\":{\"colorbar\":{\"outlinewidth\":0,\"ticks\":\"\"}}}],\"scattermapbox\":[{\"type\":\"scattermapbox\",\"marker\":{\"colorbar\":{\"outlinewidth\":0,\"ticks\":\"\"}}}],\"scatterternary\":[{\"type\":\"scatterternary\",\"marker\":{\"colorbar\":{\"outlinewidth\":0,\"ticks\":\"\"}}}],\"scattercarpet\":[{\"type\":\"scattercarpet\",\"marker\":{\"colorbar\":{\"outlinewidth\":0,\"ticks\":\"\"}}}],\"carpet\":[{\"aaxis\":{\"endlinecolor\":\"#2a3f5f\",\"gridcolor\":\"white\",\"linecolor\":\"white\",\"minorgridcolor\":\"white\",\"startlinecolor\":\"#2a3f5f\"},\"baxis\":{\"endlinecolor\":\"#2a3f5f\",\"gridcolor\":\"white\",\"linecolor\":\"white\",\"minorgridcolor\":\"white\",\"startlinecolor\":\"#2a3f5f\"},\"type\":\"carpet\"}],\"table\":[{\"cells\":{\"fill\":{\"color\":\"#EBF0F8\"},\"line\":{\"color\":\"white\"}},\"header\":{\"fill\":{\"color\":\"#C8D4E3\"},\"line\":{\"color\":\"white\"}},\"type\":\"table\"}],\"barpolar\":[{\"marker\":{\"line\":{\"color\":\"#E5ECF6\",\"width\":0.5},\"pattern\":{\"fillmode\":\"overlay\",\"size\":10,\"solidity\":0.2}},\"type\":\"barpolar\"}],\"pie\":[{\"automargin\":true,\"type\":\"pie\"}]},\"layout\":{\"autotypenumbers\":\"strict\",\"colorway\":[\"#636efa\",\"#EF553B\",\"#00cc96\",\"#ab63fa\",\"#FFA15A\",\"#19d3f3\",\"#FF6692\",\"#B6E880\",\"#FF97FF\",\"#FECB52\"],\"font\":{\"color\":\"#2a3f5f\"},\"hovermode\":\"closest\",\"hoverlabel\":{\"align\":\"left\"},\"paper_bgcolor\":\"white\",\"plot_bgcolor\":\"#E5ECF6\",\"polar\":{\"bgcolor\":\"#E5ECF6\",\"angularaxis\":{\"gridcolor\":\"white\",\"linecolor\":\"white\",\"ticks\":\"\"},\"radialaxis\":{\"gridcolor\":\"white\",\"linecolor\":\"white\",\"ticks\":\"\"}},\"ternary\":{\"bgcolor\":\"#E5ECF6\",\"aaxis\":{\"gridcolor\":\"white\",\"linecolor\":\"white\",\"ticks\":\"\"},\"baxis\":{\"gridcolor\":\"white\",\"linecolor\":\"white\",\"ticks\":\"\"},\"caxis\":{\"gridcolor\":\"white\",\"linecolor\":\"white\",\"ticks\":\"\"}},\"coloraxis\":{\"colorbar\":{\"outlinewidth\":0,\"ticks\":\"\"}},\"colorscale\":{\"sequential\":[[0.0,\"#0d0887\"],[0.1111111111111111,\"#46039f\"],[0.2222222222222222,\"#7201a8\"],[0.3333333333333333,\"#9c179e\"],[0.4444444444444444,\"#bd3786\"],[0.5555555555555556,\"#d8576b\"],[0.6666666666666666,\"#ed7953\"],[0.7777777777777778,\"#fb9f3a\"],[0.8888888888888888,\"#fdca26\"],[1.0,\"#f0f921\"]],\"sequentialminus\":[[0.0,\"#0d0887\"],[0.1111111111111111,\"#46039f\"],[0.2222222222222222,\"#7201a8\"],[0.3333333333333333,\"#9c179e\"],[0.4444444444444444,\"#bd3786\"],[0.5555555555555556,\"#d8576b\"],[0.6666666666666666,\"#ed7953\"],[0.7777777777777778,\"#fb9f3a\"],[0.8888888888888888,\"#fdca26\"],[1.0,\"#f0f921\"]],\"diverging\":[[0,\"#8e0152\"],[0.1,\"#c51b7d\"],[0.2,\"#de77ae\"],[0.3,\"#f1b6da\"],[0.4,\"#fde0ef\"],[0.5,\"#f7f7f7\"],[0.6,\"#e6f5d0\"],[0.7,\"#b8e186\"],[0.8,\"#7fbc41\"],[0.9,\"#4d9221\"],[1,\"#276419\"]]},\"xaxis\":{\"gridcolor\":\"white\",\"linecolor\":\"white\",\"ticks\":\"\",\"title\":{\"standoff\":15},\"zerolinecolor\":\"white\",\"automargin\":true,\"zerolinewidth\":2},\"yaxis\":{\"gridcolor\":\"white\",\"linecolor\":\"white\",\"ticks\":\"\",\"title\":{\"standoff\":15},\"zerolinecolor\":\"white\",\"automargin\":true,\"zerolinewidth\":2},\"scene\":{\"xaxis\":{\"backgroundcolor\":\"#E5ECF6\",\"gridcolor\":\"white\",\"linecolor\":\"white\",\"showbackground\":true,\"ticks\":\"\",\"zerolinecolor\":\"white\",\"gridwidth\":2},\"yaxis\":{\"backgroundcolor\":\"#E5ECF6\",\"gridcolor\":\"white\",\"linecolor\":\"white\",\"showbackground\":true,\"ticks\":\"\",\"zerolinecolor\":\"white\",\"gridwidth\":2},\"zaxis\":{\"backgroundcolor\":\"#E5ECF6\",\"gridcolor\":\"white\",\"linecolor\":\"white\",\"showbackground\":true,\"ticks\":\"\",\"zerolinecolor\":\"white\",\"gridwidth\":2}},\"shapedefaults\":{\"line\":{\"color\":\"#2a3f5f\"}},\"annotationdefaults\":{\"arrowcolor\":\"#2a3f5f\",\"arrowhead\":0,\"arrowwidth\":1},\"geo\":{\"bgcolor\":\"white\",\"landcolor\":\"#E5ECF6\",\"subunitcolor\":\"white\",\"showland\":true,\"showlakes\":true,\"lakecolor\":\"white\"},\"title\":{\"x\":0.05},\"mapbox\":{\"style\":\"light\"}}},\"scene\":{\"domain\":{\"x\":[0.0,1.0],\"y\":[0.0,1.0]},\"xaxis\":{\"title\":{\"text\":\"0\"}},\"yaxis\":{\"title\":{\"text\":\"1\"}},\"zaxis\":{\"title\":{\"text\":\"2\"}}},\"legend\":{\"title\":{\"text\":\"color\"},\"tracegroupgap\":0},\"margin\":{\"t\":60}},                        {\"responsive\": true}                    ).then(function(){\n",
              "                            \n",
              "var gd = document.getElementById('4609132b-b3a0-4f44-ac16-15c625ae3091');\n",
              "var x = new MutationObserver(function (mutations, observer) {{\n",
              "        var display = window.getComputedStyle(gd).display;\n",
              "        if (!display || display === 'none') {{\n",
              "            console.log([gd, 'removed!']);\n",
              "            Plotly.purge(gd);\n",
              "            observer.disconnect();\n",
              "        }}\n",
              "}});\n",
              "\n",
              "// Listen for the removal of the full notebook cells\n",
              "var notebookContainer = gd.closest('#notebook-container');\n",
              "if (notebookContainer) {{\n",
              "    x.observe(notebookContainer, {childList: true});\n",
              "}}\n",
              "\n",
              "// Listen for the clearing of the current output cell\n",
              "var outputEl = gd.closest('.output');\n",
              "if (outputEl) {{\n",
              "    x.observe(outputEl, {childList: true});\n",
              "}}\n",
              "\n",
              "                        })                };                            </script>        </div>\n",
              "</body>\n",
              "</html>"
            ]
          },
          "metadata": {}
        }
      ]
    },
    {
      "cell_type": "code",
      "source": [],
      "metadata": {
        "id": "zxfQ8w_SA7T8"
      },
      "execution_count": null,
      "outputs": []
    }
  ]
}