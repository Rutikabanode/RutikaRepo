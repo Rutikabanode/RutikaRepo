{
  "nbformat": 4,
  "nbformat_minor": 0,
  "metadata": {
    "colab": {
      "provenance": [],
      "gpuType": "T4"
    },
    "kernelspec": {
      "name": "python3",
      "display_name": "Python 3"
    },
    "language_info": {
      "name": "python"
    },
    "accelerator": "GPU"
  },
  "cells": [
    {
      "cell_type": "markdown",
      "source": [
        "1. llamaindex framework\n",
        "2. Lancedb\n",
        "3. LLM model(GPT-4V)\n",
        "4. GEMINI-PRO-VISION"
      ],
      "metadata": {
        "id": "uTcFXUVl76Li"
      }
    },
    {
      "cell_type": "markdown",
      "source": [
        "Steps:\n",
        "1. Download video from YouTube, process and store it.\n",
        "\n",
        "2. Build Multi-Modal index and vector store for both texts and images.\n",
        "\n",
        "3. Retrieve relevant images and context, use both to augment the prompt.\n",
        "\n",
        "4. Using GPT4V for reasoning the correlations between the input query and augmented data and generating final response."
      ],
      "metadata": {
        "id": "M2QcYrOH_aLn"
      }
    },
    {
      "cell_type": "code",
      "execution_count": null,
      "metadata": {
        "id": "OAsuGoD57sPC"
      },
      "outputs": [],
      "source": [
        "%pip install llama-index-vector-stores-lancedb\n",
        "%pip install llama-index-multi-modal-llms-openai"
      ]
    },
    {
      "cell_type": "code",
      "source": [
        "#%pip install llama-index-multi-modal-llms-openai\n",
        "#%pip install llama-index-vector-stores-lancedb\n",
        "%pip install llama-index-embeddings-clip"
      ],
      "metadata": {
        "id": "R6wIq_e8AXua"
      },
      "execution_count": null,
      "outputs": []
    },
    {
      "cell_type": "code",
      "source": [
        "%pip install llama_index ftfy regex tqdm\n",
        "%pip install -U openai-whisper\n",
        "%pip install git+https://github.com/openai/CLIP.git\n",
        "%pip install torch torchvision\n",
        "%pip install matplotlib scikit-image\n",
        "%pip install lancedb\n",
        "%pip install moviepy\n",
        "%pip install pytube\n",
        "%pip install pydub\n",
        "%pip install SpeechRecognition\n",
        "%pip install ffmpeg-python\n",
        "%pip install soundfile"
      ],
      "metadata": {
        "id": "NwSkX7yVA7D9"
      },
      "execution_count": null,
      "outputs": []
    },
    {
      "cell_type": "code",
      "source": [
        "from moviepy.editor import VideoFileClip\n",
        "from pathlib import Path\n",
        "import speech_recognition as sr\n",
        "from pytube import YouTube\n",
        "from pprint import pprint"
      ],
      "metadata": {
        "id": "Y2keTnMeBVtH"
      },
      "execution_count": null,
      "outputs": []
    },
    {
      "cell_type": "code",
      "source": [
        "from google.colab import userdata\n",
        "OPENAI_API_TOKEN=userdata.get('OPENAI_API_KEY')"
      ],
      "metadata": {
        "id": "lmthLkvMChQS"
      },
      "execution_count": null,
      "outputs": []
    },
    {
      "cell_type": "code",
      "source": [
        "import os\n",
        "os.environ[\"OPENAI_API_KEY\"] = OPENAI_API_TOKEN"
      ],
      "metadata": {
        "id": "9ap37E5eDqEL"
      },
      "execution_count": null,
      "outputs": []
    },
    {
      "cell_type": "code",
      "source": [
        "from PIL import Image\n",
        "import matplotlib.pyplot as plt"
      ],
      "metadata": {
        "id": "0lGPRPxPDy_J"
      },
      "execution_count": null,
      "outputs": []
    },
    {
      "cell_type": "code",
      "source": [
        "import os\n",
        "os.getcwd()"
      ],
      "metadata": {
        "colab": {
          "base_uri": "https://localhost:8080/",
          "height": 35
        },
        "id": "qQB_g8nQGWtA",
        "outputId": "2918aa61-42ff-43a8-ea57-bc53b5ad44b7"
      },
      "execution_count": null,
      "outputs": [
        {
          "output_type": "execute_result",
          "data": {
            "text/plain": [
              "'/content'"
            ],
            "application/vnd.google.colaboratory.intrinsic+json": {
              "type": "string"
            }
          },
          "metadata": {},
          "execution_count": 13
        }
      ]
    },
    {
      "cell_type": "code",
      "source": [
        "video_url=\"https://youtu.be/3dhcmeOTZ_Q\"\n",
        "output_video_path = \"/content/video_data/\"\n",
        "output_folder = \"/content/mixed_data/\"\n",
        "output_audio_path = \"/content/mixed_data/output_audio.wav\""
      ],
      "metadata": {
        "id": "kmX07RnNF6F5"
      },
      "execution_count": null,
      "outputs": []
    },
    {
      "cell_type": "code",
      "source": [
        "filepath=output_video_path + \"input_vid.mp4\""
      ],
      "metadata": {
        "id": "-DhH97a0G3Ll"
      },
      "execution_count": null,
      "outputs": []
    },
    {
      "cell_type": "code",
      "source": [
        "filepath"
      ],
      "metadata": {
        "colab": {
          "base_uri": "https://localhost:8080/",
          "height": 35
        },
        "id": "UhGYQ3zmHjCJ",
        "outputId": "661d1a8b-cabd-46d3-cb84-00841fe24156"
      },
      "execution_count": null,
      "outputs": [
        {
          "output_type": "execute_result",
          "data": {
            "text/plain": [
              "'/content/video_data/input_vid.mp4'"
            ],
            "application/vnd.google.colaboratory.intrinsic+json": {
              "type": "string"
            }
          },
          "metadata": {},
          "execution_count": 59
        }
      ]
    },
    {
      "cell_type": "code",
      "source": [
        "#filepath = output_video_path + \"input_vid.mp4\"\n",
        "#Path(output_folder).mkdir(parents=True, exist_ok=True)"
      ],
      "metadata": {
        "id": "lH_PgqOsNfgH"
      },
      "execution_count": null,
      "outputs": []
    },
    {
      "cell_type": "code",
      "source": [
        "#Path(filepath).mkdir(parents=True,exist_ok=True)"
      ],
      "metadata": {
        "id": "HjIRbvJPHEZ_"
      },
      "execution_count": null,
      "outputs": []
    },
    {
      "cell_type": "code",
      "source": [
        "def plot_images(images_path):\n",
        "  pass"
      ],
      "metadata": {
        "id": "LKHUF4Q0ENJU"
      },
      "execution_count": null,
      "outputs": []
    },
    {
      "cell_type": "code",
      "source": [
        "from pytube import YouTube\n",
        "def download_video(url,output_path):\n",
        "  yt = YouTube(url)\n",
        "  metadata = {\"Author\": yt.author, \"Title\": yt.title, \"Views\": yt.views}\n",
        "  yt.streams.get_highest_resolution().download(\n",
        "        output_path=output_path, filename=\"input_vid.mp4\"\n",
        "    )\n",
        "  return metadata"
      ],
      "metadata": {
        "id": "24d4PPpPEVaQ"
      },
      "execution_count": null,
      "outputs": []
    },
    {
      "cell_type": "markdown",
      "source": [],
      "metadata": {
        "id": "EjeMcQfEI4tF"
      }
    },
    {
      "cell_type": "code",
      "source": [
        "from moviepy.editor import VideoFileClip\n",
        "def video_to_images(video_path,output_flder):\n",
        "  clip=VideoFileClip(video_path)\n",
        "  clip.write_images_sequence(\n",
        "      os.path.join(output_folder,\"frame%04d.png\"),fps=0.2\n",
        "  )"
      ],
      "metadata": {
        "id": "SxcZxu2kEgnm"
      },
      "execution_count": null,
      "outputs": []
    },
    {
      "cell_type": "code",
      "source": [
        "def video_to_audio(video_path,output_audio_path):\n",
        "  clip=VideoFileClip(video_path)\n",
        "  audio=clip.audio\n",
        "  audio.write_audiofile(output_audio_path)\n"
      ],
      "metadata": {
        "id": "xpVSgmxwEm7n"
      },
      "execution_count": null,
      "outputs": []
    },
    {
      "cell_type": "code",
      "source": [
        "def audio_to_text(audio_path):\n",
        "  recognizer=sr.Recognizer()\n",
        "  audio=sr.AudioFile(audio_path)\n",
        "\n",
        "  with audio as source:\n",
        "    audio_data=recognizer.record(source)\n",
        "\n",
        "    try:\n",
        "\n",
        "      #recognize the speech\n",
        "      text = recognizer.recognize_whisper(audio_data)\n",
        "\n",
        "    except sr.UnknownValueError:\n",
        "      print(\"Speech recognition could not understand the audio.\")\n",
        "  return text\n",
        "\n"
      ],
      "metadata": {
        "id": "Ta1Dg7kFEt_L"
      },
      "execution_count": null,
      "outputs": []
    },
    {
      "cell_type": "code",
      "source": [
        "video_url"
      ],
      "metadata": {
        "colab": {
          "base_uri": "https://localhost:8080/",
          "height": 35
        },
        "id": "ngE6B1nSMx8H",
        "outputId": "3a724991-c672-44dd-bbf9-80466bdf0ff6"
      },
      "execution_count": null,
      "outputs": [
        {
          "output_type": "execute_result",
          "data": {
            "text/plain": [
              "'https://youtu.be/3dhcmeOTZ_Q'"
            ],
            "application/vnd.google.colaboratory.intrinsic+json": {
              "type": "string"
            }
          },
          "metadata": {},
          "execution_count": 33
        }
      ]
    },
    {
      "cell_type": "code",
      "source": [
        "output_video_path"
      ],
      "metadata": {
        "colab": {
          "base_uri": "https://localhost:8080/",
          "height": 35
        },
        "id": "gUv75rWcM0Do",
        "outputId": "88ff7609-7350-4329-862f-7b87edcf92c6"
      },
      "execution_count": null,
      "outputs": [
        {
          "output_type": "execute_result",
          "data": {
            "text/plain": [
              "'/content/video_data/'"
            ],
            "application/vnd.google.colaboratory.intrinsic+json": {
              "type": "string"
            }
          },
          "metadata": {},
          "execution_count": 87
        }
      ]
    },
    {
      "cell_type": "code",
      "source": [
        "metadata_vid = download_video(video_url, output_video_path)"
      ],
      "metadata": {
        "id": "Ud8qttH3E-1B"
      },
      "execution_count": null,
      "outputs": []
    },
    {
      "cell_type": "code",
      "source": [
        "metadata_vid"
      ],
      "metadata": {
        "colab": {
          "base_uri": "https://localhost:8080/"
        },
        "id": "cAnP0dakOFvi",
        "outputId": "0a859888-de76-4e5d-d3b2-3c3ff482be92"
      },
      "execution_count": null,
      "outputs": [
        {
          "output_type": "execute_result",
          "data": {
            "text/plain": [
              "{'Author': '3-Minute Data Science',\n",
              " 'Title': 'Linear Regression in 3 Minutes',\n",
              " 'Views': 7121}"
            ]
          },
          "metadata": {},
          "execution_count": 62
        }
      ]
    },
    {
      "cell_type": "code",
      "source": [
        "filepath"
      ],
      "metadata": {
        "colab": {
          "base_uri": "https://localhost:8080/",
          "height": 35
        },
        "id": "gN-zZjTBOSWV",
        "outputId": "2ac6cdc1-4fd0-45ca-b9d6-ab3cda561f2a"
      },
      "execution_count": null,
      "outputs": [
        {
          "output_type": "execute_result",
          "data": {
            "text/plain": [
              "'/content/video_data/input_vid.mp4'"
            ],
            "application/vnd.google.colaboratory.intrinsic+json": {
              "type": "string"
            }
          },
          "metadata": {},
          "execution_count": 63
        }
      ]
    },
    {
      "cell_type": "code",
      "source": [
        "output_folder"
      ],
      "metadata": {
        "colab": {
          "base_uri": "https://localhost:8080/",
          "height": 35
        },
        "id": "Gc1hUebpOVQj",
        "outputId": "47903177-18a5-4b96-b1f8-b77a23630daf"
      },
      "execution_count": null,
      "outputs": [
        {
          "output_type": "execute_result",
          "data": {
            "text/plain": [
              "'/content/mixed_data/'"
            ],
            "application/vnd.google.colaboratory.intrinsic+json": {
              "type": "string"
            }
          },
          "metadata": {},
          "execution_count": 64
        }
      ]
    },
    {
      "cell_type": "code",
      "source": [
        "!mkdir mixed_data"
      ],
      "metadata": {
        "id": "6G5EqofoPfzX"
      },
      "execution_count": null,
      "outputs": []
    },
    {
      "cell_type": "code",
      "source": [
        "filepath"
      ],
      "metadata": {
        "colab": {
          "base_uri": "https://localhost:8080/",
          "height": 35
        },
        "id": "h75pp_KcSkxJ",
        "outputId": "3179c596-e824-428c-c173-35759d6ab37a"
      },
      "execution_count": null,
      "outputs": [
        {
          "output_type": "execute_result",
          "data": {
            "text/plain": [
              "'/content/video_data/input_vid.mp4'"
            ],
            "application/vnd.google.colaboratory.intrinsic+json": {
              "type": "string"
            }
          },
          "metadata": {},
          "execution_count": 89
        }
      ]
    },
    {
      "cell_type": "code",
      "source": [
        "output_folder"
      ],
      "metadata": {
        "colab": {
          "base_uri": "https://localhost:8080/",
          "height": 35
        },
        "id": "t5c3EeX-SoDv",
        "outputId": "1e090121-efa6-41a9-8f16-1558f9611ff6"
      },
      "execution_count": null,
      "outputs": [
        {
          "output_type": "execute_result",
          "data": {
            "text/plain": [
              "'/content/mixed_data/'"
            ],
            "application/vnd.google.colaboratory.intrinsic+json": {
              "type": "string"
            }
          },
          "metadata": {},
          "execution_count": 90
        }
      ]
    },
    {
      "cell_type": "code",
      "source": [
        "video_to_images(filepath,output_folder)"
      ],
      "metadata": {
        "colab": {
          "base_uri": "https://localhost:8080/"
        },
        "id": "1CsWOGQcFYjX",
        "outputId": "a8cf2a9b-0ea4-4c57-843e-fabc733e9bd4"
      },
      "execution_count": null,
      "outputs": [
        {
          "output_type": "stream",
          "name": "stderr",
          "text": [
            "\n",
            "t:   2%|▏         | 1/47 [02:10<1:40:23, 130.94s/it, now=None]\n",
            "t:   2%|▏         | 1/47 [00:35<27:35, 35.99s/it, now=None]\u001b[A"
          ]
        },
        {
          "output_type": "stream",
          "name": "stdout",
          "text": [
            "Moviepy - Writing frames /content/mixed_data/frame%04d.png.\n"
          ]
        },
        {
          "output_type": "stream",
          "name": "stderr",
          "text": [
            "\n",
            "\n",
            "t:   0%|          | 0/47 [00:00<?, ?it/s, now=None]\u001b[A\u001b[A\n",
            "\n",
            "t:   6%|▋         | 3/47 [00:00<00:06,  7.07it/s, now=None]\u001b[A\u001b[A\n",
            "\n",
            "t:   9%|▊         | 4/47 [00:00<00:07,  5.50it/s, now=None]\u001b[A\u001b[A\n",
            "\n",
            "t:  11%|█         | 5/47 [00:00<00:08,  4.67it/s, now=None]\u001b[A\u001b[A\n",
            "\n",
            "t:  13%|█▎        | 6/47 [00:01<00:09,  4.25it/s, now=None]\u001b[A\u001b[A\n",
            "\n",
            "t:  15%|█▍        | 7/47 [00:01<00:09,  4.19it/s, now=None]\u001b[A\u001b[A\n",
            "\n",
            "t:  17%|█▋        | 8/47 [00:01<00:09,  4.03it/s, now=None]\u001b[A\u001b[A\n",
            "\n",
            "t:  19%|█▉        | 9/47 [00:02<00:09,  3.98it/s, now=None]\u001b[A\u001b[A\n",
            "\n",
            "t:  21%|██▏       | 10/47 [00:02<00:09,  3.86it/s, now=None]\u001b[A\u001b[A\n",
            "\n",
            "t:  23%|██▎       | 11/47 [00:02<00:09,  3.88it/s, now=None]\u001b[A\u001b[A\n",
            "\n",
            "t:  26%|██▌       | 12/47 [00:02<00:08,  3.99it/s, now=None]\u001b[A\u001b[A\n",
            "\n",
            "t:  28%|██▊       | 13/47 [00:03<00:08,  4.05it/s, now=None]\u001b[A\u001b[A\n",
            "\n",
            "t:  30%|██▉       | 14/47 [00:03<00:08,  4.12it/s, now=None]\u001b[A\u001b[A\n",
            "\n",
            "t:  32%|███▏      | 15/47 [00:03<00:07,  4.13it/s, now=None]\u001b[A\u001b[A\n",
            "\n",
            "t:  34%|███▍      | 16/47 [00:03<00:07,  4.18it/s, now=None]\u001b[A\u001b[A\n",
            "\n",
            "t:  36%|███▌      | 17/47 [00:03<00:07,  4.27it/s, now=None]\u001b[A\u001b[A\n",
            "\n",
            "t:  38%|███▊      | 18/47 [00:04<00:06,  4.17it/s, now=None]\u001b[A\u001b[A\n",
            "\n",
            "t:  40%|████      | 19/47 [00:04<00:06,  4.31it/s, now=None]\u001b[A\u001b[A\n",
            "\n",
            "t:  43%|████▎     | 20/47 [00:04<00:06,  4.25it/s, now=None]\u001b[A\u001b[A\n",
            "\n",
            "t:  45%|████▍     | 21/47 [00:04<00:06,  3.94it/s, now=None]\u001b[A\u001b[A\n",
            "\n",
            "t:  47%|████▋     | 22/47 [00:05<00:06,  3.92it/s, now=None]\u001b[A\u001b[A\n",
            "\n",
            "t:  49%|████▉     | 23/47 [00:05<00:05,  4.05it/s, now=None]\u001b[A\u001b[A\n",
            "\n",
            "t:  51%|█████     | 24/47 [00:05<00:05,  4.12it/s, now=None]\u001b[A\u001b[A\n",
            "\n",
            "t:  53%|█████▎    | 25/47 [00:05<00:05,  4.28it/s, now=None]\u001b[A\u001b[A\n",
            "\n",
            "t:  55%|█████▌    | 26/47 [00:06<00:04,  4.40it/s, now=None]\u001b[A\u001b[A\n",
            "\n",
            "t:  57%|█████▋    | 27/47 [00:06<00:04,  4.47it/s, now=None]\u001b[A\u001b[A\n",
            "\n",
            "t:  60%|█████▉    | 28/47 [00:06<00:04,  4.50it/s, now=None]\u001b[A\u001b[A\n",
            "\n",
            "t:  62%|██████▏   | 29/47 [00:06<00:03,  4.65it/s, now=None]\u001b[A\u001b[A\n",
            "\n",
            "t:  64%|██████▍   | 30/47 [00:06<00:03,  4.68it/s, now=None]\u001b[A\u001b[A\n",
            "\n",
            "t:  66%|██████▌   | 31/47 [00:07<00:03,  4.58it/s, now=None]\u001b[A\u001b[A\n",
            "\n",
            "t:  68%|██████▊   | 32/47 [00:07<00:03,  4.61it/s, now=None]\u001b[A\u001b[A\n",
            "\n",
            "t:  70%|███████   | 33/47 [00:07<00:03,  4.61it/s, now=None]\u001b[A\u001b[A\n",
            "\n",
            "t:  72%|███████▏  | 34/47 [00:07<00:02,  4.72it/s, now=None]\u001b[A\u001b[A\n",
            "\n",
            "t:  74%|███████▍  | 35/47 [00:08<00:02,  4.75it/s, now=None]\u001b[A\u001b[A\n",
            "\n",
            "t:  77%|███████▋  | 36/47 [00:08<00:02,  4.84it/s, now=None]\u001b[A\u001b[A\n",
            "\n",
            "t:  79%|███████▊  | 37/47 [00:08<00:02,  4.93it/s, now=None]\u001b[A\u001b[A\n",
            "\n",
            "t:  81%|████████  | 38/47 [00:08<00:01,  4.86it/s, now=None]\u001b[A\u001b[A\n",
            "\n",
            "t:  83%|████████▎ | 39/47 [00:08<00:01,  5.01it/s, now=None]\u001b[A\u001b[A\n",
            "\n",
            "t:  85%|████████▌ | 40/47 [00:08<00:01,  5.35it/s, now=None]\u001b[A\u001b[A\n",
            "\n",
            "t:  87%|████████▋ | 41/47 [00:09<00:01,  5.40it/s, now=None]\u001b[A\u001b[A\n",
            "\n",
            "t:  89%|████████▉ | 42/47 [00:09<00:00,  5.26it/s, now=None]\u001b[A\u001b[A\n",
            "\n",
            "t:  91%|█████████▏| 43/47 [00:09<00:00,  5.08it/s, now=None]\u001b[A\u001b[A\n",
            "\n",
            "t:  94%|█████████▎| 44/47 [00:09<00:00,  4.98it/s, now=None]\u001b[A\u001b[A\n",
            "\n",
            "t:  96%|█████████▌| 45/47 [00:10<00:00,  4.49it/s, now=None]\u001b[A\u001b[A\n",
            "\n",
            "t:  98%|█████████▊| 46/47 [00:10<00:00,  4.69it/s, now=None]\u001b[A\u001b[A\n",
            "\n",
            "t: 100%|██████████| 47/47 [00:10<00:00,  4.26it/s, now=None]\u001b[A\u001b[A\n",
            "\n",
            "\n",
            "t:   2%|▏         | 1/47 [02:21<1:48:41, 141.76s/it, now=None]\n",
            "t:   2%|▏         | 1/47 [00:46<35:53, 46.81s/it, now=None]\u001b[A"
          ]
        },
        {
          "output_type": "stream",
          "name": "stdout",
          "text": [
            "Moviepy - Done writing frames /content/mixed_data/frame%04d.png.\n"
          ]
        }
      ]
    },
    {
      "cell_type": "code",
      "source": [
        "filepath"
      ],
      "metadata": {
        "colab": {
          "base_uri": "https://localhost:8080/",
          "height": 35
        },
        "id": "ACWYdKGUP9YU",
        "outputId": "8f00bbee-c54c-4a1a-81f6-631d1b778ca1"
      },
      "execution_count": null,
      "outputs": [
        {
          "output_type": "execute_result",
          "data": {
            "text/plain": [
              "'/content/video_data/input_vid.mp4'"
            ],
            "application/vnd.google.colaboratory.intrinsic+json": {
              "type": "string"
            }
          },
          "metadata": {},
          "execution_count": 70
        }
      ]
    },
    {
      "cell_type": "code",
      "source": [
        "output_audio_path"
      ],
      "metadata": {
        "id": "qhIVN_xhTCF1",
        "outputId": "fc579bc6-ce0a-485e-8697-250e5c2e1ccb",
        "colab": {
          "base_uri": "https://localhost:8080/",
          "height": 35
        }
      },
      "execution_count": null,
      "outputs": [
        {
          "output_type": "execute_result",
          "data": {
            "text/plain": [
              "'/content/mixed_data/output_audio.wav'"
            ],
            "application/vnd.google.colaboratory.intrinsic+json": {
              "type": "string"
            }
          },
          "metadata": {},
          "execution_count": 91
        }
      ]
    },
    {
      "cell_type": "code",
      "source": [
        "video_to_audio(filepath,output_audio_path)"
      ],
      "metadata": {
        "colab": {
          "base_uri": "https://localhost:8080/"
        },
        "id": "tUNUGX1QFeX-",
        "outputId": "02cefe73-62d7-41b8-fd9b-bd2b7fe8a306"
      },
      "execution_count": null,
      "outputs": [
        {
          "output_type": "stream",
          "name": "stderr",
          "text": [
            "\n",
            "t:   2%|▏         | 1/47 [03:30<2:41:01, 210.04s/it, now=None]\n",
            "t:   2%|▏         | 1/47 [01:55<1:28:13, 115.08s/it, now=None]\u001b[A"
          ]
        },
        {
          "output_type": "stream",
          "name": "stdout",
          "text": [
            "MoviePy - Writing audio in ./mixed_data/output_audio.wav\n"
          ]
        },
        {
          "output_type": "stream",
          "name": "stderr",
          "text": [
            "\n",
            "\n",
            "chunk:   0%|          | 0/5160 [00:00<?, ?it/s, now=None]\u001b[A\u001b[A\n",
            "\n",
            "chunk:   6%|▌         | 306/5160 [00:00<00:01, 3004.99it/s, now=None]\u001b[A\u001b[A\n",
            "\n",
            "chunk:  12%|█▏        | 607/5160 [00:00<00:01, 2896.96it/s, now=None]\u001b[A\u001b[A\n",
            "\n",
            "chunk:  17%|█▋        | 897/5160 [00:00<00:01, 2798.07it/s, now=None]\u001b[A\u001b[A\n",
            "\n",
            "chunk:  23%|██▎       | 1178/5160 [00:00<00:01, 2688.05it/s, now=None]\u001b[A\u001b[A\n",
            "\n",
            "chunk:  28%|██▊       | 1448/5160 [00:00<00:01, 2654.32it/s, now=None]\u001b[A\u001b[A\n",
            "\n",
            "chunk:  34%|███▎      | 1734/5160 [00:00<00:01, 2684.75it/s, now=None]\u001b[A\u001b[A\n",
            "\n",
            "chunk:  39%|███▉      | 2003/5160 [00:00<00:01, 2656.38it/s, now=None]\u001b[A\u001b[A\n",
            "\n",
            "chunk:  44%|████▍     | 2279/5160 [00:00<00:01, 2688.12it/s, now=None]\u001b[A\u001b[A\n",
            "\n",
            "chunk:  49%|████▉     | 2550/5160 [00:00<00:00, 2679.82it/s, now=None]\u001b[A\u001b[A\n",
            "\n",
            "chunk:  55%|█████▍    | 2819/5160 [00:01<00:00, 2674.83it/s, now=None]\u001b[A\u001b[A\n",
            "\n",
            "chunk:  60%|██████    | 3106/5160 [00:01<00:00, 2733.44it/s, now=None]\u001b[A\u001b[A\n",
            "\n",
            "chunk:  66%|██████▌   | 3380/5160 [00:01<00:00, 2703.39it/s, now=None]\u001b[A\u001b[A\n",
            "\n",
            "chunk:  71%|███████   | 3660/5160 [00:01<00:00, 2731.23it/s, now=None]\u001b[A\u001b[A\n",
            "\n",
            "chunk:  76%|███████▌  | 3934/5160 [00:01<00:00, 2691.26it/s, now=None]\u001b[A\u001b[A\n",
            "\n",
            "chunk:  82%|████████▏ | 4214/5160 [00:01<00:00, 2722.11it/s, now=None]\u001b[A\u001b[A\n",
            "\n",
            "chunk:  87%|████████▋ | 4488/5160 [00:01<00:00, 2711.27it/s, now=None]\u001b[A\u001b[A\n",
            "\n",
            "chunk:  92%|█████████▏| 4760/5160 [00:01<00:00, 2662.06it/s, now=None]\u001b[A\u001b[A\n",
            "\n",
            "chunk:  97%|█████████▋| 5027/5160 [00:01<00:00, 2661.03it/s, now=None]\u001b[A\u001b[A\n",
            "\n",
            "\n",
            "t:   2%|▏         | 1/47 [03:31<2:42:31, 211.99s/it, now=None]\n",
            "t:   2%|▏         | 1/47 [01:57<1:29:43, 117.03s/it, now=None]\u001b[A"
          ]
        },
        {
          "output_type": "stream",
          "name": "stdout",
          "text": [
            "MoviePy - Done.\n"
          ]
        }
      ]
    },
    {
      "cell_type": "code",
      "source": [
        "output_audio_path"
      ],
      "metadata": {
        "colab": {
          "base_uri": "https://localhost:8080/",
          "height": 35
        },
        "id": "2rDh-vQsQJOF",
        "outputId": "14b00538-2706-47d4-d0f9-805f07aabab6"
      },
      "execution_count": null,
      "outputs": [
        {
          "output_type": "execute_result",
          "data": {
            "text/plain": [
              "'/content/mixed_data/output_audio.wav'"
            ],
            "application/vnd.google.colaboratory.intrinsic+json": {
              "type": "string"
            }
          },
          "metadata": {},
          "execution_count": 78
        }
      ]
    },
    {
      "cell_type": "code",
      "source": [
        "text_data=audio_to_text(output_audio_path)"
      ],
      "metadata": {
        "id": "9EdPF_dAFj6N"
      },
      "execution_count": null,
      "outputs": []
    },
    {
      "cell_type": "code",
      "source": [
        "text_data"
      ],
      "metadata": {
        "colab": {
          "base_uri": "https://localhost:8080/",
          "height": 157
        },
        "id": "wK3qgVi0QLcK",
        "outputId": "66fdb394-ea80-42bf-bd05-4afc3c00d527"
      },
      "execution_count": null,
      "outputs": [
        {
          "output_type": "execute_result",
          "data": {
            "text/plain": [
              "\" Lanyard regression is a statistical technique for modeling the relationship between an output variable and one or more input variables. In layman's terms, think of it as fitting a line through some data points as shown here, so you can make predictions on unknown data, assuming there is a linear relationship between the variables. You might be familiar with the linear function y equals mx plus b, where y is the output variable, also called the dependent variable. You may also see expressed as f of x, the function of the input variable. x on the other hand, would serve as the input variable, also called the independent variable. It's likely you'll see the coefficients m and b expressed as beta 1 and beta 0 respectively. So what do the m and b coefficients do? The m or beta 1 coefficient controls the slope of the line. The b or the beta 0 controls the intercept of the line. In machine learning, we also know it as the bias. These two coefficients are what we are solving for in linear regression. We can also extend to multiple input variables, so x1, x2, x3, with beta 1, beta 2, and beta 3, and so on, acting as slopes for each of those variables. In these higher dimensions, you would visualize the linear regression as a hyperplane. So how do we fit the line to these points? Well, you'll notice that there's these differences between the points and the line, these little red segments, these are called residuals. They are the differences between the data points and the predictions the line would produce. Take each of these residuals and square them. These are the squared errors, and notice that the large of the residuals are, the more amplified area of the squares are. If we total the areas of all of these squares for a given line, we will get the sum of the squared error, and this is known as our loss function. We need to find the beta 0 and beta 1 coefficients that will minimize that sum of squared error. The coefficients can be solved with a variety of techniques ranging from matrix decomposition to gradient descent, which is depicted right here. Thankfully, a lot of libraries are available to do this for us, and we will deep dive into these topics in other videos. To validate a linear regression, there are a number of techniques. Machine learning practitioners will often take a third of the data and put it into the test data set. The remaining two thirds will become the training data set. The training data set will then be used to fit the regression line. The test data set will then be used to validate the regression line. This is done to make sure that the regression performs well on data it has not seen before. The tricks used to evaluate the linear regression vary from the R square, standard error of the estimate, prediction intervals, as well as statistical significance. These are topics we will cover in future videos. If you enjoyed this video, please like and subscribe. Look at my two O'Reilly books, Essential Math for Data Science, and getting started with SQL. Chapter five of Essential Math for Data Science actually covers linear regression and much more depth. If you want live instruction, I also do teach on the O'Reilly platform. Promotional link below. I teach classes including machine learning from scratch, probability, and SQL. Comment on what topics you would like to see next, and I will see you again on 3 Minute Data Science.\""
            ],
            "application/vnd.google.colaboratory.intrinsic+json": {
              "type": "string"
            }
          },
          "metadata": {},
          "execution_count": 84
        }
      ]
    },
    {
      "cell_type": "code",
      "source": [
        "with open(output_folder + \"output_text.txt\", \"w\") as file:\n",
        "        file.write(text_data)\n",
        "print(\"Text data saved to file\")\n",
        "file.close()\n",
        "\n",
        "#os.remove(output_audio_path)\n",
        "#print(\"Audio file removed\")\n"
      ],
      "metadata": {
        "colab": {
          "base_uri": "https://localhost:8080/"
        },
        "id": "W70bPaL0QRpe",
        "outputId": "0b4d0964-7a5b-4a78-bd83-98169d0b71c9"
      },
      "execution_count": null,
      "outputs": [
        {
          "output_type": "stream",
          "name": "stdout",
          "text": [
            "Text data saved to file\n"
          ]
        }
      ]
    },
    {
      "cell_type": "code",
      "source": [],
      "metadata": {
        "id": "XWOzozqPRSnV"
      },
      "execution_count": null,
      "outputs": []
    }
  ]
}