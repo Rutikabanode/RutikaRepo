{
  "nbformat": 4,
  "nbformat_minor": 0,
  "metadata": {
    "colab": {
      "provenance": [],
      "gpuType": "T4"
    },
    "kernelspec": {
      "name": "python3",
      "display_name": "Python 3"
    },
    "language_info": {
      "name": "python"
    },
    "accelerator": "GPU",
    "widgets": {
      "application/vnd.jupyter.widget-state+json": {
        "ad458bd4a169488ca51dffacb3e1a69b": {
          "model_module": "@jupyter-widgets/controls",
          "model_name": "HBoxModel",
          "model_module_version": "1.5.0",
          "state": {
            "_dom_classes": [],
            "_model_module": "@jupyter-widgets/controls",
            "_model_module_version": "1.5.0",
            "_model_name": "HBoxModel",
            "_view_count": null,
            "_view_module": "@jupyter-widgets/controls",
            "_view_module_version": "1.5.0",
            "_view_name": "HBoxView",
            "box_style": "",
            "children": [
              "IPY_MODEL_bbb4d05f2b814a8ca5dd84402d52187c",
              "IPY_MODEL_d31f3ac36dc24b4e97288ac3c90ef0cc",
              "IPY_MODEL_75cb5116bea749e18259e2b1a5f47147"
            ],
            "layout": "IPY_MODEL_8b814a076c8d4cca89cb82ae984988d9"
          }
        },
        "bbb4d05f2b814a8ca5dd84402d52187c": {
          "model_module": "@jupyter-widgets/controls",
          "model_name": "HTMLModel",
          "model_module_version": "1.5.0",
          "state": {
            "_dom_classes": [],
            "_model_module": "@jupyter-widgets/controls",
            "_model_module_version": "1.5.0",
            "_model_name": "HTMLModel",
            "_view_count": null,
            "_view_module": "@jupyter-widgets/controls",
            "_view_module_version": "1.5.0",
            "_view_name": "HTMLView",
            "description": "",
            "description_tooltip": null,
            "layout": "IPY_MODEL_dc022fbec3d5499a9960a608bef523f8",
            "placeholder": "​",
            "style": "IPY_MODEL_897298e19c7a4a0f87b19c5b78ecb098",
            "value": "Evaluating: 100%"
          }
        },
        "d31f3ac36dc24b4e97288ac3c90ef0cc": {
          "model_module": "@jupyter-widgets/controls",
          "model_name": "FloatProgressModel",
          "model_module_version": "1.5.0",
          "state": {
            "_dom_classes": [],
            "_model_module": "@jupyter-widgets/controls",
            "_model_module_version": "1.5.0",
            "_model_name": "FloatProgressModel",
            "_view_count": null,
            "_view_module": "@jupyter-widgets/controls",
            "_view_module_version": "1.5.0",
            "_view_name": "ProgressView",
            "bar_style": "success",
            "description": "",
            "description_tooltip": null,
            "layout": "IPY_MODEL_62335245ebde4e0597af9dcb67858707",
            "max": 12,
            "min": 0,
            "orientation": "horizontal",
            "style": "IPY_MODEL_b017f1c69210420f97aecf709bb826e4",
            "value": 12
          }
        },
        "75cb5116bea749e18259e2b1a5f47147": {
          "model_module": "@jupyter-widgets/controls",
          "model_name": "HTMLModel",
          "model_module_version": "1.5.0",
          "state": {
            "_dom_classes": [],
            "_model_module": "@jupyter-widgets/controls",
            "_model_module_version": "1.5.0",
            "_model_name": "HTMLModel",
            "_view_count": null,
            "_view_module": "@jupyter-widgets/controls",
            "_view_module_version": "1.5.0",
            "_view_name": "HTMLView",
            "description": "",
            "description_tooltip": null,
            "layout": "IPY_MODEL_cb6b4c126f1d46e7bd93ea6fcd7e7534",
            "placeholder": "​",
            "style": "IPY_MODEL_6ade838119c84470aa5c87fd782d84a4",
            "value": " 12/12 [00:09&lt;00:00,  1.04it/s]"
          }
        },
        "8b814a076c8d4cca89cb82ae984988d9": {
          "model_module": "@jupyter-widgets/base",
          "model_name": "LayoutModel",
          "model_module_version": "1.2.0",
          "state": {
            "_model_module": "@jupyter-widgets/base",
            "_model_module_version": "1.2.0",
            "_model_name": "LayoutModel",
            "_view_count": null,
            "_view_module": "@jupyter-widgets/base",
            "_view_module_version": "1.2.0",
            "_view_name": "LayoutView",
            "align_content": null,
            "align_items": null,
            "align_self": null,
            "border": null,
            "bottom": null,
            "display": null,
            "flex": null,
            "flex_flow": null,
            "grid_area": null,
            "grid_auto_columns": null,
            "grid_auto_flow": null,
            "grid_auto_rows": null,
            "grid_column": null,
            "grid_gap": null,
            "grid_row": null,
            "grid_template_areas": null,
            "grid_template_columns": null,
            "grid_template_rows": null,
            "height": null,
            "justify_content": null,
            "justify_items": null,
            "left": null,
            "margin": null,
            "max_height": null,
            "max_width": null,
            "min_height": null,
            "min_width": null,
            "object_fit": null,
            "object_position": null,
            "order": null,
            "overflow": null,
            "overflow_x": null,
            "overflow_y": null,
            "padding": null,
            "right": null,
            "top": null,
            "visibility": null,
            "width": null
          }
        },
        "dc022fbec3d5499a9960a608bef523f8": {
          "model_module": "@jupyter-widgets/base",
          "model_name": "LayoutModel",
          "model_module_version": "1.2.0",
          "state": {
            "_model_module": "@jupyter-widgets/base",
            "_model_module_version": "1.2.0",
            "_model_name": "LayoutModel",
            "_view_count": null,
            "_view_module": "@jupyter-widgets/base",
            "_view_module_version": "1.2.0",
            "_view_name": "LayoutView",
            "align_content": null,
            "align_items": null,
            "align_self": null,
            "border": null,
            "bottom": null,
            "display": null,
            "flex": null,
            "flex_flow": null,
            "grid_area": null,
            "grid_auto_columns": null,
            "grid_auto_flow": null,
            "grid_auto_rows": null,
            "grid_column": null,
            "grid_gap": null,
            "grid_row": null,
            "grid_template_areas": null,
            "grid_template_columns": null,
            "grid_template_rows": null,
            "height": null,
            "justify_content": null,
            "justify_items": null,
            "left": null,
            "margin": null,
            "max_height": null,
            "max_width": null,
            "min_height": null,
            "min_width": null,
            "object_fit": null,
            "object_position": null,
            "order": null,
            "overflow": null,
            "overflow_x": null,
            "overflow_y": null,
            "padding": null,
            "right": null,
            "top": null,
            "visibility": null,
            "width": null
          }
        },
        "897298e19c7a4a0f87b19c5b78ecb098": {
          "model_module": "@jupyter-widgets/controls",
          "model_name": "DescriptionStyleModel",
          "model_module_version": "1.5.0",
          "state": {
            "_model_module": "@jupyter-widgets/controls",
            "_model_module_version": "1.5.0",
            "_model_name": "DescriptionStyleModel",
            "_view_count": null,
            "_view_module": "@jupyter-widgets/base",
            "_view_module_version": "1.2.0",
            "_view_name": "StyleView",
            "description_width": ""
          }
        },
        "62335245ebde4e0597af9dcb67858707": {
          "model_module": "@jupyter-widgets/base",
          "model_name": "LayoutModel",
          "model_module_version": "1.2.0",
          "state": {
            "_model_module": "@jupyter-widgets/base",
            "_model_module_version": "1.2.0",
            "_model_name": "LayoutModel",
            "_view_count": null,
            "_view_module": "@jupyter-widgets/base",
            "_view_module_version": "1.2.0",
            "_view_name": "LayoutView",
            "align_content": null,
            "align_items": null,
            "align_self": null,
            "border": null,
            "bottom": null,
            "display": null,
            "flex": null,
            "flex_flow": null,
            "grid_area": null,
            "grid_auto_columns": null,
            "grid_auto_flow": null,
            "grid_auto_rows": null,
            "grid_column": null,
            "grid_gap": null,
            "grid_row": null,
            "grid_template_areas": null,
            "grid_template_columns": null,
            "grid_template_rows": null,
            "height": null,
            "justify_content": null,
            "justify_items": null,
            "left": null,
            "margin": null,
            "max_height": null,
            "max_width": null,
            "min_height": null,
            "min_width": null,
            "object_fit": null,
            "object_position": null,
            "order": null,
            "overflow": null,
            "overflow_x": null,
            "overflow_y": null,
            "padding": null,
            "right": null,
            "top": null,
            "visibility": null,
            "width": null
          }
        },
        "b017f1c69210420f97aecf709bb826e4": {
          "model_module": "@jupyter-widgets/controls",
          "model_name": "ProgressStyleModel",
          "model_module_version": "1.5.0",
          "state": {
            "_model_module": "@jupyter-widgets/controls",
            "_model_module_version": "1.5.0",
            "_model_name": "ProgressStyleModel",
            "_view_count": null,
            "_view_module": "@jupyter-widgets/base",
            "_view_module_version": "1.2.0",
            "_view_name": "StyleView",
            "bar_color": null,
            "description_width": ""
          }
        },
        "cb6b4c126f1d46e7bd93ea6fcd7e7534": {
          "model_module": "@jupyter-widgets/base",
          "model_name": "LayoutModel",
          "model_module_version": "1.2.0",
          "state": {
            "_model_module": "@jupyter-widgets/base",
            "_model_module_version": "1.2.0",
            "_model_name": "LayoutModel",
            "_view_count": null,
            "_view_module": "@jupyter-widgets/base",
            "_view_module_version": "1.2.0",
            "_view_name": "LayoutView",
            "align_content": null,
            "align_items": null,
            "align_self": null,
            "border": null,
            "bottom": null,
            "display": null,
            "flex": null,
            "flex_flow": null,
            "grid_area": null,
            "grid_auto_columns": null,
            "grid_auto_flow": null,
            "grid_auto_rows": null,
            "grid_column": null,
            "grid_gap": null,
            "grid_row": null,
            "grid_template_areas": null,
            "grid_template_columns": null,
            "grid_template_rows": null,
            "height": null,
            "justify_content": null,
            "justify_items": null,
            "left": null,
            "margin": null,
            "max_height": null,
            "max_width": null,
            "min_height": null,
            "min_width": null,
            "object_fit": null,
            "object_position": null,
            "order": null,
            "overflow": null,
            "overflow_x": null,
            "overflow_y": null,
            "padding": null,
            "right": null,
            "top": null,
            "visibility": null,
            "width": null
          }
        },
        "6ade838119c84470aa5c87fd782d84a4": {
          "model_module": "@jupyter-widgets/controls",
          "model_name": "DescriptionStyleModel",
          "model_module_version": "1.5.0",
          "state": {
            "_model_module": "@jupyter-widgets/controls",
            "_model_module_version": "1.5.0",
            "_model_name": "DescriptionStyleModel",
            "_view_count": null,
            "_view_module": "@jupyter-widgets/base",
            "_view_module_version": "1.2.0",
            "_view_name": "StyleView",
            "description_width": ""
          }
        },
        "aea61943cfce4554ae3db563ff7d1999": {
          "model_module": "@jupyter-widgets/controls",
          "model_name": "HBoxModel",
          "model_module_version": "1.5.0",
          "state": {
            "_dom_classes": [],
            "_model_module": "@jupyter-widgets/controls",
            "_model_module_version": "1.5.0",
            "_model_name": "HBoxModel",
            "_view_count": null,
            "_view_module": "@jupyter-widgets/controls",
            "_view_module_version": "1.5.0",
            "_view_name": "HBoxView",
            "box_style": "",
            "children": [
              "IPY_MODEL_545628a8e2b54b0db0bfe7fb52d119e6",
              "IPY_MODEL_0f7040e410854deabb94bf5ea4080a8e",
              "IPY_MODEL_daa2cfe169e04db6857fa94765c963a4"
            ],
            "layout": "IPY_MODEL_89b9465ed3504d60ace1639ed60b159a"
          }
        },
        "545628a8e2b54b0db0bfe7fb52d119e6": {
          "model_module": "@jupyter-widgets/controls",
          "model_name": "HTMLModel",
          "model_module_version": "1.5.0",
          "state": {
            "_dom_classes": [],
            "_model_module": "@jupyter-widgets/controls",
            "_model_module_version": "1.5.0",
            "_model_name": "HTMLModel",
            "_view_count": null,
            "_view_module": "@jupyter-widgets/controls",
            "_view_module_version": "1.5.0",
            "_view_name": "HTMLView",
            "description": "",
            "description_tooltip": null,
            "layout": "IPY_MODEL_3778c125c91d43e69f06a39ecf10edc8",
            "placeholder": "​",
            "style": "IPY_MODEL_260d47cb0c164810b88b52a4bd7bf295",
            "value": "Evaluating: 100%"
          }
        },
        "0f7040e410854deabb94bf5ea4080a8e": {
          "model_module": "@jupyter-widgets/controls",
          "model_name": "FloatProgressModel",
          "model_module_version": "1.5.0",
          "state": {
            "_dom_classes": [],
            "_model_module": "@jupyter-widgets/controls",
            "_model_module_version": "1.5.0",
            "_model_name": "FloatProgressModel",
            "_view_count": null,
            "_view_module": "@jupyter-widgets/controls",
            "_view_module_version": "1.5.0",
            "_view_name": "ProgressView",
            "bar_style": "success",
            "description": "",
            "description_tooltip": null,
            "layout": "IPY_MODEL_5d698eb8f4364fe390040ff2df50f234",
            "max": 2,
            "min": 0,
            "orientation": "horizontal",
            "style": "IPY_MODEL_e1bd5b567ba5490780148fb43a2b45df",
            "value": 2
          }
        },
        "daa2cfe169e04db6857fa94765c963a4": {
          "model_module": "@jupyter-widgets/controls",
          "model_name": "HTMLModel",
          "model_module_version": "1.5.0",
          "state": {
            "_dom_classes": [],
            "_model_module": "@jupyter-widgets/controls",
            "_model_module_version": "1.5.0",
            "_model_name": "HTMLModel",
            "_view_count": null,
            "_view_module": "@jupyter-widgets/controls",
            "_view_module_version": "1.5.0",
            "_view_name": "HTMLView",
            "description": "",
            "description_tooltip": null,
            "layout": "IPY_MODEL_c63034adeb3e41df9f9ec50bbc8e4612",
            "placeholder": "​",
            "style": "IPY_MODEL_80632e399df24e69a9ef602897c14609",
            "value": " 2/2 [00:00&lt;00:00,  1.89it/s]"
          }
        },
        "89b9465ed3504d60ace1639ed60b159a": {
          "model_module": "@jupyter-widgets/base",
          "model_name": "LayoutModel",
          "model_module_version": "1.2.0",
          "state": {
            "_model_module": "@jupyter-widgets/base",
            "_model_module_version": "1.2.0",
            "_model_name": "LayoutModel",
            "_view_count": null,
            "_view_module": "@jupyter-widgets/base",
            "_view_module_version": "1.2.0",
            "_view_name": "LayoutView",
            "align_content": null,
            "align_items": null,
            "align_self": null,
            "border": null,
            "bottom": null,
            "display": null,
            "flex": null,
            "flex_flow": null,
            "grid_area": null,
            "grid_auto_columns": null,
            "grid_auto_flow": null,
            "grid_auto_rows": null,
            "grid_column": null,
            "grid_gap": null,
            "grid_row": null,
            "grid_template_areas": null,
            "grid_template_columns": null,
            "grid_template_rows": null,
            "height": null,
            "justify_content": null,
            "justify_items": null,
            "left": null,
            "margin": null,
            "max_height": null,
            "max_width": null,
            "min_height": null,
            "min_width": null,
            "object_fit": null,
            "object_position": null,
            "order": null,
            "overflow": null,
            "overflow_x": null,
            "overflow_y": null,
            "padding": null,
            "right": null,
            "top": null,
            "visibility": null,
            "width": null
          }
        },
        "3778c125c91d43e69f06a39ecf10edc8": {
          "model_module": "@jupyter-widgets/base",
          "model_name": "LayoutModel",
          "model_module_version": "1.2.0",
          "state": {
            "_model_module": "@jupyter-widgets/base",
            "_model_module_version": "1.2.0",
            "_model_name": "LayoutModel",
            "_view_count": null,
            "_view_module": "@jupyter-widgets/base",
            "_view_module_version": "1.2.0",
            "_view_name": "LayoutView",
            "align_content": null,
            "align_items": null,
            "align_self": null,
            "border": null,
            "bottom": null,
            "display": null,
            "flex": null,
            "flex_flow": null,
            "grid_area": null,
            "grid_auto_columns": null,
            "grid_auto_flow": null,
            "grid_auto_rows": null,
            "grid_column": null,
            "grid_gap": null,
            "grid_row": null,
            "grid_template_areas": null,
            "grid_template_columns": null,
            "grid_template_rows": null,
            "height": null,
            "justify_content": null,
            "justify_items": null,
            "left": null,
            "margin": null,
            "max_height": null,
            "max_width": null,
            "min_height": null,
            "min_width": null,
            "object_fit": null,
            "object_position": null,
            "order": null,
            "overflow": null,
            "overflow_x": null,
            "overflow_y": null,
            "padding": null,
            "right": null,
            "top": null,
            "visibility": null,
            "width": null
          }
        },
        "260d47cb0c164810b88b52a4bd7bf295": {
          "model_module": "@jupyter-widgets/controls",
          "model_name": "DescriptionStyleModel",
          "model_module_version": "1.5.0",
          "state": {
            "_model_module": "@jupyter-widgets/controls",
            "_model_module_version": "1.5.0",
            "_model_name": "DescriptionStyleModel",
            "_view_count": null,
            "_view_module": "@jupyter-widgets/base",
            "_view_module_version": "1.2.0",
            "_view_name": "StyleView",
            "description_width": ""
          }
        },
        "5d698eb8f4364fe390040ff2df50f234": {
          "model_module": "@jupyter-widgets/base",
          "model_name": "LayoutModel",
          "model_module_version": "1.2.0",
          "state": {
            "_model_module": "@jupyter-widgets/base",
            "_model_module_version": "1.2.0",
            "_model_name": "LayoutModel",
            "_view_count": null,
            "_view_module": "@jupyter-widgets/base",
            "_view_module_version": "1.2.0",
            "_view_name": "LayoutView",
            "align_content": null,
            "align_items": null,
            "align_self": null,
            "border": null,
            "bottom": null,
            "display": null,
            "flex": null,
            "flex_flow": null,
            "grid_area": null,
            "grid_auto_columns": null,
            "grid_auto_flow": null,
            "grid_auto_rows": null,
            "grid_column": null,
            "grid_gap": null,
            "grid_row": null,
            "grid_template_areas": null,
            "grid_template_columns": null,
            "grid_template_rows": null,
            "height": null,
            "justify_content": null,
            "justify_items": null,
            "left": null,
            "margin": null,
            "max_height": null,
            "max_width": null,
            "min_height": null,
            "min_width": null,
            "object_fit": null,
            "object_position": null,
            "order": null,
            "overflow": null,
            "overflow_x": null,
            "overflow_y": null,
            "padding": null,
            "right": null,
            "top": null,
            "visibility": null,
            "width": null
          }
        },
        "e1bd5b567ba5490780148fb43a2b45df": {
          "model_module": "@jupyter-widgets/controls",
          "model_name": "ProgressStyleModel",
          "model_module_version": "1.5.0",
          "state": {
            "_model_module": "@jupyter-widgets/controls",
            "_model_module_version": "1.5.0",
            "_model_name": "ProgressStyleModel",
            "_view_count": null,
            "_view_module": "@jupyter-widgets/base",
            "_view_module_version": "1.2.0",
            "_view_name": "StyleView",
            "bar_color": null,
            "description_width": ""
          }
        },
        "c63034adeb3e41df9f9ec50bbc8e4612": {
          "model_module": "@jupyter-widgets/base",
          "model_name": "LayoutModel",
          "model_module_version": "1.2.0",
          "state": {
            "_model_module": "@jupyter-widgets/base",
            "_model_module_version": "1.2.0",
            "_model_name": "LayoutModel",
            "_view_count": null,
            "_view_module": "@jupyter-widgets/base",
            "_view_module_version": "1.2.0",
            "_view_name": "LayoutView",
            "align_content": null,
            "align_items": null,
            "align_self": null,
            "border": null,
            "bottom": null,
            "display": null,
            "flex": null,
            "flex_flow": null,
            "grid_area": null,
            "grid_auto_columns": null,
            "grid_auto_flow": null,
            "grid_auto_rows": null,
            "grid_column": null,
            "grid_gap": null,
            "grid_row": null,
            "grid_template_areas": null,
            "grid_template_columns": null,
            "grid_template_rows": null,
            "height": null,
            "justify_content": null,
            "justify_items": null,
            "left": null,
            "margin": null,
            "max_height": null,
            "max_width": null,
            "min_height": null,
            "min_width": null,
            "object_fit": null,
            "object_position": null,
            "order": null,
            "overflow": null,
            "overflow_x": null,
            "overflow_y": null,
            "padding": null,
            "right": null,
            "top": null,
            "visibility": null,
            "width": null
          }
        },
        "80632e399df24e69a9ef602897c14609": {
          "model_module": "@jupyter-widgets/controls",
          "model_name": "DescriptionStyleModel",
          "model_module_version": "1.5.0",
          "state": {
            "_model_module": "@jupyter-widgets/controls",
            "_model_module_version": "1.5.0",
            "_model_name": "DescriptionStyleModel",
            "_view_count": null,
            "_view_module": "@jupyter-widgets/base",
            "_view_module_version": "1.2.0",
            "_view_name": "StyleView",
            "description_width": ""
          }
        },
        "bbf6f325c044411e9f0ddca6a19a6da7": {
          "model_module": "@jupyter-widgets/controls",
          "model_name": "HBoxModel",
          "model_module_version": "1.5.0",
          "state": {
            "_dom_classes": [],
            "_model_module": "@jupyter-widgets/controls",
            "_model_module_version": "1.5.0",
            "_model_name": "HBoxModel",
            "_view_count": null,
            "_view_module": "@jupyter-widgets/controls",
            "_view_module_version": "1.5.0",
            "_view_name": "HBoxView",
            "box_style": "",
            "children": [
              "IPY_MODEL_0403206b46e84ab48caddcd899c06ce2",
              "IPY_MODEL_0ff90a234f994b888a9741d639a59a37",
              "IPY_MODEL_d6bf0d213b1e4da4b07722d3cad455d3"
            ],
            "layout": "IPY_MODEL_1f1364bd5d304963810d2ed015887d71"
          }
        },
        "0403206b46e84ab48caddcd899c06ce2": {
          "model_module": "@jupyter-widgets/controls",
          "model_name": "HTMLModel",
          "model_module_version": "1.5.0",
          "state": {
            "_dom_classes": [],
            "_model_module": "@jupyter-widgets/controls",
            "_model_module_version": "1.5.0",
            "_model_name": "HTMLModel",
            "_view_count": null,
            "_view_module": "@jupyter-widgets/controls",
            "_view_module_version": "1.5.0",
            "_view_name": "HTMLView",
            "description": "",
            "description_tooltip": null,
            "layout": "IPY_MODEL_1ecab2f0664e4902be01666ce41dfba3",
            "placeholder": "​",
            "style": "IPY_MODEL_eae93c24eebe40168a8e8739422c47d3",
            "value": "Evaluating: 100%"
          }
        },
        "0ff90a234f994b888a9741d639a59a37": {
          "model_module": "@jupyter-widgets/controls",
          "model_name": "FloatProgressModel",
          "model_module_version": "1.5.0",
          "state": {
            "_dom_classes": [],
            "_model_module": "@jupyter-widgets/controls",
            "_model_module_version": "1.5.0",
            "_model_name": "FloatProgressModel",
            "_view_count": null,
            "_view_module": "@jupyter-widgets/controls",
            "_view_module_version": "1.5.0",
            "_view_name": "ProgressView",
            "bar_style": "success",
            "description": "",
            "description_tooltip": null,
            "layout": "IPY_MODEL_79d1db6324b846c58468ab70d0c41b10",
            "max": 2,
            "min": 0,
            "orientation": "horizontal",
            "style": "IPY_MODEL_113ff233e46d4e5ba19c502d88de58a1",
            "value": 2
          }
        },
        "d6bf0d213b1e4da4b07722d3cad455d3": {
          "model_module": "@jupyter-widgets/controls",
          "model_name": "HTMLModel",
          "model_module_version": "1.5.0",
          "state": {
            "_dom_classes": [],
            "_model_module": "@jupyter-widgets/controls",
            "_model_module_version": "1.5.0",
            "_model_name": "HTMLModel",
            "_view_count": null,
            "_view_module": "@jupyter-widgets/controls",
            "_view_module_version": "1.5.0",
            "_view_name": "HTMLView",
            "description": "",
            "description_tooltip": null,
            "layout": "IPY_MODEL_102eb9bcf649448b8b79ae178b2a8d9c",
            "placeholder": "​",
            "style": "IPY_MODEL_0d5e4dd1b5e44ecfa76891c87bef8b47",
            "value": " 2/2 [00:01&lt;00:00,  1.31s/it]"
          }
        },
        "1f1364bd5d304963810d2ed015887d71": {
          "model_module": "@jupyter-widgets/base",
          "model_name": "LayoutModel",
          "model_module_version": "1.2.0",
          "state": {
            "_model_module": "@jupyter-widgets/base",
            "_model_module_version": "1.2.0",
            "_model_name": "LayoutModel",
            "_view_count": null,
            "_view_module": "@jupyter-widgets/base",
            "_view_module_version": "1.2.0",
            "_view_name": "LayoutView",
            "align_content": null,
            "align_items": null,
            "align_self": null,
            "border": null,
            "bottom": null,
            "display": null,
            "flex": null,
            "flex_flow": null,
            "grid_area": null,
            "grid_auto_columns": null,
            "grid_auto_flow": null,
            "grid_auto_rows": null,
            "grid_column": null,
            "grid_gap": null,
            "grid_row": null,
            "grid_template_areas": null,
            "grid_template_columns": null,
            "grid_template_rows": null,
            "height": null,
            "justify_content": null,
            "justify_items": null,
            "left": null,
            "margin": null,
            "max_height": null,
            "max_width": null,
            "min_height": null,
            "min_width": null,
            "object_fit": null,
            "object_position": null,
            "order": null,
            "overflow": null,
            "overflow_x": null,
            "overflow_y": null,
            "padding": null,
            "right": null,
            "top": null,
            "visibility": null,
            "width": null
          }
        },
        "1ecab2f0664e4902be01666ce41dfba3": {
          "model_module": "@jupyter-widgets/base",
          "model_name": "LayoutModel",
          "model_module_version": "1.2.0",
          "state": {
            "_model_module": "@jupyter-widgets/base",
            "_model_module_version": "1.2.0",
            "_model_name": "LayoutModel",
            "_view_count": null,
            "_view_module": "@jupyter-widgets/base",
            "_view_module_version": "1.2.0",
            "_view_name": "LayoutView",
            "align_content": null,
            "align_items": null,
            "align_self": null,
            "border": null,
            "bottom": null,
            "display": null,
            "flex": null,
            "flex_flow": null,
            "grid_area": null,
            "grid_auto_columns": null,
            "grid_auto_flow": null,
            "grid_auto_rows": null,
            "grid_column": null,
            "grid_gap": null,
            "grid_row": null,
            "grid_template_areas": null,
            "grid_template_columns": null,
            "grid_template_rows": null,
            "height": null,
            "justify_content": null,
            "justify_items": null,
            "left": null,
            "margin": null,
            "max_height": null,
            "max_width": null,
            "min_height": null,
            "min_width": null,
            "object_fit": null,
            "object_position": null,
            "order": null,
            "overflow": null,
            "overflow_x": null,
            "overflow_y": null,
            "padding": null,
            "right": null,
            "top": null,
            "visibility": null,
            "width": null
          }
        },
        "eae93c24eebe40168a8e8739422c47d3": {
          "model_module": "@jupyter-widgets/controls",
          "model_name": "DescriptionStyleModel",
          "model_module_version": "1.5.0",
          "state": {
            "_model_module": "@jupyter-widgets/controls",
            "_model_module_version": "1.5.0",
            "_model_name": "DescriptionStyleModel",
            "_view_count": null,
            "_view_module": "@jupyter-widgets/base",
            "_view_module_version": "1.2.0",
            "_view_name": "StyleView",
            "description_width": ""
          }
        },
        "79d1db6324b846c58468ab70d0c41b10": {
          "model_module": "@jupyter-widgets/base",
          "model_name": "LayoutModel",
          "model_module_version": "1.2.0",
          "state": {
            "_model_module": "@jupyter-widgets/base",
            "_model_module_version": "1.2.0",
            "_model_name": "LayoutModel",
            "_view_count": null,
            "_view_module": "@jupyter-widgets/base",
            "_view_module_version": "1.2.0",
            "_view_name": "LayoutView",
            "align_content": null,
            "align_items": null,
            "align_self": null,
            "border": null,
            "bottom": null,
            "display": null,
            "flex": null,
            "flex_flow": null,
            "grid_area": null,
            "grid_auto_columns": null,
            "grid_auto_flow": null,
            "grid_auto_rows": null,
            "grid_column": null,
            "grid_gap": null,
            "grid_row": null,
            "grid_template_areas": null,
            "grid_template_columns": null,
            "grid_template_rows": null,
            "height": null,
            "justify_content": null,
            "justify_items": null,
            "left": null,
            "margin": null,
            "max_height": null,
            "max_width": null,
            "min_height": null,
            "min_width": null,
            "object_fit": null,
            "object_position": null,
            "order": null,
            "overflow": null,
            "overflow_x": null,
            "overflow_y": null,
            "padding": null,
            "right": null,
            "top": null,
            "visibility": null,
            "width": null
          }
        },
        "113ff233e46d4e5ba19c502d88de58a1": {
          "model_module": "@jupyter-widgets/controls",
          "model_name": "ProgressStyleModel",
          "model_module_version": "1.5.0",
          "state": {
            "_model_module": "@jupyter-widgets/controls",
            "_model_module_version": "1.5.0",
            "_model_name": "ProgressStyleModel",
            "_view_count": null,
            "_view_module": "@jupyter-widgets/base",
            "_view_module_version": "1.2.0",
            "_view_name": "StyleView",
            "bar_color": null,
            "description_width": ""
          }
        },
        "102eb9bcf649448b8b79ae178b2a8d9c": {
          "model_module": "@jupyter-widgets/base",
          "model_name": "LayoutModel",
          "model_module_version": "1.2.0",
          "state": {
            "_model_module": "@jupyter-widgets/base",
            "_model_module_version": "1.2.0",
            "_model_name": "LayoutModel",
            "_view_count": null,
            "_view_module": "@jupyter-widgets/base",
            "_view_module_version": "1.2.0",
            "_view_name": "LayoutView",
            "align_content": null,
            "align_items": null,
            "align_self": null,
            "border": null,
            "bottom": null,
            "display": null,
            "flex": null,
            "flex_flow": null,
            "grid_area": null,
            "grid_auto_columns": null,
            "grid_auto_flow": null,
            "grid_auto_rows": null,
            "grid_column": null,
            "grid_gap": null,
            "grid_row": null,
            "grid_template_areas": null,
            "grid_template_columns": null,
            "grid_template_rows": null,
            "height": null,
            "justify_content": null,
            "justify_items": null,
            "left": null,
            "margin": null,
            "max_height": null,
            "max_width": null,
            "min_height": null,
            "min_width": null,
            "object_fit": null,
            "object_position": null,
            "order": null,
            "overflow": null,
            "overflow_x": null,
            "overflow_y": null,
            "padding": null,
            "right": null,
            "top": null,
            "visibility": null,
            "width": null
          }
        },
        "0d5e4dd1b5e44ecfa76891c87bef8b47": {
          "model_module": "@jupyter-widgets/controls",
          "model_name": "DescriptionStyleModel",
          "model_module_version": "1.5.0",
          "state": {
            "_model_module": "@jupyter-widgets/controls",
            "_model_module_version": "1.5.0",
            "_model_name": "DescriptionStyleModel",
            "_view_count": null,
            "_view_module": "@jupyter-widgets/base",
            "_view_module_version": "1.2.0",
            "_view_name": "StyleView",
            "description_width": ""
          }
        }
      }
    }
  },
  "cells": [
    {
      "cell_type": "code",
      "execution_count": null,
      "metadata": {
        "id": "5HuetDN-4G8l"
      },
      "outputs": [],
      "source": [
        "1. retrieval\n",
        "2. generation"
      ]
    },
    {
      "cell_type": "markdown",
      "source": [
        "![image.png](data:image/png;base64,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)"
      ],
      "metadata": {
        "id": "W904WLuJZ5n7"
      }
    },
    {
      "cell_type": "code",
      "source": [
        "!pip install langchain openai weaviate-client ragas"
      ],
      "metadata": {
        "id": "v3BlL8NEDfDy"
      },
      "execution_count": null,
      "outputs": []
    },
    {
      "cell_type": "code",
      "source": [
        "import requests\n",
        "from langchain.document_loaders import TextLoader\n",
        "from langchain.text_splitter import CharacterTextSplitter"
      ],
      "metadata": {
        "id": "hoD3TN19Dz9a"
      },
      "execution_count": null,
      "outputs": []
    },
    {
      "cell_type": "code",
      "source": [
        "url=\"https://raw.githubusercontent.com/langchain-ai/langchain/master/docs/docs/modules/state_of_the_union.txt\""
      ],
      "metadata": {
        "id": "U4L8bolZEPhZ"
      },
      "execution_count": null,
      "outputs": []
    },
    {
      "cell_type": "code",
      "source": [
        "res = requests.get(url)"
      ],
      "metadata": {
        "id": "SzXyK_tXEh4q"
      },
      "execution_count": null,
      "outputs": []
    },
    {
      "cell_type": "code",
      "source": [
        "res.text"
      ],
      "metadata": {
        "colab": {
          "base_uri": "https://localhost:8080/",
          "height": 162
        },
        "id": "Zu-sEBtiEoNf",
        "outputId": "f75e3c8d-13ca-4ee5-d477-b97f02137c09"
      },
      "execution_count": null,
      "outputs": [
        {
          "output_type": "execute_result",
          "data": {
            "text/plain": [
              "'Madam Speaker, Madam Vice President, our First Lady and Second Gentleman. Members of Congress and the Cabinet. Justices of the Supreme Court. My fellow Americans.  \\n\\nLast year COVID-19 kept us apart. This year we are finally together again. \\n\\nTonight, we meet as Democrats Republicans and Independents. But most importantly as Americans. \\n\\nWith a duty to one another to the American people to the Constitution. \\n\\nAnd with an unwavering resolve that freedom will always triumph over tyranny. \\n\\nSix days ago, Russia’s Vladimir Putin sought to shake the foundations of the free world thinking he could make it bend to his menacing ways. But he badly miscalculated. \\n\\nHe thought he could roll into Ukraine and the world would roll over. Instead he met a wall of strength he never imagined. \\n\\nHe met the Ukrainian people. \\n\\nFrom President Zelenskyy to every Ukrainian, their fearlessness, their courage, their determination, inspires the world. \\n\\nGroups of citizens blocking tanks with their bodies. Everyone from students to retirees teachers turned soldiers defending their homeland. \\n\\nIn this struggle as President Zelenskyy said in his speech to the European Parliament “Light will win over darkness.” The Ukrainian Ambassador to the United States is here tonight. \\n\\nLet each of us here tonight in this Chamber send an unmistakable signal to Ukraine and to the world. \\n\\nPlease rise if you are able and show that, Yes, we the United States of America stand with the Ukrainian people. \\n\\nThroughout our history we’ve learned this lesson when dictators do not pay a price for their aggression they cause more chaos.   \\n\\nThey keep moving.   \\n\\nAnd the costs and the threats to America and the world keep rising.   \\n\\nThat’s why the NATO Alliance was created to secure peace and stability in Europe after World War 2. \\n\\nThe United States is a member along with 29 other nations. \\n\\nIt matters. American diplomacy matters. American resolve matters. \\n\\nPutin’s latest attack on Ukraine was premeditated and unprovoked. \\n\\nHe rejected repeated efforts at diplomacy. \\n\\nHe thought the West and NATO wouldn’t respond. And he thought he could divide us at home. Putin was wrong. We were ready.  Here is what we did.   \\n\\nWe prepared extensively and carefully. \\n\\nWe spent months building a coalition of other freedom-loving nations from Europe and the Americas to Asia and Africa to confront Putin. \\n\\nI spent countless hours unifying our European allies. We shared with the world in advance what we knew Putin was planning and precisely how he would try to falsely justify his aggression.  \\n\\nWe countered Russia’s lies with truth.   \\n\\nAnd now that he has acted the free world is holding him accountable. \\n\\nAlong with twenty-seven members of the European Union including France, Germany, Italy, as well as countries like the United Kingdom, Canada, Japan, Korea, Australia, New Zealand, and many others, even Switzerland. \\n\\nWe are inflicting pain on Russia and supporting the people of Ukraine. Putin is now isolated from the world more than ever. \\n\\nTogether with our allies –we are right now enforcing powerful economic sanctions. \\n\\nWe are cutting off Russia’s largest banks from the international financial system.  \\n\\nPreventing Russia’s central bank from defending the Russian Ruble making Putin’s $630 Billion “war fund” worthless.   \\n\\nWe are choking off Russia’s access to technology that will sap its economic strength and weaken its military for years to come.  \\n\\nTonight I say to the Russian oligarchs and corrupt leaders who have bilked billions of dollars off this violent regime no more. \\n\\nThe U.S. Department of Justice is assembling a dedicated task force to go after the crimes of Russian oligarchs.  \\n\\nWe are joining with our European allies to find and seize your yachts your luxury apartments your private jets. We are coming for your ill-begotten gains. \\n\\nAnd tonight I am announcing that we will join our allies in closing off American air space to all Russian flights – further isolating Russia – and adding an additional squeeze –on their economy. The Ruble has lost 30% of its value. \\n\\nThe Russian stock market has lost 40% of its value and trading remains suspended. Russia’s economy is reeling and Putin alone is to blame. \\n\\nTogether with our allies we are providing support to the Ukrainians in their fight for freedom. Military assistance. Economic assistance. Humanitarian assistance. \\n\\nWe are giving more than $1 Billion in direct assistance to Ukraine. \\n\\nAnd we will continue to aid the Ukrainian people as they defend their country and to help ease their suffering.  \\n\\nLet me be clear, our forces are not engaged and will not engage in conflict with Russian forces in Ukraine.  \\n\\nOur forces are not going to Europe to fight in Ukraine, but to defend our NATO Allies – in the event that Putin decides to keep moving west.  \\n\\nFor that purpose we’ve mobilized American ground forces, air squadrons, and ship deployments to protect NATO countries including Poland, Romania, Latvia, Lithuania, and Estonia. \\n\\nAs I have made crystal clear the United States and our Allies will defend every inch of territory of NATO countries with the full force of our collective power.  \\n\\nAnd we remain clear-eyed. The Ukrainians are fighting back with pure courage. But the next few days weeks, months, will be hard on them.  \\n\\nPutin has unleashed violence and chaos.  But while he may make gains on the battlefield – he will pay a continuing high price over the long run. \\n\\nAnd a proud Ukrainian people, who have known 30 years  of independence, have repeatedly shown that they will not tolerate anyone who tries to take their country backwards.  \\n\\nTo all Americans, I will be honest with you, as I’ve always promised. A Russian dictator, invading a foreign country, has costs around the world. \\n\\nAnd I’m taking robust action to make sure the pain of our sanctions  is targeted at Russia’s economy. And I will use every tool at our disposal to protect American businesses and consumers. \\n\\nTonight, I can announce that the United States has worked with 30 other countries to release 60 Million barrels of oil from reserves around the world.  \\n\\nAmerica will lead that effort, releasing 30 Million barrels from our own Strategic Petroleum Reserve. And we stand ready to do more if necessary, unified with our allies.  \\n\\nThese steps will help blunt gas prices here at home. And I know the news about what’s happening can seem alarming. \\n\\nBut I want you to know that we are going to be okay. \\n\\nWhen the history of this era is written Putin’s war on Ukraine will have left Russia weaker and the rest of the world stronger. \\n\\nWhile it shouldn’t have taken something so terrible for people around the world to see what’s at stake now everyone sees it clearly. \\n\\nWe see the unity among leaders of nations and a more unified Europe a more unified West. And we see unity among the people who are gathering in cities in large crowds around the world even in Russia to demonstrate their support for Ukraine.  \\n\\nIn the battle between democracy and autocracy, democracies are rising to the moment, and the world is clearly choosing the side of peace and security. \\n\\nThis is a real test. It’s going to take time. So let us continue to draw inspiration from the iron will of the Ukrainian people. \\n\\nTo our fellow Ukrainian Americans who forge a deep bond that connects our two nations we stand with you. \\n\\nPutin may circle Kyiv with tanks, but he will never gain the hearts and souls of the Ukrainian people. \\n\\nHe will never extinguish their love of freedom. He will never weaken the resolve of the free world. \\n\\nWe meet tonight in an America that has lived through two of the hardest years this nation has ever faced. \\n\\nThe pandemic has been punishing. \\n\\nAnd so many families are living paycheck to paycheck, struggling to keep up with the rising cost of food, gas, housing, and so much more. \\n\\nI understand. \\n\\nI remember when my Dad had to leave our home in Scranton, Pennsylvania to find work. I grew up in a family where if the price of food went up, you felt it. \\n\\nThat’s why one of the first things I did as President was fight to pass the American Rescue Plan.  \\n\\nBecause people were hurting. We needed to act, and we did. \\n\\nFew pieces of legislation have done more in a critical moment in our history to lift us out of crisis. \\n\\nIt fueled our efforts to vaccinate the nation and combat COVID-19. It delivered immediate economic relief for tens of millions of Americans.  \\n\\nHelped put food on their table, keep a roof over their heads, and cut the cost of health insurance. \\n\\nAnd as my Dad used to say, it gave people a little breathing room. \\n\\nAnd unlike the $2 Trillion tax cut passed in the previous administration that benefitted the top 1% of Americans, the American Rescue Plan helped working people—and left no one behind. \\n\\nAnd it worked. It created jobs. Lots of jobs. \\n\\nIn fact—our economy created over 6.5 Million new jobs just last year, more jobs created in one year  \\nthan ever before in the history of America. \\n\\nOur economy grew at a rate of 5.7% last year, the strongest growth in nearly 40 years, the first step in bringing fundamental change to an economy that hasn’t worked for the working people of this nation for too long.  \\n\\nFor the past 40 years we were told that if we gave tax breaks to those at the very top, the benefits would trickle down to everyone else. \\n\\nBut that trickle-down theory led to weaker economic growth, lower wages, bigger deficits, and the widest gap between those at the top and everyone else in nearly a century. \\n\\nVice President Harris and I ran for office with a new economic vision for America. \\n\\nInvest in America. Educate Americans. Grow the workforce. Build the economy from the bottom up  \\nand the middle out, not from the top down.  \\n\\nBecause we know that when the middle class grows, the poor have a ladder up and the wealthy do very well. \\n\\nAmerica used to have the best roads, bridges, and airports on Earth. \\n\\nNow our infrastructure is ranked 13th in the world. \\n\\nWe won’t be able to compete for the jobs of the 21st Century if we don’t fix that. \\n\\nThat’s why it was so important to pass the Bipartisan Infrastructure Law—the most sweeping investment to rebuild America in history. \\n\\nThis was a bipartisan effort, and I want to thank the members of both parties who worked to make it happen. \\n\\nWe’re done talking about infrastructure weeks. \\n\\nWe’re going to have an infrastructure decade. \\n\\nIt is going to transform America and put us on a path to win the economic competition of the 21st Century that we face with the rest of the world—particularly with China.  \\n\\nAs I’ve told Xi Jinping, it is never a good bet to bet against the American people. \\n\\nWe’ll create good jobs for millions of Americans, modernizing roads, airports, ports, and waterways all across America. \\n\\nAnd we’ll do it all to withstand the devastating effects of the climate crisis and promote environmental justice. \\n\\nWe’ll build a national network of 500,000 electric vehicle charging stations, begin to replace poisonous lead pipes—so every child—and every American—has clean water to drink at home and at school, provide affordable high-speed internet for every American—urban, suburban, rural, and tribal communities. \\n\\n4,000 projects have already been announced. \\n\\nAnd tonight, I’m announcing that this year we will start fixing over 65,000 miles of highway and 1,500 bridges in disrepair. \\n\\nWhen we use taxpayer dollars to rebuild America – we are going to Buy American: buy American products to support American jobs. \\n\\nThe federal government spends about $600 Billion a year to keep the country safe and secure. \\n\\nThere’s been a law on the books for almost a century \\nto make sure taxpayers’ dollars support American jobs and businesses. \\n\\nEvery Administration says they’ll do it, but we are actually doing it. \\n\\nWe will buy American to make sure everything from the deck of an aircraft carrier to the steel on highway guardrails are made in America. \\n\\nBut to compete for the best jobs of the future, we also need to level the playing field with China and other competitors. \\n\\nThat’s why it is so important to pass the Bipartisan Innovation Act sitting in Congress that will make record investments in emerging technologies and American manufacturing. \\n\\nLet me give you one example of why it’s so important to pass it. \\n\\nIf you travel 20 miles east of Columbus, Ohio, you’ll find 1,000 empty acres of land. \\n\\nIt won’t look like much, but if you stop and look closely, you’ll see a “Field of dreams,” the ground on which America’s future will be built. \\n\\nThis is where Intel, the American company that helped build Silicon Valley, is going to build its $20 billion semiconductor “mega site”. \\n\\nUp to eight state-of-the-art factories in one place. 10,000 new good-paying jobs. \\n\\nSome of the most sophisticated manufacturing in the world to make computer chips the size of a fingertip that power the world and our everyday lives. \\n\\nSmartphones. The Internet. Technology we have yet to invent. \\n\\nBut that’s just the beginning. \\n\\nIntel’s CEO, Pat Gelsinger, who is here tonight, told me they are ready to increase their investment from  \\n$20 billion to $100 billion. \\n\\nThat would be one of the biggest investments in manufacturing in American history. \\n\\nAnd all they’re waiting for is for you to pass this bill. \\n\\nSo let’s not wait any longer. Send it to my desk. I’ll sign it.  \\n\\nAnd we will really take off. \\n\\nAnd Intel is not alone. \\n\\nThere’s something happening in America. \\n\\nJust look around and you’ll see an amazing story. \\n\\nThe rebirth of the pride that comes from stamping products “Made In America.” The revitalization of American manufacturing.   \\n\\nCompanies are choosing to build new factories here, when just a few years ago, they would have built them overseas. \\n\\nThat’s what is happening. Ford is investing $11 billion to build electric vehicles, creating 11,000 jobs across the country. \\n\\nGM is making the largest investment in its history—$7 billion to build electric vehicles, creating 4,000 jobs in Michigan. \\n\\nAll told, we created 369,000 new manufacturing jobs in America just last year. \\n\\nPowered by people I’ve met like JoJo Burgess, from generations of union steelworkers from Pittsburgh, who’s here with us tonight. \\n\\nAs Ohio Senator Sherrod Brown says, “It’s time to bury the label “Rust Belt.” \\n\\nIt’s time. \\n\\nBut with all the bright spots in our economy, record job growth and higher wages, too many families are struggling to keep up with the bills.  \\n\\nInflation is robbing them of the gains they might otherwise feel. \\n\\nI get it. That’s why my top priority is getting prices under control. \\n\\nLook, our economy roared back faster than most predicted, but the pandemic meant that businesses had a hard time hiring enough workers to keep up production in their factories. \\n\\nThe pandemic also disrupted global supply chains. \\n\\nWhen factories close, it takes longer to make goods and get them from the warehouse to the store, and prices go up. \\n\\nLook at cars. \\n\\nLast year, there weren’t enough semiconductors to make all the cars that people wanted to buy. \\n\\nAnd guess what, prices of automobiles went up. \\n\\nSo—we have a choice. \\n\\nOne way to fight inflation is to drive down wages and make Americans poorer.  \\n\\nI have a better plan to fight inflation. \\n\\nLower your costs, not your wages. \\n\\nMake more cars and semiconductors in America. \\n\\nMore infrastructure and innovation in America. \\n\\nMore goods moving faster and cheaper in America. \\n\\nMore jobs where you can earn a good living in America. \\n\\nAnd instead of relying on foreign supply chains, let’s make it in America. \\n\\nEconomists call it “increasing the productive capacity of our economy.” \\n\\nI call it building a better America. \\n\\nMy plan to fight inflation will lower your costs and lower the deficit. \\n\\n17 Nobel laureates in economics say my plan will ease long-term inflationary pressures. Top business leaders and most Americans support my plan. And here’s the plan: \\n\\nFirst – cut the cost of prescription drugs. Just look at insulin. One in ten Americans has diabetes. In Virginia, I met a 13-year-old boy named Joshua Davis.  \\n\\nHe and his Dad both have Type 1 diabetes, which means they need insulin every day. Insulin costs about $10 a vial to make.  \\n\\nBut drug companies charge families like Joshua and his Dad up to 30 times more. I spoke with Joshua’s mom. \\n\\nImagine what it’s like to look at your child who needs insulin and have no idea how you’re going to pay for it.  \\n\\nWhat it does to your dignity, your ability to look your child in the eye, to be the parent you expect to be. \\n\\nJoshua is here with us tonight. Yesterday was his birthday. Happy birthday, buddy.  \\n\\nFor Joshua, and for the 200,000 other young people with Type 1 diabetes, let’s cap the cost of insulin at $35 a month so everyone can afford it.  \\n\\nDrug companies will still do very well. And while we’re at it let Medicare negotiate lower prices for prescription drugs, like the VA already does. \\n\\nLook, the American Rescue Plan is helping millions of families on Affordable Care Act plans save $2,400 a year on their health care premiums. Let’s close the coverage gap and make those savings permanent. \\n\\nSecond – cut energy costs for families an average of $500 a year by combatting climate change.  \\n\\nLet’s provide investments and tax credits to weatherize your homes and businesses to be energy efficient and you get a tax credit; double America’s clean energy production in solar, wind, and so much more;  lower the price of electric vehicles, saving you another $80 a month because you’ll never have to pay at the gas pump again. \\n\\nThird – cut the cost of child care. Many families pay up to $14,000 a year for child care per child.  \\n\\nMiddle-class and working families shouldn’t have to pay more than 7% of their income for care of young children.  \\n\\nMy plan will cut the cost in half for most families and help parents, including millions of women, who left the workforce during the pandemic because they couldn’t afford child care, to be able to get back to work. \\n\\nMy plan doesn’t stop there. It also includes home and long-term care. More affordable housing. And Pre-K for every 3- and 4-year-old.  \\n\\nAll of these will lower costs. \\n\\nAnd under my plan, nobody earning less than $400,000 a year will pay an additional penny in new taxes. Nobody.  \\n\\nThe one thing all Americans agree on is that the tax system is not fair. We have to fix it.  \\n\\nI’m not looking to punish anyone. But let’s make sure corporations and the wealthiest Americans start paying their fair share. \\n\\nJust last year, 55 Fortune 500 corporations earned $40 billion in profits and paid zero dollars in federal income tax.  \\n\\nThat’s simply not fair. That’s why I’ve proposed a 15% minimum tax rate for corporations. \\n\\nWe got more than 130 countries to agree on a global minimum tax rate so companies can’t get out of paying their taxes at home by shipping jobs and factories overseas. \\n\\nThat’s why I’ve proposed closing loopholes so the very wealthy don’t pay a lower tax rate than a teacher or a firefighter.  \\n\\nSo that’s my plan. It will grow the economy and lower costs for families. \\n\\nSo what are we waiting for? Let’s get this done. And while you’re at it, confirm my nominees to the Federal Reserve, which plays a critical role in fighting inflation.  \\n\\nMy plan will not only lower costs to give families a fair shot, it will lower the deficit. \\n\\nThe previous Administration not only ballooned the deficit with tax cuts for the very wealthy and corporations, it undermined the watchdogs whose job was to keep pandemic relief funds from being wasted. \\n\\nBut in my administration, the watchdogs have been welcomed back. \\n\\nWe’re going after the criminals who stole billions in relief money meant for small businesses and millions of Americans.  \\n\\nAnd tonight, I’m announcing that the Justice Department will name a chief prosecutor for pandemic fraud. \\n\\nBy the end of this year, the deficit will be down to less than half what it was before I took office.  \\n\\nThe only president ever to cut the deficit by more than one trillion dollars in a single year. \\n\\nLowering your costs also means demanding more competition. \\n\\nI’m a capitalist, but capitalism without competition isn’t capitalism. \\n\\nIt’s exploitation—and it drives up prices. \\n\\nWhen corporations don’t have to compete, their profits go up, your prices go up, and small businesses and family farmers and ranchers go under. \\n\\nWe see it happening with ocean carriers moving goods in and out of America. \\n\\nDuring the pandemic, these foreign-owned companies raised prices by as much as 1,000% and made record profits. \\n\\nTonight, I’m announcing a crackdown on these companies overcharging American businesses and consumers. \\n\\nAnd as Wall Street firms take over more nursing homes, quality in those homes has gone down and costs have gone up.  \\n\\nThat ends on my watch. \\n\\nMedicare is going to set higher standards for nursing homes and make sure your loved ones get the care they deserve and expect. \\n\\nWe’ll also cut costs and keep the economy going strong by giving workers a fair shot, provide more training and apprenticeships, hire them based on their skills not degrees. \\n\\nLet’s pass the Paycheck Fairness Act and paid leave.  \\n\\nRaise the minimum wage to $15 an hour and extend the Child Tax Credit, so no one has to raise a family in poverty. \\n\\nLet’s increase Pell Grants and increase our historic support of HBCUs, and invest in what Jill—our First Lady who teaches full-time—calls America’s best-kept secret: community colleges. \\n\\nAnd let’s pass the PRO Act when a majority of workers want to form a union—they shouldn’t be stopped.  \\n\\nWhen we invest in our workers, when we build the economy from the bottom up and the middle out together, we can do something we haven’t done in a long time: build a better America. \\n\\nFor more than two years, COVID-19 has impacted every decision in our lives and the life of the nation. \\n\\nAnd I know you’re tired, frustrated, and exhausted. \\n\\nBut I also know this. \\n\\nBecause of the progress we’ve made, because of your resilience and the tools we have, tonight I can say  \\nwe are moving forward safely, back to more normal routines.  \\n\\nWe’ve reached a new moment in the fight against COVID-19, with severe cases down to a level not seen since last July.  \\n\\nJust a few days ago, the Centers for Disease Control and Prevention—the CDC—issued new mask guidelines. \\n\\nUnder these new guidelines, most Americans in most of the country can now be mask free.   \\n\\nAnd based on the projections, more of the country will reach that point across the next couple of weeks. \\n\\nThanks to the progress we have made this past year, COVID-19 need no longer control our lives.  \\n\\nI know some are talking about “living with COVID-19”. Tonight – I say that we will never just accept living with COVID-19. \\n\\nWe will continue to combat the virus as we do other diseases. And because this is a virus that mutates and spreads, we will stay on guard. \\n\\nHere are four common sense steps as we move forward safely.  \\n\\nFirst, stay protected with vaccines and treatments. We know how incredibly effective vaccines are. If you’re vaccinated and boosted you have the highest degree of protection. \\n\\nWe will never give up on vaccinating more Americans. Now, I know parents with kids under 5 are eager to see a vaccine authorized for their children. \\n\\nThe scientists are working hard to get that done and we’ll be ready with plenty of vaccines when they do. \\n\\nWe’re also ready with anti-viral treatments. If you get COVID-19, the Pfizer pill reduces your chances of ending up in the hospital by 90%.  \\n\\nWe’ve ordered more of these pills than anyone in the world. And Pfizer is working overtime to get us 1 Million pills this month and more than double that next month.  \\n\\nAnd we’re launching the “Test to Treat” initiative so people can get tested at a pharmacy, and if they’re positive, receive antiviral pills on the spot at no cost.  \\n\\nIf you’re immunocompromised or have some other vulnerability, we have treatments and free high-quality masks. \\n\\nWe’re leaving no one behind or ignoring anyone’s needs as we move forward. \\n\\nAnd on testing, we have made hundreds of millions of tests available for you to order for free.   \\n\\nEven if you already ordered free tests tonight, I am announcing that you can order more from covidtests.gov starting next week. \\n\\nSecond – we must prepare for new variants. Over the past year, we’ve gotten much better at detecting new variants. \\n\\nIf necessary, we’ll be able to deploy new vaccines within 100 days instead of many more months or years.  \\n\\nAnd, if Congress provides the funds we need, we’ll have new stockpiles of tests, masks, and pills ready if needed. \\n\\nI cannot promise a new variant won’t come. But I can promise you we’ll do everything within our power to be ready if it does.  \\n\\nThird – we can end the shutdown of schools and businesses. We have the tools we need. \\n\\nIt’s time for Americans to get back to work and fill our great downtowns again.  People working from home can feel safe to begin to return to the office.   \\n\\nWe’re doing that here in the federal government. The vast majority of federal workers will once again work in person. \\n\\nOur schools are open. Let’s keep it that way. Our kids need to be in school. \\n\\nAnd with 75% of adult Americans fully vaccinated and hospitalizations down by 77%, most Americans can remove their masks, return to work, stay in the classroom, and move forward safely. \\n\\nWe achieved this because we provided free vaccines, treatments, tests, and masks. \\n\\nOf course, continuing this costs money. \\n\\nI will soon send Congress a request. \\n\\nThe vast majority of Americans have used these tools and may want to again, so I expect Congress to pass it quickly.   \\n\\nFourth, we will continue vaccinating the world.     \\n\\nWe’ve sent 475 Million vaccine doses to 112 countries, more than any other nation. \\n\\nAnd we won’t stop. \\n\\nWe have lost so much to COVID-19. Time with one another. And worst of all, so much loss of life. \\n\\nLet’s use this moment to reset. Let’s stop looking at COVID-19 as a partisan dividing line and see it for what it is: A God-awful disease.  \\n\\nLet’s stop seeing each other as enemies, and start seeing each other for who we really are: Fellow Americans.  \\n\\nWe can’t change how divided we’ve been. But we can change how we move forward—on COVID-19 and other issues we must face together. \\n\\nI recently visited the New York City Police Department days after the funerals of Officer Wilbert Mora and his partner, Officer Jason Rivera. \\n\\nThey were responding to a 9-1-1 call when a man shot and killed them with a stolen gun. \\n\\nOfficer Mora was 27 years old. \\n\\nOfficer Rivera was 22. \\n\\nBoth Dominican Americans who’d grown up on the same streets they later chose to patrol as police officers. \\n\\nI spoke with their families and told them that we are forever in debt for their sacrifice, and we will carry on their mission to restore the trust and safety every community deserves. \\n\\nI’ve worked on these issues a long time. \\n\\nI know what works: Investing in crime prevention and community police officers who’ll walk the beat, who’ll know the neighborhood, and who can restore trust and safety. \\n\\nSo let’s not abandon our streets. Or choose between safety and equal justice. \\n\\nLet’s come together to protect our communities, restore trust, and hold law enforcement accountable. \\n\\nThat’s why the Justice Department required body cameras, banned chokeholds, and restricted no-knock warrants for its officers. \\n\\nThat’s why the American Rescue Plan provided $350 Billion that cities, states, and counties can use to hire more police and invest in proven strategies like community violence interruption—trusted messengers breaking the cycle of violence and trauma and giving young people hope.  \\n\\nWe should all agree: The answer is not to Defund the police. The answer is to FUND the police with the resources and training they need to protect our communities. \\n\\nI ask Democrats and Republicans alike: Pass my budget and keep our neighborhoods safe.  \\n\\nAnd I will keep doing everything in my power to crack down on gun trafficking and ghost guns you can buy online and make at home—they have no serial numbers and can’t be traced. \\n\\nAnd I ask Congress to pass proven measures to reduce gun violence. Pass universal background checks. Why should anyone on a terrorist list be able to purchase a weapon? \\n\\nBan assault weapons and high-capacity magazines. \\n\\nRepeal the liability shield that makes gun manufacturers the only industry in America that can’t be sued. \\n\\nThese laws don’t infringe on the Second Amendment. They save lives. \\n\\nThe most fundamental right in America is the right to vote – and to have it counted. And it’s under assault. \\n\\nIn state after state, new laws have been passed, not only to suppress the vote, but to subvert entire elections. \\n\\nWe cannot let this happen. \\n\\nTonight. I call on the Senate to: Pass the Freedom to Vote Act. Pass the John Lewis Voting Rights Act. And while you’re at it, pass the Disclose Act so Americans can know who is funding our elections. \\n\\nTonight, I’d like to honor someone who has dedicated his life to serve this country: Justice Stephen Breyer—an Army veteran, Constitutional scholar, and retiring Justice of the United States Supreme Court. Justice Breyer, thank you for your service. \\n\\nOne of the most serious constitutional responsibilities a President has is nominating someone to serve on the United States Supreme Court. \\n\\nAnd I did that 4 days ago, when I nominated Circuit Court of Appeals Judge Ketanji Brown Jackson. One of our nation’s top legal minds, who will continue Justice Breyer’s legacy of excellence. \\n\\nA former top litigator in private practice. A former federal public defender. And from a family of public school educators and police officers. A consensus builder. Since she’s been nominated, she’s received a broad range of support—from the Fraternal Order of Police to former judges appointed by Democrats and Republicans. \\n\\nAnd if we are to advance liberty and justice, we need to secure the Border and fix the immigration system. \\n\\nWe can do both. At our border, we’ve installed new technology like cutting-edge scanners to better detect drug smuggling.  \\n\\nWe’ve set up joint patrols with Mexico and Guatemala to catch more human traffickers.  \\n\\nWe’re putting in place dedicated immigration judges so families fleeing persecution and violence can have their cases heard faster. \\n\\nWe’re securing commitments and supporting partners in South and Central America to host more refugees and secure their own borders. \\n\\nWe can do all this while keeping lit the torch of liberty that has led generations of immigrants to this land—my forefathers and so many of yours. \\n\\nProvide a pathway to citizenship for Dreamers, those on temporary status, farm workers, and essential workers. \\n\\nRevise our laws so businesses have the workers they need and families don’t wait decades to reunite. \\n\\nIt’s not only the right thing to do—it’s the economically smart thing to do. \\n\\nThat’s why immigration reform is supported by everyone from labor unions to religious leaders to the U.S. Chamber of Commerce. \\n\\nLet’s get it done once and for all. \\n\\nAdvancing liberty and justice also requires protecting the rights of women. \\n\\nThe constitutional right affirmed in Roe v. Wade—standing precedent for half a century—is under attack as never before. \\n\\nIf we want to go forward—not backward—we must protect access to health care. Preserve a woman’s right to choose. And let’s continue to advance maternal health care in America. \\n\\nAnd for our LGBTQ+ Americans, let’s finally get the bipartisan Equality Act to my desk. The onslaught of state laws targeting transgender Americans and their families is wrong. \\n\\nAs I said last year, especially to our younger transgender Americans, I will always have your back as your President, so you can be yourself and reach your God-given potential. \\n\\nWhile it often appears that we never agree, that isn’t true. I signed 80 bipartisan bills into law last year. From preventing government shutdowns to protecting Asian-Americans from still-too-common hate crimes to reforming military justice. \\n\\nAnd soon, we’ll strengthen the Violence Against Women Act that I first wrote three decades ago. It is important for us to show the nation that we can come together and do big things. \\n\\nSo tonight I’m offering a Unity Agenda for the Nation. Four big things we can do together.  \\n\\nFirst, beat the opioid epidemic. \\n\\nThere is so much we can do. Increase funding for prevention, treatment, harm reduction, and recovery.  \\n\\nGet rid of outdated rules that stop doctors from prescribing treatments. And stop the flow of illicit drugs by working with state and local law enforcement to go after traffickers. \\n\\nIf you’re suffering from addiction, know you are not alone. I believe in recovery, and I celebrate the 23 million Americans in recovery. \\n\\nSecond, let’s take on mental health. Especially among our children, whose lives and education have been turned upside down.  \\n\\nThe American Rescue Plan gave schools money to hire teachers and help students make up for lost learning.  \\n\\nI urge every parent to make sure your school does just that. And we can all play a part—sign up to be a tutor or a mentor. \\n\\nChildren were also struggling before the pandemic. Bullying, violence, trauma, and the harms of social media. \\n\\nAs Frances Haugen, who is here with us tonight, has shown, we must hold social media platforms accountable for the national experiment they’re conducting on our children for profit. \\n\\nIt’s time to strengthen privacy protections, ban targeted advertising to children, demand tech companies stop collecting personal data on our children. \\n\\nAnd let’s get all Americans the mental health services they need. More people they can turn to for help, and full parity between physical and mental health care. \\n\\nThird, support our veterans. \\n\\nVeterans are the best of us. \\n\\nI’ve always believed that we have a sacred obligation to equip all those we send to war and care for them and their families when they come home. \\n\\nMy administration is providing assistance with job training and housing, and now helping lower-income veterans get VA care debt-free.  \\n\\nOur troops in Iraq and Afghanistan faced many dangers. \\n\\nOne was stationed at bases and breathing in toxic smoke from “burn pits” that incinerated wastes of war—medical and hazard material, jet fuel, and more. \\n\\nWhen they came home, many of the world’s fittest and best trained warriors were never the same. \\n\\nHeadaches. Numbness. Dizziness. \\n\\nA cancer that would put them in a flag-draped coffin. \\n\\nI know. \\n\\nOne of those soldiers was my son Major Beau Biden. \\n\\nWe don’t know for sure if a burn pit was the cause of his brain cancer, or the diseases of so many of our troops. \\n\\nBut I’m committed to finding out everything we can. \\n\\nCommitted to military families like Danielle Robinson from Ohio. \\n\\nThe widow of Sergeant First Class Heath Robinson.  \\n\\nHe was born a soldier. Army National Guard. Combat medic in Kosovo and Iraq. \\n\\nStationed near Baghdad, just yards from burn pits the size of football fields. \\n\\nHeath’s widow Danielle is here with us tonight. They loved going to Ohio State football games. He loved building Legos with their daughter. \\n\\nBut cancer from prolonged exposure to burn pits ravaged Heath’s lungs and body. \\n\\nDanielle says Heath was a fighter to the very end. \\n\\nHe didn’t know how to stop fighting, and neither did she. \\n\\nThrough her pain she found purpose to demand we do better. \\n\\nTonight, Danielle—we are. \\n\\nThe VA is pioneering new ways of linking toxic exposures to diseases, already helping more veterans get benefits. \\n\\nAnd tonight, I’m announcing we’re expanding eligibility to veterans suffering from nine respiratory cancers. \\n\\nI’m also calling on Congress: pass a law to make sure veterans devastated by toxic exposures in Iraq and Afghanistan finally get the benefits and comprehensive health care they deserve. \\n\\nAnd fourth, let’s end cancer as we know it. \\n\\nThis is personal to me and Jill, to Kamala, and to so many of you. \\n\\nCancer is the #2 cause of death in America–second only to heart disease. \\n\\nLast month, I announced our plan to supercharge  \\nthe Cancer Moonshot that President Obama asked me to lead six years ago. \\n\\nOur goal is to cut the cancer death rate by at least 50% over the next 25 years, turn more cancers from death sentences into treatable diseases.  \\n\\nMore support for patients and families. \\n\\nTo get there, I call on Congress to fund ARPA-H, the Advanced Research Projects Agency for Health. \\n\\nIt’s based on DARPA—the Defense Department project that led to the Internet, GPS, and so much more.  \\n\\nARPA-H will have a singular purpose—to drive breakthroughs in cancer, Alzheimer’s, diabetes, and more. \\n\\nA unity agenda for the nation. \\n\\nWe can do this. \\n\\nMy fellow Americans—tonight , we have gathered in a sacred space—the citadel of our democracy. \\n\\nIn this Capitol, generation after generation, Americans have debated great questions amid great strife, and have done great things. \\n\\nWe have fought for freedom, expanded liberty, defeated totalitarianism and terror. \\n\\nAnd built the strongest, freest, and most prosperous nation the world has ever known. \\n\\nNow is the hour. \\n\\nOur moment of responsibility. \\n\\nOur test of resolve and conscience, of history itself. \\n\\nIt is in this moment that our character is formed. Our purpose is found. Our future is forged. \\n\\nWell I know this nation.  \\n\\nWe will meet the test. \\n\\nTo protect freedom and liberty, to expand fairness and opportunity. \\n\\nWe will save democracy. \\n\\nAs hard as these times have been, I am more optimistic about America today than I have been my whole life. \\n\\nBecause I see the future that is within our grasp. \\n\\nBecause I know there is simply nothing beyond our capacity. \\n\\nWe are the only nation on Earth that has always turned every crisis we have faced into an opportunity. \\n\\nThe only nation that can be defined by a single word: possibilities. \\n\\nSo on this night, in our 245th year as a nation, I have come to report on the State of the Union. \\n\\nAnd my report is this: the State of the Union is strong—because you, the American people, are strong. \\n\\nWe are stronger today than we were a year ago. \\n\\nAnd we will be stronger a year from now than we are today. \\n\\nNow is our moment to meet and overcome the challenges of our time. \\n\\nAnd we will, as one people. \\n\\nOne America. \\n\\nThe United States of America. \\n\\nMay God bless you all. May God protect our troops.'"
            ],
            "application/vnd.google.colaboratory.intrinsic+json": {
              "type": "string"
            }
          },
          "metadata": {},
          "execution_count": 5
        }
      ]
    },
    {
      "cell_type": "code",
      "source": [
        "with open(\"state_of_the_union.txt\", \"w\") as f:\n",
        "    f.write(res.text)"
      ],
      "metadata": {
        "id": "PqS6vHCXEjXZ"
      },
      "execution_count": null,
      "outputs": []
    },
    {
      "cell_type": "code",
      "source": [
        "loader=TextLoader(\"./state_of_the_union.txt\")"
      ],
      "metadata": {
        "id": "-Gygxw-xFKSx"
      },
      "execution_count": null,
      "outputs": []
    },
    {
      "cell_type": "code",
      "source": [
        "documents=loader.load()"
      ],
      "metadata": {
        "id": "zNv5UDZ1FRyJ"
      },
      "execution_count": null,
      "outputs": []
    },
    {
      "cell_type": "code",
      "source": [
        "from langchain.text_splitter import CharacterTextSplitter\n",
        "text_splitter=CharacterTextSplitter(chunk_size=500,chunk_overlap=50)"
      ],
      "metadata": {
        "id": "9XsR_ggFErvR"
      },
      "execution_count": null,
      "outputs": []
    },
    {
      "cell_type": "code",
      "source": [
        "chunks=text_splitter.split_documents(documents)"
      ],
      "metadata": {
        "id": "wGnVecn9FAeJ"
      },
      "execution_count": null,
      "outputs": []
    },
    {
      "cell_type": "code",
      "source": [
        "chunks[2].page_content"
      ],
      "metadata": {
        "colab": {
          "base_uri": "https://localhost:8080/",
          "height": 90
        },
        "id": "TjmTM93TFVvZ",
        "outputId": "99a4669f-027b-49e3-f00d-87313e47e496"
      },
      "execution_count": null,
      "outputs": [
        {
          "output_type": "execute_result",
          "data": {
            "text/plain": [
              "'Groups of citizens blocking tanks with their bodies. Everyone from students to retirees teachers turned soldiers defending their homeland. \\n\\nIn this struggle as President Zelenskyy said in his speech to the European Parliament “Light will win over darkness.” The Ukrainian Ambassador to the United States is here tonight. \\n\\nLet each of us here tonight in this Chamber send an unmistakable signal to Ukraine and to the world.'"
            ],
            "application/vnd.google.colaboratory.intrinsic+json": {
              "type": "string"
            }
          },
          "metadata": {},
          "execution_count": 15
        }
      ]
    },
    {
      "cell_type": "code",
      "source": [
        "len(chunks)\n"
      ],
      "metadata": {
        "colab": {
          "base_uri": "https://localhost:8080/"
        },
        "id": "zdsjcE0sFaSh",
        "outputId": "de326676-06ea-49ef-e7e2-2fd724e79c33"
      },
      "execution_count": null,
      "outputs": [
        {
          "output_type": "execute_result",
          "data": {
            "text/plain": [
              "90"
            ]
          },
          "metadata": {},
          "execution_count": 16
        }
      ]
    },
    {
      "cell_type": "code",
      "source": [
        "from langchain.embeddings import OpenAIEmbeddings\n",
        "from langchain.vectorstores import Weaviate\n",
        "import weaviate\n",
        "from weaviate.embedded import EmbeddedOptions"
      ],
      "metadata": {
        "id": "JbPCFgqOFpwh"
      },
      "execution_count": null,
      "outputs": []
    },
    {
      "cell_type": "code",
      "source": [
        "from google.colab import userdata\n",
        "OPENAI_API_KEY=userdata.get('OPENAI_API_KEY')"
      ],
      "metadata": {
        "id": "cqW-w0XeF-9R"
      },
      "execution_count": null,
      "outputs": []
    },
    {
      "cell_type": "code",
      "source": [
        "import os\n",
        "os.environ[\"OPENAI_API_KEY\"]=OPENAI_API_KEY"
      ],
      "metadata": {
        "id": "Aice-QhcGI9k"
      },
      "execution_count": null,
      "outputs": []
    },
    {
      "cell_type": "code",
      "source": [
        "client=weaviate.Client(\n",
        "    embedded_options=EmbeddedOptions()\n",
        ")"
      ],
      "metadata": {
        "colab": {
          "base_uri": "https://localhost:8080/"
        },
        "id": "vK0nkEUtGIYh",
        "outputId": "de6caa8c-1c03-4a1a-c25f-93fdbd34f89c"
      },
      "execution_count": null,
      "outputs": [
        {
          "output_type": "stream",
          "name": "stdout",
          "text": [
            "Binary /root/.cache/weaviate-embedded did not exist. Downloading binary from https://github.com/weaviate/weaviate/releases/download/v1.23.7/weaviate-v1.23.7-Linux-amd64.tar.gz\n",
            "Started /root/.cache/weaviate-embedded: process ID 3695\n"
          ]
        }
      ]
    },
    {
      "cell_type": "code",
      "source": [
        "vectorstore=Weaviate.from_documents(\n",
        "    client=client,\n",
        "    documents=chunks,\n",
        "    embedding=OpenAIEmbeddings(),\n",
        "    by_text=False\n",
        "\n",
        ")"
      ],
      "metadata": {
        "id": "1ql4xrAJGd4w"
      },
      "execution_count": null,
      "outputs": []
    },
    {
      "cell_type": "code",
      "source": [
        "retriever=vectorstore.as_retriever()"
      ],
      "metadata": {
        "id": "Xl8d_YlcHBux"
      },
      "execution_count": null,
      "outputs": []
    },
    {
      "cell_type": "code",
      "source": [
        "from langchain.chat_models import ChatOpenAI"
      ],
      "metadata": {
        "id": "S_1sXKtUHGlk"
      },
      "execution_count": null,
      "outputs": []
    },
    {
      "cell_type": "code",
      "source": [
        "from langchain.prompts import ChatPromptTemplate\n",
        "from langchain.schema.runnable import RunnablePassthrough\n",
        "from langchain.schema.output_parser import StrOutputParser"
      ],
      "metadata": {
        "id": "N6gB8QecHMc5"
      },
      "execution_count": null,
      "outputs": []
    },
    {
      "cell_type": "code",
      "source": [
        "llm=ChatOpenAI(model_name=\"gpt-3.5-turbo\",temperature=0.2)"
      ],
      "metadata": {
        "id": "pws26QULHVCD"
      },
      "execution_count": null,
      "outputs": []
    },
    {
      "cell_type": "code",
      "source": [
        "# Define prompt template\n",
        "template = \"\"\"You are an assistant for question-answering tasks.\n",
        "Use the following pieces of retrieved context to answer the question.\n",
        "If you don't know the answer, just say that you don't know.\n",
        "Use two sentences maximum and keep the answer concise.\n",
        "Question: {question}\n",
        "Context: {context}\n",
        "Answer:\n",
        "\"\"\""
      ],
      "metadata": {
        "id": "fb0ts_TUHetW"
      },
      "execution_count": null,
      "outputs": []
    },
    {
      "cell_type": "code",
      "source": [
        "prompt = ChatPromptTemplate.from_template(template)\n"
      ],
      "metadata": {
        "id": "CPH3tLVtHlQi"
      },
      "execution_count": null,
      "outputs": []
    },
    {
      "cell_type": "code",
      "source": [
        "rag_chain=(\n",
        "    {\"context\":retriever, \"question\":RunnablePassthrough()}\n",
        "          | prompt\n",
        "          | llm\n",
        "          | StrOutputParser()\n",
        ")"
      ],
      "metadata": {
        "id": "5l-sFT9cHmoy"
      },
      "execution_count": null,
      "outputs": []
    },
    {
      "cell_type": "code",
      "source": [
        "res.text"
      ],
      "metadata": {
        "colab": {
          "base_uri": "https://localhost:8080/",
          "height": 162
        },
        "id": "HVu3fjdjIEtq",
        "outputId": "b73ad738-f5b3-4bb0-8952-797ce68bbbb8"
      },
      "execution_count": null,
      "outputs": [
        {
          "output_type": "execute_result",
          "data": {
            "text/plain": [
              "'Madam Speaker, Madam Vice President, our First Lady and Second Gentleman. Members of Congress and the Cabinet. Justices of the Supreme Court. My fellow Americans.  \\n\\nLast year COVID-19 kept us apart. This year we are finally together again. \\n\\nTonight, we meet as Democrats Republicans and Independents. But most importantly as Americans. \\n\\nWith a duty to one another to the American people to the Constitution. \\n\\nAnd with an unwavering resolve that freedom will always triumph over tyranny. \\n\\nSix days ago, Russia’s Vladimir Putin sought to shake the foundations of the free world thinking he could make it bend to his menacing ways. But he badly miscalculated. \\n\\nHe thought he could roll into Ukraine and the world would roll over. Instead he met a wall of strength he never imagined. \\n\\nHe met the Ukrainian people. \\n\\nFrom President Zelenskyy to every Ukrainian, their fearlessness, their courage, their determination, inspires the world. \\n\\nGroups of citizens blocking tanks with their bodies. Everyone from students to retirees teachers turned soldiers defending their homeland. \\n\\nIn this struggle as President Zelenskyy said in his speech to the European Parliament “Light will win over darkness.” The Ukrainian Ambassador to the United States is here tonight. \\n\\nLet each of us here tonight in this Chamber send an unmistakable signal to Ukraine and to the world. \\n\\nPlease rise if you are able and show that, Yes, we the United States of America stand with the Ukrainian people. \\n\\nThroughout our history we’ve learned this lesson when dictators do not pay a price for their aggression they cause more chaos.   \\n\\nThey keep moving.   \\n\\nAnd the costs and the threats to America and the world keep rising.   \\n\\nThat’s why the NATO Alliance was created to secure peace and stability in Europe after World War 2. \\n\\nThe United States is a member along with 29 other nations. \\n\\nIt matters. American diplomacy matters. American resolve matters. \\n\\nPutin’s latest attack on Ukraine was premeditated and unprovoked. \\n\\nHe rejected repeated efforts at diplomacy. \\n\\nHe thought the West and NATO wouldn’t respond. And he thought he could divide us at home. Putin was wrong. We were ready.  Here is what we did.   \\n\\nWe prepared extensively and carefully. \\n\\nWe spent months building a coalition of other freedom-loving nations from Europe and the Americas to Asia and Africa to confront Putin. \\n\\nI spent countless hours unifying our European allies. We shared with the world in advance what we knew Putin was planning and precisely how he would try to falsely justify his aggression.  \\n\\nWe countered Russia’s lies with truth.   \\n\\nAnd now that he has acted the free world is holding him accountable. \\n\\nAlong with twenty-seven members of the European Union including France, Germany, Italy, as well as countries like the United Kingdom, Canada, Japan, Korea, Australia, New Zealand, and many others, even Switzerland. \\n\\nWe are inflicting pain on Russia and supporting the people of Ukraine. Putin is now isolated from the world more than ever. \\n\\nTogether with our allies –we are right now enforcing powerful economic sanctions. \\n\\nWe are cutting off Russia’s largest banks from the international financial system.  \\n\\nPreventing Russia’s central bank from defending the Russian Ruble making Putin’s $630 Billion “war fund” worthless.   \\n\\nWe are choking off Russia’s access to technology that will sap its economic strength and weaken its military for years to come.  \\n\\nTonight I say to the Russian oligarchs and corrupt leaders who have bilked billions of dollars off this violent regime no more. \\n\\nThe U.S. Department of Justice is assembling a dedicated task force to go after the crimes of Russian oligarchs.  \\n\\nWe are joining with our European allies to find and seize your yachts your luxury apartments your private jets. We are coming for your ill-begotten gains. \\n\\nAnd tonight I am announcing that we will join our allies in closing off American air space to all Russian flights – further isolating Russia – and adding an additional squeeze –on their economy. The Ruble has lost 30% of its value. \\n\\nThe Russian stock market has lost 40% of its value and trading remains suspended. Russia’s economy is reeling and Putin alone is to blame. \\n\\nTogether with our allies we are providing support to the Ukrainians in their fight for freedom. Military assistance. Economic assistance. Humanitarian assistance. \\n\\nWe are giving more than $1 Billion in direct assistance to Ukraine. \\n\\nAnd we will continue to aid the Ukrainian people as they defend their country and to help ease their suffering.  \\n\\nLet me be clear, our forces are not engaged and will not engage in conflict with Russian forces in Ukraine.  \\n\\nOur forces are not going to Europe to fight in Ukraine, but to defend our NATO Allies – in the event that Putin decides to keep moving west.  \\n\\nFor that purpose we’ve mobilized American ground forces, air squadrons, and ship deployments to protect NATO countries including Poland, Romania, Latvia, Lithuania, and Estonia. \\n\\nAs I have made crystal clear the United States and our Allies will defend every inch of territory of NATO countries with the full force of our collective power.  \\n\\nAnd we remain clear-eyed. The Ukrainians are fighting back with pure courage. But the next few days weeks, months, will be hard on them.  \\n\\nPutin has unleashed violence and chaos.  But while he may make gains on the battlefield – he will pay a continuing high price over the long run. \\n\\nAnd a proud Ukrainian people, who have known 30 years  of independence, have repeatedly shown that they will not tolerate anyone who tries to take their country backwards.  \\n\\nTo all Americans, I will be honest with you, as I’ve always promised. A Russian dictator, invading a foreign country, has costs around the world. \\n\\nAnd I’m taking robust action to make sure the pain of our sanctions  is targeted at Russia’s economy. And I will use every tool at our disposal to protect American businesses and consumers. \\n\\nTonight, I can announce that the United States has worked with 30 other countries to release 60 Million barrels of oil from reserves around the world.  \\n\\nAmerica will lead that effort, releasing 30 Million barrels from our own Strategic Petroleum Reserve. And we stand ready to do more if necessary, unified with our allies.  \\n\\nThese steps will help blunt gas prices here at home. And I know the news about what’s happening can seem alarming. \\n\\nBut I want you to know that we are going to be okay. \\n\\nWhen the history of this era is written Putin’s war on Ukraine will have left Russia weaker and the rest of the world stronger. \\n\\nWhile it shouldn’t have taken something so terrible for people around the world to see what’s at stake now everyone sees it clearly. \\n\\nWe see the unity among leaders of nations and a more unified Europe a more unified West. And we see unity among the people who are gathering in cities in large crowds around the world even in Russia to demonstrate their support for Ukraine.  \\n\\nIn the battle between democracy and autocracy, democracies are rising to the moment, and the world is clearly choosing the side of peace and security. \\n\\nThis is a real test. It’s going to take time. So let us continue to draw inspiration from the iron will of the Ukrainian people. \\n\\nTo our fellow Ukrainian Americans who forge a deep bond that connects our two nations we stand with you. \\n\\nPutin may circle Kyiv with tanks, but he will never gain the hearts and souls of the Ukrainian people. \\n\\nHe will never extinguish their love of freedom. He will never weaken the resolve of the free world. \\n\\nWe meet tonight in an America that has lived through two of the hardest years this nation has ever faced. \\n\\nThe pandemic has been punishing. \\n\\nAnd so many families are living paycheck to paycheck, struggling to keep up with the rising cost of food, gas, housing, and so much more. \\n\\nI understand. \\n\\nI remember when my Dad had to leave our home in Scranton, Pennsylvania to find work. I grew up in a family where if the price of food went up, you felt it. \\n\\nThat’s why one of the first things I did as President was fight to pass the American Rescue Plan.  \\n\\nBecause people were hurting. We needed to act, and we did. \\n\\nFew pieces of legislation have done more in a critical moment in our history to lift us out of crisis. \\n\\nIt fueled our efforts to vaccinate the nation and combat COVID-19. It delivered immediate economic relief for tens of millions of Americans.  \\n\\nHelped put food on their table, keep a roof over their heads, and cut the cost of health insurance. \\n\\nAnd as my Dad used to say, it gave people a little breathing room. \\n\\nAnd unlike the $2 Trillion tax cut passed in the previous administration that benefitted the top 1% of Americans, the American Rescue Plan helped working people—and left no one behind. \\n\\nAnd it worked. It created jobs. Lots of jobs. \\n\\nIn fact—our economy created over 6.5 Million new jobs just last year, more jobs created in one year  \\nthan ever before in the history of America. \\n\\nOur economy grew at a rate of 5.7% last year, the strongest growth in nearly 40 years, the first step in bringing fundamental change to an economy that hasn’t worked for the working people of this nation for too long.  \\n\\nFor the past 40 years we were told that if we gave tax breaks to those at the very top, the benefits would trickle down to everyone else. \\n\\nBut that trickle-down theory led to weaker economic growth, lower wages, bigger deficits, and the widest gap between those at the top and everyone else in nearly a century. \\n\\nVice President Harris and I ran for office with a new economic vision for America. \\n\\nInvest in America. Educate Americans. Grow the workforce. Build the economy from the bottom up  \\nand the middle out, not from the top down.  \\n\\nBecause we know that when the middle class grows, the poor have a ladder up and the wealthy do very well. \\n\\nAmerica used to have the best roads, bridges, and airports on Earth. \\n\\nNow our infrastructure is ranked 13th in the world. \\n\\nWe won’t be able to compete for the jobs of the 21st Century if we don’t fix that. \\n\\nThat’s why it was so important to pass the Bipartisan Infrastructure Law—the most sweeping investment to rebuild America in history. \\n\\nThis was a bipartisan effort, and I want to thank the members of both parties who worked to make it happen. \\n\\nWe’re done talking about infrastructure weeks. \\n\\nWe’re going to have an infrastructure decade. \\n\\nIt is going to transform America and put us on a path to win the economic competition of the 21st Century that we face with the rest of the world—particularly with China.  \\n\\nAs I’ve told Xi Jinping, it is never a good bet to bet against the American people. \\n\\nWe’ll create good jobs for millions of Americans, modernizing roads, airports, ports, and waterways all across America. \\n\\nAnd we’ll do it all to withstand the devastating effects of the climate crisis and promote environmental justice. \\n\\nWe’ll build a national network of 500,000 electric vehicle charging stations, begin to replace poisonous lead pipes—so every child—and every American—has clean water to drink at home and at school, provide affordable high-speed internet for every American—urban, suburban, rural, and tribal communities. \\n\\n4,000 projects have already been announced. \\n\\nAnd tonight, I’m announcing that this year we will start fixing over 65,000 miles of highway and 1,500 bridges in disrepair. \\n\\nWhen we use taxpayer dollars to rebuild America – we are going to Buy American: buy American products to support American jobs. \\n\\nThe federal government spends about $600 Billion a year to keep the country safe and secure. \\n\\nThere’s been a law on the books for almost a century \\nto make sure taxpayers’ dollars support American jobs and businesses. \\n\\nEvery Administration says they’ll do it, but we are actually doing it. \\n\\nWe will buy American to make sure everything from the deck of an aircraft carrier to the steel on highway guardrails are made in America. \\n\\nBut to compete for the best jobs of the future, we also need to level the playing field with China and other competitors. \\n\\nThat’s why it is so important to pass the Bipartisan Innovation Act sitting in Congress that will make record investments in emerging technologies and American manufacturing. \\n\\nLet me give you one example of why it’s so important to pass it. \\n\\nIf you travel 20 miles east of Columbus, Ohio, you’ll find 1,000 empty acres of land. \\n\\nIt won’t look like much, but if you stop and look closely, you’ll see a “Field of dreams,” the ground on which America’s future will be built. \\n\\nThis is where Intel, the American company that helped build Silicon Valley, is going to build its $20 billion semiconductor “mega site”. \\n\\nUp to eight state-of-the-art factories in one place. 10,000 new good-paying jobs. \\n\\nSome of the most sophisticated manufacturing in the world to make computer chips the size of a fingertip that power the world and our everyday lives. \\n\\nSmartphones. The Internet. Technology we have yet to invent. \\n\\nBut that’s just the beginning. \\n\\nIntel’s CEO, Pat Gelsinger, who is here tonight, told me they are ready to increase their investment from  \\n$20 billion to $100 billion. \\n\\nThat would be one of the biggest investments in manufacturing in American history. \\n\\nAnd all they’re waiting for is for you to pass this bill. \\n\\nSo let’s not wait any longer. Send it to my desk. I’ll sign it.  \\n\\nAnd we will really take off. \\n\\nAnd Intel is not alone. \\n\\nThere’s something happening in America. \\n\\nJust look around and you’ll see an amazing story. \\n\\nThe rebirth of the pride that comes from stamping products “Made In America.” The revitalization of American manufacturing.   \\n\\nCompanies are choosing to build new factories here, when just a few years ago, they would have built them overseas. \\n\\nThat’s what is happening. Ford is investing $11 billion to build electric vehicles, creating 11,000 jobs across the country. \\n\\nGM is making the largest investment in its history—$7 billion to build electric vehicles, creating 4,000 jobs in Michigan. \\n\\nAll told, we created 369,000 new manufacturing jobs in America just last year. \\n\\nPowered by people I’ve met like JoJo Burgess, from generations of union steelworkers from Pittsburgh, who’s here with us tonight. \\n\\nAs Ohio Senator Sherrod Brown says, “It’s time to bury the label “Rust Belt.” \\n\\nIt’s time. \\n\\nBut with all the bright spots in our economy, record job growth and higher wages, too many families are struggling to keep up with the bills.  \\n\\nInflation is robbing them of the gains they might otherwise feel. \\n\\nI get it. That’s why my top priority is getting prices under control. \\n\\nLook, our economy roared back faster than most predicted, but the pandemic meant that businesses had a hard time hiring enough workers to keep up production in their factories. \\n\\nThe pandemic also disrupted global supply chains. \\n\\nWhen factories close, it takes longer to make goods and get them from the warehouse to the store, and prices go up. \\n\\nLook at cars. \\n\\nLast year, there weren’t enough semiconductors to make all the cars that people wanted to buy. \\n\\nAnd guess what, prices of automobiles went up. \\n\\nSo—we have a choice. \\n\\nOne way to fight inflation is to drive down wages and make Americans poorer.  \\n\\nI have a better plan to fight inflation. \\n\\nLower your costs, not your wages. \\n\\nMake more cars and semiconductors in America. \\n\\nMore infrastructure and innovation in America. \\n\\nMore goods moving faster and cheaper in America. \\n\\nMore jobs where you can earn a good living in America. \\n\\nAnd instead of relying on foreign supply chains, let’s make it in America. \\n\\nEconomists call it “increasing the productive capacity of our economy.” \\n\\nI call it building a better America. \\n\\nMy plan to fight inflation will lower your costs and lower the deficit. \\n\\n17 Nobel laureates in economics say my plan will ease long-term inflationary pressures. Top business leaders and most Americans support my plan. And here’s the plan: \\n\\nFirst – cut the cost of prescription drugs. Just look at insulin. One in ten Americans has diabetes. In Virginia, I met a 13-year-old boy named Joshua Davis.  \\n\\nHe and his Dad both have Type 1 diabetes, which means they need insulin every day. Insulin costs about $10 a vial to make.  \\n\\nBut drug companies charge families like Joshua and his Dad up to 30 times more. I spoke with Joshua’s mom. \\n\\nImagine what it’s like to look at your child who needs insulin and have no idea how you’re going to pay for it.  \\n\\nWhat it does to your dignity, your ability to look your child in the eye, to be the parent you expect to be. \\n\\nJoshua is here with us tonight. Yesterday was his birthday. Happy birthday, buddy.  \\n\\nFor Joshua, and for the 200,000 other young people with Type 1 diabetes, let’s cap the cost of insulin at $35 a month so everyone can afford it.  \\n\\nDrug companies will still do very well. And while we’re at it let Medicare negotiate lower prices for prescription drugs, like the VA already does. \\n\\nLook, the American Rescue Plan is helping millions of families on Affordable Care Act plans save $2,400 a year on their health care premiums. Let’s close the coverage gap and make those savings permanent. \\n\\nSecond – cut energy costs for families an average of $500 a year by combatting climate change.  \\n\\nLet’s provide investments and tax credits to weatherize your homes and businesses to be energy efficient and you get a tax credit; double America’s clean energy production in solar, wind, and so much more;  lower the price of electric vehicles, saving you another $80 a month because you’ll never have to pay at the gas pump again. \\n\\nThird – cut the cost of child care. Many families pay up to $14,000 a year for child care per child.  \\n\\nMiddle-class and working families shouldn’t have to pay more than 7% of their income for care of young children.  \\n\\nMy plan will cut the cost in half for most families and help parents, including millions of women, who left the workforce during the pandemic because they couldn’t afford child care, to be able to get back to work. \\n\\nMy plan doesn’t stop there. It also includes home and long-term care. More affordable housing. And Pre-K for every 3- and 4-year-old.  \\n\\nAll of these will lower costs. \\n\\nAnd under my plan, nobody earning less than $400,000 a year will pay an additional penny in new taxes. Nobody.  \\n\\nThe one thing all Americans agree on is that the tax system is not fair. We have to fix it.  \\n\\nI’m not looking to punish anyone. But let’s make sure corporations and the wealthiest Americans start paying their fair share. \\n\\nJust last year, 55 Fortune 500 corporations earned $40 billion in profits and paid zero dollars in federal income tax.  \\n\\nThat’s simply not fair. That’s why I’ve proposed a 15% minimum tax rate for corporations. \\n\\nWe got more than 130 countries to agree on a global minimum tax rate so companies can’t get out of paying their taxes at home by shipping jobs and factories overseas. \\n\\nThat’s why I’ve proposed closing loopholes so the very wealthy don’t pay a lower tax rate than a teacher or a firefighter.  \\n\\nSo that’s my plan. It will grow the economy and lower costs for families. \\n\\nSo what are we waiting for? Let’s get this done. And while you’re at it, confirm my nominees to the Federal Reserve, which plays a critical role in fighting inflation.  \\n\\nMy plan will not only lower costs to give families a fair shot, it will lower the deficit. \\n\\nThe previous Administration not only ballooned the deficit with tax cuts for the very wealthy and corporations, it undermined the watchdogs whose job was to keep pandemic relief funds from being wasted. \\n\\nBut in my administration, the watchdogs have been welcomed back. \\n\\nWe’re going after the criminals who stole billions in relief money meant for small businesses and millions of Americans.  \\n\\nAnd tonight, I’m announcing that the Justice Department will name a chief prosecutor for pandemic fraud. \\n\\nBy the end of this year, the deficit will be down to less than half what it was before I took office.  \\n\\nThe only president ever to cut the deficit by more than one trillion dollars in a single year. \\n\\nLowering your costs also means demanding more competition. \\n\\nI’m a capitalist, but capitalism without competition isn’t capitalism. \\n\\nIt’s exploitation—and it drives up prices. \\n\\nWhen corporations don’t have to compete, their profits go up, your prices go up, and small businesses and family farmers and ranchers go under. \\n\\nWe see it happening with ocean carriers moving goods in and out of America. \\n\\nDuring the pandemic, these foreign-owned companies raised prices by as much as 1,000% and made record profits. \\n\\nTonight, I’m announcing a crackdown on these companies overcharging American businesses and consumers. \\n\\nAnd as Wall Street firms take over more nursing homes, quality in those homes has gone down and costs have gone up.  \\n\\nThat ends on my watch. \\n\\nMedicare is going to set higher standards for nursing homes and make sure your loved ones get the care they deserve and expect. \\n\\nWe’ll also cut costs and keep the economy going strong by giving workers a fair shot, provide more training and apprenticeships, hire them based on their skills not degrees. \\n\\nLet’s pass the Paycheck Fairness Act and paid leave.  \\n\\nRaise the minimum wage to $15 an hour and extend the Child Tax Credit, so no one has to raise a family in poverty. \\n\\nLet’s increase Pell Grants and increase our historic support of HBCUs, and invest in what Jill—our First Lady who teaches full-time—calls America’s best-kept secret: community colleges. \\n\\nAnd let’s pass the PRO Act when a majority of workers want to form a union—they shouldn’t be stopped.  \\n\\nWhen we invest in our workers, when we build the economy from the bottom up and the middle out together, we can do something we haven’t done in a long time: build a better America. \\n\\nFor more than two years, COVID-19 has impacted every decision in our lives and the life of the nation. \\n\\nAnd I know you’re tired, frustrated, and exhausted. \\n\\nBut I also know this. \\n\\nBecause of the progress we’ve made, because of your resilience and the tools we have, tonight I can say  \\nwe are moving forward safely, back to more normal routines.  \\n\\nWe’ve reached a new moment in the fight against COVID-19, with severe cases down to a level not seen since last July.  \\n\\nJust a few days ago, the Centers for Disease Control and Prevention—the CDC—issued new mask guidelines. \\n\\nUnder these new guidelines, most Americans in most of the country can now be mask free.   \\n\\nAnd based on the projections, more of the country will reach that point across the next couple of weeks. \\n\\nThanks to the progress we have made this past year, COVID-19 need no longer control our lives.  \\n\\nI know some are talking about “living with COVID-19”. Tonight – I say that we will never just accept living with COVID-19. \\n\\nWe will continue to combat the virus as we do other diseases. And because this is a virus that mutates and spreads, we will stay on guard. \\n\\nHere are four common sense steps as we move forward safely.  \\n\\nFirst, stay protected with vaccines and treatments. We know how incredibly effective vaccines are. If you’re vaccinated and boosted you have the highest degree of protection. \\n\\nWe will never give up on vaccinating more Americans. Now, I know parents with kids under 5 are eager to see a vaccine authorized for their children. \\n\\nThe scientists are working hard to get that done and we’ll be ready with plenty of vaccines when they do. \\n\\nWe’re also ready with anti-viral treatments. If you get COVID-19, the Pfizer pill reduces your chances of ending up in the hospital by 90%.  \\n\\nWe’ve ordered more of these pills than anyone in the world. And Pfizer is working overtime to get us 1 Million pills this month and more than double that next month.  \\n\\nAnd we’re launching the “Test to Treat” initiative so people can get tested at a pharmacy, and if they’re positive, receive antiviral pills on the spot at no cost.  \\n\\nIf you’re immunocompromised or have some other vulnerability, we have treatments and free high-quality masks. \\n\\nWe’re leaving no one behind or ignoring anyone’s needs as we move forward. \\n\\nAnd on testing, we have made hundreds of millions of tests available for you to order for free.   \\n\\nEven if you already ordered free tests tonight, I am announcing that you can order more from covidtests.gov starting next week. \\n\\nSecond – we must prepare for new variants. Over the past year, we’ve gotten much better at detecting new variants. \\n\\nIf necessary, we’ll be able to deploy new vaccines within 100 days instead of many more months or years.  \\n\\nAnd, if Congress provides the funds we need, we’ll have new stockpiles of tests, masks, and pills ready if needed. \\n\\nI cannot promise a new variant won’t come. But I can promise you we’ll do everything within our power to be ready if it does.  \\n\\nThird – we can end the shutdown of schools and businesses. We have the tools we need. \\n\\nIt’s time for Americans to get back to work and fill our great downtowns again.  People working from home can feel safe to begin to return to the office.   \\n\\nWe’re doing that here in the federal government. The vast majority of federal workers will once again work in person. \\n\\nOur schools are open. Let’s keep it that way. Our kids need to be in school. \\n\\nAnd with 75% of adult Americans fully vaccinated and hospitalizations down by 77%, most Americans can remove their masks, return to work, stay in the classroom, and move forward safely. \\n\\nWe achieved this because we provided free vaccines, treatments, tests, and masks. \\n\\nOf course, continuing this costs money. \\n\\nI will soon send Congress a request. \\n\\nThe vast majority of Americans have used these tools and may want to again, so I expect Congress to pass it quickly.   \\n\\nFourth, we will continue vaccinating the world.     \\n\\nWe’ve sent 475 Million vaccine doses to 112 countries, more than any other nation. \\n\\nAnd we won’t stop. \\n\\nWe have lost so much to COVID-19. Time with one another. And worst of all, so much loss of life. \\n\\nLet’s use this moment to reset. Let’s stop looking at COVID-19 as a partisan dividing line and see it for what it is: A God-awful disease.  \\n\\nLet’s stop seeing each other as enemies, and start seeing each other for who we really are: Fellow Americans.  \\n\\nWe can’t change how divided we’ve been. But we can change how we move forward—on COVID-19 and other issues we must face together. \\n\\nI recently visited the New York City Police Department days after the funerals of Officer Wilbert Mora and his partner, Officer Jason Rivera. \\n\\nThey were responding to a 9-1-1 call when a man shot and killed them with a stolen gun. \\n\\nOfficer Mora was 27 years old. \\n\\nOfficer Rivera was 22. \\n\\nBoth Dominican Americans who’d grown up on the same streets they later chose to patrol as police officers. \\n\\nI spoke with their families and told them that we are forever in debt for their sacrifice, and we will carry on their mission to restore the trust and safety every community deserves. \\n\\nI’ve worked on these issues a long time. \\n\\nI know what works: Investing in crime prevention and community police officers who’ll walk the beat, who’ll know the neighborhood, and who can restore trust and safety. \\n\\nSo let’s not abandon our streets. Or choose between safety and equal justice. \\n\\nLet’s come together to protect our communities, restore trust, and hold law enforcement accountable. \\n\\nThat’s why the Justice Department required body cameras, banned chokeholds, and restricted no-knock warrants for its officers. \\n\\nThat’s why the American Rescue Plan provided $350 Billion that cities, states, and counties can use to hire more police and invest in proven strategies like community violence interruption—trusted messengers breaking the cycle of violence and trauma and giving young people hope.  \\n\\nWe should all agree: The answer is not to Defund the police. The answer is to FUND the police with the resources and training they need to protect our communities. \\n\\nI ask Democrats and Republicans alike: Pass my budget and keep our neighborhoods safe.  \\n\\nAnd I will keep doing everything in my power to crack down on gun trafficking and ghost guns you can buy online and make at home—they have no serial numbers and can’t be traced. \\n\\nAnd I ask Congress to pass proven measures to reduce gun violence. Pass universal background checks. Why should anyone on a terrorist list be able to purchase a weapon? \\n\\nBan assault weapons and high-capacity magazines. \\n\\nRepeal the liability shield that makes gun manufacturers the only industry in America that can’t be sued. \\n\\nThese laws don’t infringe on the Second Amendment. They save lives. \\n\\nThe most fundamental right in America is the right to vote – and to have it counted. And it’s under assault. \\n\\nIn state after state, new laws have been passed, not only to suppress the vote, but to subvert entire elections. \\n\\nWe cannot let this happen. \\n\\nTonight. I call on the Senate to: Pass the Freedom to Vote Act. Pass the John Lewis Voting Rights Act. And while you’re at it, pass the Disclose Act so Americans can know who is funding our elections. \\n\\nTonight, I’d like to honor someone who has dedicated his life to serve this country: Justice Stephen Breyer—an Army veteran, Constitutional scholar, and retiring Justice of the United States Supreme Court. Justice Breyer, thank you for your service. \\n\\nOne of the most serious constitutional responsibilities a President has is nominating someone to serve on the United States Supreme Court. \\n\\nAnd I did that 4 days ago, when I nominated Circuit Court of Appeals Judge Ketanji Brown Jackson. One of our nation’s top legal minds, who will continue Justice Breyer’s legacy of excellence. \\n\\nA former top litigator in private practice. A former federal public defender. And from a family of public school educators and police officers. A consensus builder. Since she’s been nominated, she’s received a broad range of support—from the Fraternal Order of Police to former judges appointed by Democrats and Republicans. \\n\\nAnd if we are to advance liberty and justice, we need to secure the Border and fix the immigration system. \\n\\nWe can do both. At our border, we’ve installed new technology like cutting-edge scanners to better detect drug smuggling.  \\n\\nWe’ve set up joint patrols with Mexico and Guatemala to catch more human traffickers.  \\n\\nWe’re putting in place dedicated immigration judges so families fleeing persecution and violence can have their cases heard faster. \\n\\nWe’re securing commitments and supporting partners in South and Central America to host more refugees and secure their own borders. \\n\\nWe can do all this while keeping lit the torch of liberty that has led generations of immigrants to this land—my forefathers and so many of yours. \\n\\nProvide a pathway to citizenship for Dreamers, those on temporary status, farm workers, and essential workers. \\n\\nRevise our laws so businesses have the workers they need and families don’t wait decades to reunite. \\n\\nIt’s not only the right thing to do—it’s the economically smart thing to do. \\n\\nThat’s why immigration reform is supported by everyone from labor unions to religious leaders to the U.S. Chamber of Commerce. \\n\\nLet’s get it done once and for all. \\n\\nAdvancing liberty and justice also requires protecting the rights of women. \\n\\nThe constitutional right affirmed in Roe v. Wade—standing precedent for half a century—is under attack as never before. \\n\\nIf we want to go forward—not backward—we must protect access to health care. Preserve a woman’s right to choose. And let’s continue to advance maternal health care in America. \\n\\nAnd for our LGBTQ+ Americans, let’s finally get the bipartisan Equality Act to my desk. The onslaught of state laws targeting transgender Americans and their families is wrong. \\n\\nAs I said last year, especially to our younger transgender Americans, I will always have your back as your President, so you can be yourself and reach your God-given potential. \\n\\nWhile it often appears that we never agree, that isn’t true. I signed 80 bipartisan bills into law last year. From preventing government shutdowns to protecting Asian-Americans from still-too-common hate crimes to reforming military justice. \\n\\nAnd soon, we’ll strengthen the Violence Against Women Act that I first wrote three decades ago. It is important for us to show the nation that we can come together and do big things. \\n\\nSo tonight I’m offering a Unity Agenda for the Nation. Four big things we can do together.  \\n\\nFirst, beat the opioid epidemic. \\n\\nThere is so much we can do. Increase funding for prevention, treatment, harm reduction, and recovery.  \\n\\nGet rid of outdated rules that stop doctors from prescribing treatments. And stop the flow of illicit drugs by working with state and local law enforcement to go after traffickers. \\n\\nIf you’re suffering from addiction, know you are not alone. I believe in recovery, and I celebrate the 23 million Americans in recovery. \\n\\nSecond, let’s take on mental health. Especially among our children, whose lives and education have been turned upside down.  \\n\\nThe American Rescue Plan gave schools money to hire teachers and help students make up for lost learning.  \\n\\nI urge every parent to make sure your school does just that. And we can all play a part—sign up to be a tutor or a mentor. \\n\\nChildren were also struggling before the pandemic. Bullying, violence, trauma, and the harms of social media. \\n\\nAs Frances Haugen, who is here with us tonight, has shown, we must hold social media platforms accountable for the national experiment they’re conducting on our children for profit. \\n\\nIt’s time to strengthen privacy protections, ban targeted advertising to children, demand tech companies stop collecting personal data on our children. \\n\\nAnd let’s get all Americans the mental health services they need. More people they can turn to for help, and full parity between physical and mental health care. \\n\\nThird, support our veterans. \\n\\nVeterans are the best of us. \\n\\nI’ve always believed that we have a sacred obligation to equip all those we send to war and care for them and their families when they come home. \\n\\nMy administration is providing assistance with job training and housing, and now helping lower-income veterans get VA care debt-free.  \\n\\nOur troops in Iraq and Afghanistan faced many dangers. \\n\\nOne was stationed at bases and breathing in toxic smoke from “burn pits” that incinerated wastes of war—medical and hazard material, jet fuel, and more. \\n\\nWhen they came home, many of the world’s fittest and best trained warriors were never the same. \\n\\nHeadaches. Numbness. Dizziness. \\n\\nA cancer that would put them in a flag-draped coffin. \\n\\nI know. \\n\\nOne of those soldiers was my son Major Beau Biden. \\n\\nWe don’t know for sure if a burn pit was the cause of his brain cancer, or the diseases of so many of our troops. \\n\\nBut I’m committed to finding out everything we can. \\n\\nCommitted to military families like Danielle Robinson from Ohio. \\n\\nThe widow of Sergeant First Class Heath Robinson.  \\n\\nHe was born a soldier. Army National Guard. Combat medic in Kosovo and Iraq. \\n\\nStationed near Baghdad, just yards from burn pits the size of football fields. \\n\\nHeath’s widow Danielle is here with us tonight. They loved going to Ohio State football games. He loved building Legos with their daughter. \\n\\nBut cancer from prolonged exposure to burn pits ravaged Heath’s lungs and body. \\n\\nDanielle says Heath was a fighter to the very end. \\n\\nHe didn’t know how to stop fighting, and neither did she. \\n\\nThrough her pain she found purpose to demand we do better. \\n\\nTonight, Danielle—we are. \\n\\nThe VA is pioneering new ways of linking toxic exposures to diseases, already helping more veterans get benefits. \\n\\nAnd tonight, I’m announcing we’re expanding eligibility to veterans suffering from nine respiratory cancers. \\n\\nI’m also calling on Congress: pass a law to make sure veterans devastated by toxic exposures in Iraq and Afghanistan finally get the benefits and comprehensive health care they deserve. \\n\\nAnd fourth, let’s end cancer as we know it. \\n\\nThis is personal to me and Jill, to Kamala, and to so many of you. \\n\\nCancer is the #2 cause of death in America–second only to heart disease. \\n\\nLast month, I announced our plan to supercharge  \\nthe Cancer Moonshot that President Obama asked me to lead six years ago. \\n\\nOur goal is to cut the cancer death rate by at least 50% over the next 25 years, turn more cancers from death sentences into treatable diseases.  \\n\\nMore support for patients and families. \\n\\nTo get there, I call on Congress to fund ARPA-H, the Advanced Research Projects Agency for Health. \\n\\nIt’s based on DARPA—the Defense Department project that led to the Internet, GPS, and so much more.  \\n\\nARPA-H will have a singular purpose—to drive breakthroughs in cancer, Alzheimer’s, diabetes, and more. \\n\\nA unity agenda for the nation. \\n\\nWe can do this. \\n\\nMy fellow Americans—tonight , we have gathered in a sacred space—the citadel of our democracy. \\n\\nIn this Capitol, generation after generation, Americans have debated great questions amid great strife, and have done great things. \\n\\nWe have fought for freedom, expanded liberty, defeated totalitarianism and terror. \\n\\nAnd built the strongest, freest, and most prosperous nation the world has ever known. \\n\\nNow is the hour. \\n\\nOur moment of responsibility. \\n\\nOur test of resolve and conscience, of history itself. \\n\\nIt is in this moment that our character is formed. Our purpose is found. Our future is forged. \\n\\nWell I know this nation.  \\n\\nWe will meet the test. \\n\\nTo protect freedom and liberty, to expand fairness and opportunity. \\n\\nWe will save democracy. \\n\\nAs hard as these times have been, I am more optimistic about America today than I have been my whole life. \\n\\nBecause I see the future that is within our grasp. \\n\\nBecause I know there is simply nothing beyond our capacity. \\n\\nWe are the only nation on Earth that has always turned every crisis we have faced into an opportunity. \\n\\nThe only nation that can be defined by a single word: possibilities. \\n\\nSo on this night, in our 245th year as a nation, I have come to report on the State of the Union. \\n\\nAnd my report is this: the State of the Union is strong—because you, the American people, are strong. \\n\\nWe are stronger today than we were a year ago. \\n\\nAnd we will be stronger a year from now than we are today. \\n\\nNow is our moment to meet and overcome the challenges of our time. \\n\\nAnd we will, as one people. \\n\\nOne America. \\n\\nThe United States of America. \\n\\nMay God bless you all. May God protect our troops.'"
            ],
            "application/vnd.google.colaboratory.intrinsic+json": {
              "type": "string"
            }
          },
          "metadata": {},
          "execution_count": 45
        }
      ]
    },
    {
      "cell_type": "code",
      "source": [
        "\n",
        "questions=[\"what did the President say about Justic Breyer?\",\n",
        "           \"What did the President say abou Intel's CEO?\",\n",
        "           \"What did the President say about gun violence?\"\n",
        "\n",
        "           ]"
      ],
      "metadata": {
        "id": "9Dz6DfRsInzx"
      },
      "execution_count": null,
      "outputs": []
    },
    {
      "cell_type": "code",
      "source": [
        "groud_truths=[[\"The president said that Justice Breyer has dedicated his life to serve the country and thanked him for his service.\"],\n",
        "              [\"The president said that Pat Gelsinger is ready to increase Intel's investment to $100 billion.\"],\n",
        "              [\"The president asked Congress to pass proven measures to reduce gun violence.\"]]"
      ],
      "metadata": {
        "id": "t8V3TsHeJKNK"
      },
      "execution_count": null,
      "outputs": []
    },
    {
      "cell_type": "code",
      "source": [
        "query"
      ],
      "metadata": {
        "colab": {
          "base_uri": "https://localhost:8080/",
          "height": 35
        },
        "id": "7X74x-8xL_TB",
        "outputId": "d1bddd4d-059a-455e-e13e-49bd41b4514c"
      },
      "execution_count": null,
      "outputs": [
        {
          "output_type": "execute_result",
          "data": {
            "text/plain": [
              "'what did the President say about Justic Breyer?'"
            ],
            "application/vnd.google.colaboratory.intrinsic+json": {
              "type": "string"
            }
          },
          "metadata": {},
          "execution_count": 49
        }
      ]
    },
    {
      "cell_type": "code",
      "source": [
        "rag_chain.invoke(query)"
      ],
      "metadata": {
        "colab": {
          "base_uri": "https://localhost:8080/",
          "height": 35
        },
        "id": "B1Mu3_I7Lbwm",
        "outputId": "8ccee8f7-69d6-47f1-d3b4-7ba9f4a33808"
      },
      "execution_count": null,
      "outputs": [
        {
          "output_type": "execute_result",
          "data": {
            "text/plain": [
              "'The President honored Justice Breyer for his service and mentioned nominating Judge Ketanji Brown Jackson to continue his legacy.'"
            ],
            "application/vnd.google.colaboratory.intrinsic+json": {
              "type": "string"
            }
          },
          "metadata": {},
          "execution_count": 48
        }
      ]
    },
    {
      "cell_type": "code",
      "source": [
        "answer=[]\n",
        "context=[]"
      ],
      "metadata": {
        "id": "EevrMujMJVpz"
      },
      "execution_count": null,
      "outputs": []
    },
    {
      "cell_type": "code",
      "source": [
        "for query in questions:\n",
        "  answer.append(rag_chain.invoke(query))\n",
        "  context.append([docs.page_content  for docs in retriever.get_relevant_documents(query)])\n",
        "\n",
        "\n"
      ],
      "metadata": {
        "id": "rUkcsda9LDWh"
      },
      "execution_count": null,
      "outputs": []
    },
    {
      "cell_type": "code",
      "source": [
        "answer"
      ],
      "metadata": {
        "colab": {
          "base_uri": "https://localhost:8080/"
        },
        "id": "y0tkUe2SM6GF",
        "outputId": "ced5ec39-8315-488e-9f2f-2e23af371044"
      },
      "execution_count": null,
      "outputs": [
        {
          "output_type": "execute_result",
          "data": {
            "text/plain": [
              "['The President honored Justice Breyer for his service and mentioned nominating Judge Ketanji Brown Jackson to continue his legacy.',\n",
              " \"The President mentioned that Intel's CEO, Pat Gelsinger, is ready to increase their investment from $20 billion to $100 billion, which would be one of the biggest investments in manufacturing in American history.\",\n",
              " 'The President called for Congress to pass measures to reduce gun violence, including universal background checks and banning assault weapons and high-capacity magazines. He also emphasized the need to crack down on gun trafficking and ghost guns.']"
            ]
          },
          "metadata": {},
          "execution_count": 57
        }
      ]
    },
    {
      "cell_type": "code",
      "source": [
        "context"
      ],
      "metadata": {
        "colab": {
          "base_uri": "https://localhost:8080/"
        },
        "id": "NgyF6GawM7ZS",
        "outputId": "9f123263-9f8d-43ee-c988-1b5585d9a85d"
      },
      "execution_count": null,
      "outputs": [
        {
          "output_type": "execute_result",
          "data": {
            "text/plain": [
              "[['Tonight, I’d like to honor someone who has dedicated his life to serve this country: Justice Stephen Breyer—an Army veteran, Constitutional scholar, and retiring Justice of the United States Supreme Court. Justice Breyer, thank you for your service. \\n\\nOne of the most serious constitutional responsibilities a President has is nominating someone to serve on the United States Supreme Court.',\n",
              "  'And I did that 4 days ago, when I nominated Circuit Court of Appeals Judge Ketanji Brown Jackson. One of our nation’s top legal minds, who will continue Justice Breyer’s legacy of excellence.',\n",
              "  'A former top litigator in private practice. A former federal public defender. And from a family of public school educators and police officers. A consensus builder. Since she’s been nominated, she’s received a broad range of support—from the Fraternal Order of Police to former judges appointed by Democrats and Republicans. \\n\\nAnd if we are to advance liberty and justice, we need to secure the Border and fix the immigration system.',\n",
              "  'As I said last year, especially to our younger transgender Americans, I will always have your back as your President, so you can be yourself and reach your God-given potential. \\n\\nWhile it often appears that we never agree, that isn’t true. I signed 80 bipartisan bills into law last year. From preventing government shutdowns to protecting Asian-Americans from still-too-common hate crimes to reforming military justice.'],\n",
              " ['But that’s just the beginning. \\n\\nIntel’s CEO, Pat Gelsinger, who is here tonight, told me they are ready to increase their investment from  \\n$20 billion to $100 billion. \\n\\nThat would be one of the biggest investments in manufacturing in American history. \\n\\nAnd all they’re waiting for is for you to pass this bill. \\n\\nSo let’s not wait any longer. Send it to my desk. I’ll sign it.  \\n\\nAnd we will really take off. \\n\\nAnd Intel is not alone. \\n\\nThere’s something happening in America.',\n",
              "  'This is where Intel, the American company that helped build Silicon Valley, is going to build its $20 billion semiconductor “mega site”. \\n\\nUp to eight state-of-the-art factories in one place. 10,000 new good-paying jobs. \\n\\nSome of the most sophisticated manufacturing in the world to make computer chips the size of a fingertip that power the world and our everyday lives. \\n\\nSmartphones. The Internet. Technology we have yet to invent. \\n\\nBut that’s just the beginning.',\n",
              "  'For the past 40 years we were told that if we gave tax breaks to those at the very top, the benefits would trickle down to everyone else. \\n\\nBut that trickle-down theory led to weaker economic growth, lower wages, bigger deficits, and the widest gap between those at the top and everyone else in nearly a century. \\n\\nVice President Harris and I ran for office with a new economic vision for America.',\n",
              "  'As I said last year, especially to our younger transgender Americans, I will always have your back as your President, so you can be yourself and reach your God-given potential. \\n\\nWhile it often appears that we never agree, that isn’t true. I signed 80 bipartisan bills into law last year. From preventing government shutdowns to protecting Asian-Americans from still-too-common hate crimes to reforming military justice.'],\n",
              " ['And I ask Congress to pass proven measures to reduce gun violence. Pass universal background checks. Why should anyone on a terrorist list be able to purchase a weapon? \\n\\nBan assault weapons and high-capacity magazines. \\n\\nRepeal the liability shield that makes gun manufacturers the only industry in America that can’t be sued. \\n\\nThese laws don’t infringe on the Second Amendment. They save lives.',\n",
              "  'As I said last year, especially to our younger transgender Americans, I will always have your back as your President, so you can be yourself and reach your God-given potential. \\n\\nWhile it often appears that we never agree, that isn’t true. I signed 80 bipartisan bills into law last year. From preventing government shutdowns to protecting Asian-Americans from still-too-common hate crimes to reforming military justice.',\n",
              "  'Let’s stop seeing each other as enemies, and start seeing each other for who we really are: Fellow Americans.  \\n\\nWe can’t change how divided we’ve been. But we can change how we move forward—on COVID-19 and other issues we must face together. \\n\\nI recently visited the New York City Police Department days after the funerals of Officer Wilbert Mora and his partner, Officer Jason Rivera. \\n\\nThey were responding to a 9-1-1 call when a man shot and killed them with a stolen gun.',\n",
              "  'We should all agree: The answer is not to Defund the police. The answer is to FUND the police with the resources and training they need to protect our communities. \\n\\nI ask Democrats and Republicans alike: Pass my budget and keep our neighborhoods safe.  \\n\\nAnd I will keep doing everything in my power to crack down on gun trafficking and ghost guns you can buy online and make at home—they have no serial numbers and can’t be traced.']]"
            ]
          },
          "metadata": {},
          "execution_count": 59
        }
      ]
    },
    {
      "cell_type": "code",
      "source": [
        "# To dict\n",
        "data = {\n",
        "    \"question\": questions,\n",
        "    \"answer\": answer,\n",
        "    \"contexts\": context,\n",
        "    \"ground_truths\": groud_truths\n",
        "}\n",
        "\n",
        "\n"
      ],
      "metadata": {
        "id": "o8vFPC-XJcXx"
      },
      "execution_count": null,
      "outputs": []
    },
    {
      "cell_type": "code",
      "source": [
        "from datasets import Dataset\n",
        "dataset=Dataset.from_dict(data)"
      ],
      "metadata": {
        "id": "Jf7121l-K5CL"
      },
      "execution_count": null,
      "outputs": []
    },
    {
      "cell_type": "code",
      "source": [
        "!pip install Dataset\n"
      ],
      "metadata": {
        "colab": {
          "base_uri": "https://localhost:8080/"
        },
        "id": "lVlx3M0BK5gg",
        "outputId": "f613245a-9199-4a5a-c479-725603c3c30a"
      },
      "execution_count": null,
      "outputs": [
        {
          "output_type": "stream",
          "name": "stdout",
          "text": [
            "Requirement already satisfied: Dataset in /usr/local/lib/python3.10/dist-packages (1.6.2)\n",
            "Requirement already satisfied: sqlalchemy<2.0.0,>=1.3.2 in /usr/local/lib/python3.10/dist-packages (from Dataset) (1.4.52)\n",
            "Requirement already satisfied: alembic>=0.6.2 in /usr/local/lib/python3.10/dist-packages (from Dataset) (1.13.1)\n",
            "Requirement already satisfied: banal>=1.0.1 in /usr/local/lib/python3.10/dist-packages (from Dataset) (1.0.6)\n",
            "Requirement already satisfied: Mako in /usr/local/lib/python3.10/dist-packages (from alembic>=0.6.2->Dataset) (1.3.3)\n",
            "Requirement already satisfied: typing-extensions>=4 in /usr/local/lib/python3.10/dist-packages (from alembic>=0.6.2->Dataset) (4.11.0)\n",
            "Requirement already satisfied: greenlet!=0.4.17 in /usr/local/lib/python3.10/dist-packages (from sqlalchemy<2.0.0,>=1.3.2->Dataset) (3.0.3)\n",
            "Requirement already satisfied: MarkupSafe>=0.9.2 in /usr/local/lib/python3.10/dist-packages (from Mako->alembic>=0.6.2->Dataset) (2.1.5)\n"
          ]
        }
      ]
    },
    {
      "cell_type": "code",
      "source": [
        "from ragas import evaluate\n",
        "from ragas.metrics import (\n",
        "    faithfulness,\n",
        "    answer_relevancy,\n",
        "    context_recall,\n",
        "    context_precision,\n",
        ")"
      ],
      "metadata": {
        "id": "K9Nr15uVNWN4"
      },
      "execution_count": null,
      "outputs": []
    },
    {
      "cell_type": "code",
      "source": [
        "result=evaluate(\n",
        "    dataset=dataset,\n",
        "    metrics=[\n",
        "        context_precision,\n",
        "        context_recall,\n",
        "        faithfulness,\n",
        "        answer_relevancy\n",
        "    ]\n",
        ")"
      ],
      "metadata": {
        "colab": {
          "base_uri": "https://localhost:8080/",
          "height": 87,
          "referenced_widgets": [
            "ad458bd4a169488ca51dffacb3e1a69b",
            "bbb4d05f2b814a8ca5dd84402d52187c",
            "d31f3ac36dc24b4e97288ac3c90ef0cc",
            "75cb5116bea749e18259e2b1a5f47147",
            "8b814a076c8d4cca89cb82ae984988d9",
            "dc022fbec3d5499a9960a608bef523f8",
            "897298e19c7a4a0f87b19c5b78ecb098",
            "62335245ebde4e0597af9dcb67858707",
            "b017f1c69210420f97aecf709bb826e4",
            "cb6b4c126f1d46e7bd93ea6fcd7e7534",
            "6ade838119c84470aa5c87fd782d84a4"
          ]
        },
        "id": "mY9oYF4pNiQ1",
        "outputId": "3995bc6d-d7a3-47fa-acfc-d3ffb8b01715"
      },
      "execution_count": null,
      "outputs": [
        {
          "output_type": "stream",
          "name": "stderr",
          "text": [
            "WARNING:ragas.validation:passing column names as 'ground_truths' is deprecated and will be removed in the next version, please use 'ground_truth' instead. Note that `ground_truth` should be of type string and not Sequence[string] like `ground_truths`\n"
          ]
        },
        {
          "output_type": "display_data",
          "data": {
            "text/plain": [
              "Evaluating:   0%|          | 0/12 [00:00<?, ?it/s]"
            ],
            "application/vnd.jupyter.widget-view+json": {
              "version_major": 2,
              "version_minor": 0,
              "model_id": "ad458bd4a169488ca51dffacb3e1a69b"
            }
          },
          "metadata": {}
        }
      ]
    },
    {
      "cell_type": "code",
      "source": [
        "result"
      ],
      "metadata": {
        "colab": {
          "base_uri": "https://localhost:8080/"
        },
        "id": "AFIT-pkpOCyn",
        "outputId": "349e570c-9cbe-41c0-cdef-af60d1602ac4"
      },
      "execution_count": null,
      "outputs": [
        {
          "output_type": "execute_result",
          "data": {
            "text/plain": [
              "{'context_precision': 1.0000, 'context_recall': 1.0000, 'faithfulness': 1.0000, 'answer_relevancy': 0.8727}"
            ]
          },
          "metadata": {},
          "execution_count": 65
        }
      ]
    },
    {
      "cell_type": "code",
      "source": [
        "df=result.to_pandas()"
      ],
      "metadata": {
        "id": "ESPmG2dFOH0j"
      },
      "execution_count": null,
      "outputs": []
    },
    {
      "cell_type": "code",
      "source": [
        "df"
      ],
      "metadata": {
        "colab": {
          "base_uri": "https://localhost:8080/",
          "height": 403
        },
        "id": "HeaiyslMPWS5",
        "outputId": "181b9d5c-e6ed-4a32-eab5-c1ab483f6c0b"
      },
      "execution_count": null,
      "outputs": [
        {
          "output_type": "execute_result",
          "data": {
            "text/plain": [
              "                                          question  \\\n",
              "0  what did the President say about Justic Breyer?   \n",
              "1     What did the President say abou Intel's CEO?   \n",
              "2   What did the President say about gun violence?   \n",
              "\n",
              "                                              answer  \\\n",
              "0  The President honored Justice Breyer for his s...   \n",
              "1  The President mentioned that Intel's CEO, Pat ...   \n",
              "2  The President called for Congress to pass meas...   \n",
              "\n",
              "                                            contexts  \\\n",
              "0  [Tonight, I’d like to honor someone who has de...   \n",
              "1  [But that’s just the beginning. \\n\\nIntel’s CE...   \n",
              "2  [And I ask Congress to pass proven measures to...   \n",
              "\n",
              "                                       ground_truths  \\\n",
              "0  [The president said that Justice Breyer has de...   \n",
              "1  [The president said that Pat Gelsinger is read...   \n",
              "2  [The president asked Congress to pass proven m...   \n",
              "\n",
              "                                        ground_truth  context_precision  \\\n",
              "0  The president said that Justice Breyer has ded...                1.0   \n",
              "1  The president said that Pat Gelsinger is ready...                1.0   \n",
              "2  The president asked Congress to pass proven me...                1.0   \n",
              "\n",
              "   context_recall  faithfulness  answer_relevancy  \n",
              "0             1.0           1.0          0.830730  \n",
              "1             1.0           1.0          0.879788  \n",
              "2             1.0           1.0          0.907444  "
            ],
            "text/html": [
              "\n",
              "  <div id=\"df-b1a67cd4-dbff-44f1-8ee4-bad4d762f165\" class=\"colab-df-container\">\n",
              "    <div>\n",
              "<style scoped>\n",
              "    .dataframe tbody tr th:only-of-type {\n",
              "        vertical-align: middle;\n",
              "    }\n",
              "\n",
              "    .dataframe tbody tr th {\n",
              "        vertical-align: top;\n",
              "    }\n",
              "\n",
              "    .dataframe thead th {\n",
              "        text-align: right;\n",
              "    }\n",
              "</style>\n",
              "<table border=\"1\" class=\"dataframe\">\n",
              "  <thead>\n",
              "    <tr style=\"text-align: right;\">\n",
              "      <th></th>\n",
              "      <th>question</th>\n",
              "      <th>answer</th>\n",
              "      <th>contexts</th>\n",
              "      <th>ground_truths</th>\n",
              "      <th>ground_truth</th>\n",
              "      <th>context_precision</th>\n",
              "      <th>context_recall</th>\n",
              "      <th>faithfulness</th>\n",
              "      <th>answer_relevancy</th>\n",
              "    </tr>\n",
              "  </thead>\n",
              "  <tbody>\n",
              "    <tr>\n",
              "      <th>0</th>\n",
              "      <td>what did the President say about Justic Breyer?</td>\n",
              "      <td>The President honored Justice Breyer for his s...</td>\n",
              "      <td>[Tonight, I’d like to honor someone who has de...</td>\n",
              "      <td>[The president said that Justice Breyer has de...</td>\n",
              "      <td>The president said that Justice Breyer has ded...</td>\n",
              "      <td>1.0</td>\n",
              "      <td>1.0</td>\n",
              "      <td>1.0</td>\n",
              "      <td>0.830730</td>\n",
              "    </tr>\n",
              "    <tr>\n",
              "      <th>1</th>\n",
              "      <td>What did the President say abou Intel's CEO?</td>\n",
              "      <td>The President mentioned that Intel's CEO, Pat ...</td>\n",
              "      <td>[But that’s just the beginning. \\n\\nIntel’s CE...</td>\n",
              "      <td>[The president said that Pat Gelsinger is read...</td>\n",
              "      <td>The president said that Pat Gelsinger is ready...</td>\n",
              "      <td>1.0</td>\n",
              "      <td>1.0</td>\n",
              "      <td>1.0</td>\n",
              "      <td>0.879788</td>\n",
              "    </tr>\n",
              "    <tr>\n",
              "      <th>2</th>\n",
              "      <td>What did the President say about gun violence?</td>\n",
              "      <td>The President called for Congress to pass meas...</td>\n",
              "      <td>[And I ask Congress to pass proven measures to...</td>\n",
              "      <td>[The president asked Congress to pass proven m...</td>\n",
              "      <td>The president asked Congress to pass proven me...</td>\n",
              "      <td>1.0</td>\n",
              "      <td>1.0</td>\n",
              "      <td>1.0</td>\n",
              "      <td>0.907444</td>\n",
              "    </tr>\n",
              "  </tbody>\n",
              "</table>\n",
              "</div>\n",
              "    <div class=\"colab-df-buttons\">\n",
              "\n",
              "  <div class=\"colab-df-container\">\n",
              "    <button class=\"colab-df-convert\" onclick=\"convertToInteractive('df-b1a67cd4-dbff-44f1-8ee4-bad4d762f165')\"\n",
              "            title=\"Convert this dataframe to an interactive table.\"\n",
              "            style=\"display:none;\">\n",
              "\n",
              "  <svg xmlns=\"http://www.w3.org/2000/svg\" height=\"24px\" viewBox=\"0 -960 960 960\">\n",
              "    <path d=\"M120-120v-720h720v720H120Zm60-500h600v-160H180v160Zm220 220h160v-160H400v160Zm0 220h160v-160H400v160ZM180-400h160v-160H180v160Zm440 0h160v-160H620v160ZM180-180h160v-160H180v160Zm440 0h160v-160H620v160Z\"/>\n",
              "  </svg>\n",
              "    </button>\n",
              "\n",
              "  <style>\n",
              "    .colab-df-container {\n",
              "      display:flex;\n",
              "      gap: 12px;\n",
              "    }\n",
              "\n",
              "    .colab-df-convert {\n",
              "      background-color: #E8F0FE;\n",
              "      border: none;\n",
              "      border-radius: 50%;\n",
              "      cursor: pointer;\n",
              "      display: none;\n",
              "      fill: #1967D2;\n",
              "      height: 32px;\n",
              "      padding: 0 0 0 0;\n",
              "      width: 32px;\n",
              "    }\n",
              "\n",
              "    .colab-df-convert:hover {\n",
              "      background-color: #E2EBFA;\n",
              "      box-shadow: 0px 1px 2px rgba(60, 64, 67, 0.3), 0px 1px 3px 1px rgba(60, 64, 67, 0.15);\n",
              "      fill: #174EA6;\n",
              "    }\n",
              "\n",
              "    .colab-df-buttons div {\n",
              "      margin-bottom: 4px;\n",
              "    }\n",
              "\n",
              "    [theme=dark] .colab-df-convert {\n",
              "      background-color: #3B4455;\n",
              "      fill: #D2E3FC;\n",
              "    }\n",
              "\n",
              "    [theme=dark] .colab-df-convert:hover {\n",
              "      background-color: #434B5C;\n",
              "      box-shadow: 0px 1px 3px 1px rgba(0, 0, 0, 0.15);\n",
              "      filter: drop-shadow(0px 1px 2px rgba(0, 0, 0, 0.3));\n",
              "      fill: #FFFFFF;\n",
              "    }\n",
              "  </style>\n",
              "\n",
              "    <script>\n",
              "      const buttonEl =\n",
              "        document.querySelector('#df-b1a67cd4-dbff-44f1-8ee4-bad4d762f165 button.colab-df-convert');\n",
              "      buttonEl.style.display =\n",
              "        google.colab.kernel.accessAllowed ? 'block' : 'none';\n",
              "\n",
              "      async function convertToInteractive(key) {\n",
              "        const element = document.querySelector('#df-b1a67cd4-dbff-44f1-8ee4-bad4d762f165');\n",
              "        const dataTable =\n",
              "          await google.colab.kernel.invokeFunction('convertToInteractive',\n",
              "                                                    [key], {});\n",
              "        if (!dataTable) return;\n",
              "\n",
              "        const docLinkHtml = 'Like what you see? Visit the ' +\n",
              "          '<a target=\"_blank\" href=https://colab.research.google.com/notebooks/data_table.ipynb>data table notebook</a>'\n",
              "          + ' to learn more about interactive tables.';\n",
              "        element.innerHTML = '';\n",
              "        dataTable['output_type'] = 'display_data';\n",
              "        await google.colab.output.renderOutput(dataTable, element);\n",
              "        const docLink = document.createElement('div');\n",
              "        docLink.innerHTML = docLinkHtml;\n",
              "        element.appendChild(docLink);\n",
              "      }\n",
              "    </script>\n",
              "  </div>\n",
              "\n",
              "\n",
              "<div id=\"df-b4f57176-84e4-4016-ad98-82322676849f\">\n",
              "  <button class=\"colab-df-quickchart\" onclick=\"quickchart('df-b4f57176-84e4-4016-ad98-82322676849f')\"\n",
              "            title=\"Suggest charts\"\n",
              "            style=\"display:none;\">\n",
              "\n",
              "<svg xmlns=\"http://www.w3.org/2000/svg\" height=\"24px\"viewBox=\"0 0 24 24\"\n",
              "     width=\"24px\">\n",
              "    <g>\n",
              "        <path d=\"M19 3H5c-1.1 0-2 .9-2 2v14c0 1.1.9 2 2 2h14c1.1 0 2-.9 2-2V5c0-1.1-.9-2-2-2zM9 17H7v-7h2v7zm4 0h-2V7h2v10zm4 0h-2v-4h2v4z\"/>\n",
              "    </g>\n",
              "</svg>\n",
              "  </button>\n",
              "\n",
              "<style>\n",
              "  .colab-df-quickchart {\n",
              "      --bg-color: #E8F0FE;\n",
              "      --fill-color: #1967D2;\n",
              "      --hover-bg-color: #E2EBFA;\n",
              "      --hover-fill-color: #174EA6;\n",
              "      --disabled-fill-color: #AAA;\n",
              "      --disabled-bg-color: #DDD;\n",
              "  }\n",
              "\n",
              "  [theme=dark] .colab-df-quickchart {\n",
              "      --bg-color: #3B4455;\n",
              "      --fill-color: #D2E3FC;\n",
              "      --hover-bg-color: #434B5C;\n",
              "      --hover-fill-color: #FFFFFF;\n",
              "      --disabled-bg-color: #3B4455;\n",
              "      --disabled-fill-color: #666;\n",
              "  }\n",
              "\n",
              "  .colab-df-quickchart {\n",
              "    background-color: var(--bg-color);\n",
              "    border: none;\n",
              "    border-radius: 50%;\n",
              "    cursor: pointer;\n",
              "    display: none;\n",
              "    fill: var(--fill-color);\n",
              "    height: 32px;\n",
              "    padding: 0;\n",
              "    width: 32px;\n",
              "  }\n",
              "\n",
              "  .colab-df-quickchart:hover {\n",
              "    background-color: var(--hover-bg-color);\n",
              "    box-shadow: 0 1px 2px rgba(60, 64, 67, 0.3), 0 1px 3px 1px rgba(60, 64, 67, 0.15);\n",
              "    fill: var(--button-hover-fill-color);\n",
              "  }\n",
              "\n",
              "  .colab-df-quickchart-complete:disabled,\n",
              "  .colab-df-quickchart-complete:disabled:hover {\n",
              "    background-color: var(--disabled-bg-color);\n",
              "    fill: var(--disabled-fill-color);\n",
              "    box-shadow: none;\n",
              "  }\n",
              "\n",
              "  .colab-df-spinner {\n",
              "    border: 2px solid var(--fill-color);\n",
              "    border-color: transparent;\n",
              "    border-bottom-color: var(--fill-color);\n",
              "    animation:\n",
              "      spin 1s steps(1) infinite;\n",
              "  }\n",
              "\n",
              "  @keyframes spin {\n",
              "    0% {\n",
              "      border-color: transparent;\n",
              "      border-bottom-color: var(--fill-color);\n",
              "      border-left-color: var(--fill-color);\n",
              "    }\n",
              "    20% {\n",
              "      border-color: transparent;\n",
              "      border-left-color: var(--fill-color);\n",
              "      border-top-color: var(--fill-color);\n",
              "    }\n",
              "    30% {\n",
              "      border-color: transparent;\n",
              "      border-left-color: var(--fill-color);\n",
              "      border-top-color: var(--fill-color);\n",
              "      border-right-color: var(--fill-color);\n",
              "    }\n",
              "    40% {\n",
              "      border-color: transparent;\n",
              "      border-right-color: var(--fill-color);\n",
              "      border-top-color: var(--fill-color);\n",
              "    }\n",
              "    60% {\n",
              "      border-color: transparent;\n",
              "      border-right-color: var(--fill-color);\n",
              "    }\n",
              "    80% {\n",
              "      border-color: transparent;\n",
              "      border-right-color: var(--fill-color);\n",
              "      border-bottom-color: var(--fill-color);\n",
              "    }\n",
              "    90% {\n",
              "      border-color: transparent;\n",
              "      border-bottom-color: var(--fill-color);\n",
              "    }\n",
              "  }\n",
              "</style>\n",
              "\n",
              "  <script>\n",
              "    async function quickchart(key) {\n",
              "      const quickchartButtonEl =\n",
              "        document.querySelector('#' + key + ' button');\n",
              "      quickchartButtonEl.disabled = true;  // To prevent multiple clicks.\n",
              "      quickchartButtonEl.classList.add('colab-df-spinner');\n",
              "      try {\n",
              "        const charts = await google.colab.kernel.invokeFunction(\n",
              "            'suggestCharts', [key], {});\n",
              "      } catch (error) {\n",
              "        console.error('Error during call to suggestCharts:', error);\n",
              "      }\n",
              "      quickchartButtonEl.classList.remove('colab-df-spinner');\n",
              "      quickchartButtonEl.classList.add('colab-df-quickchart-complete');\n",
              "    }\n",
              "    (() => {\n",
              "      let quickchartButtonEl =\n",
              "        document.querySelector('#df-b4f57176-84e4-4016-ad98-82322676849f button');\n",
              "      quickchartButtonEl.style.display =\n",
              "        google.colab.kernel.accessAllowed ? 'block' : 'none';\n",
              "    })();\n",
              "  </script>\n",
              "</div>\n",
              "\n",
              "  <div id=\"id_386e7571-cd7b-44dc-aed1-28296dfaa10f\">\n",
              "    <style>\n",
              "      .colab-df-generate {\n",
              "        background-color: #E8F0FE;\n",
              "        border: none;\n",
              "        border-radius: 50%;\n",
              "        cursor: pointer;\n",
              "        display: none;\n",
              "        fill: #1967D2;\n",
              "        height: 32px;\n",
              "        padding: 0 0 0 0;\n",
              "        width: 32px;\n",
              "      }\n",
              "\n",
              "      .colab-df-generate:hover {\n",
              "        background-color: #E2EBFA;\n",
              "        box-shadow: 0px 1px 2px rgba(60, 64, 67, 0.3), 0px 1px 3px 1px rgba(60, 64, 67, 0.15);\n",
              "        fill: #174EA6;\n",
              "      }\n",
              "\n",
              "      [theme=dark] .colab-df-generate {\n",
              "        background-color: #3B4455;\n",
              "        fill: #D2E3FC;\n",
              "      }\n",
              "\n",
              "      [theme=dark] .colab-df-generate:hover {\n",
              "        background-color: #434B5C;\n",
              "        box-shadow: 0px 1px 3px 1px rgba(0, 0, 0, 0.15);\n",
              "        filter: drop-shadow(0px 1px 2px rgba(0, 0, 0, 0.3));\n",
              "        fill: #FFFFFF;\n",
              "      }\n",
              "    </style>\n",
              "    <button class=\"colab-df-generate\" onclick=\"generateWithVariable('df')\"\n",
              "            title=\"Generate code using this dataframe.\"\n",
              "            style=\"display:none;\">\n",
              "\n",
              "  <svg xmlns=\"http://www.w3.org/2000/svg\" height=\"24px\"viewBox=\"0 0 24 24\"\n",
              "       width=\"24px\">\n",
              "    <path d=\"M7,19H8.4L18.45,9,17,7.55,7,17.6ZM5,21V16.75L18.45,3.32a2,2,0,0,1,2.83,0l1.4,1.43a1.91,1.91,0,0,1,.58,1.4,1.91,1.91,0,0,1-.58,1.4L9.25,21ZM18.45,9,17,7.55Zm-12,3A5.31,5.31,0,0,0,4.9,8.1,5.31,5.31,0,0,0,1,6.5,5.31,5.31,0,0,0,4.9,4.9,5.31,5.31,0,0,0,6.5,1,5.31,5.31,0,0,0,8.1,4.9,5.31,5.31,0,0,0,12,6.5,5.46,5.46,0,0,0,6.5,12Z\"/>\n",
              "  </svg>\n",
              "    </button>\n",
              "    <script>\n",
              "      (() => {\n",
              "      const buttonEl =\n",
              "        document.querySelector('#id_386e7571-cd7b-44dc-aed1-28296dfaa10f button.colab-df-generate');\n",
              "      buttonEl.style.display =\n",
              "        google.colab.kernel.accessAllowed ? 'block' : 'none';\n",
              "\n",
              "      buttonEl.onclick = () => {\n",
              "        google.colab.notebook.generateWithVariable('df');\n",
              "      }\n",
              "      })();\n",
              "    </script>\n",
              "  </div>\n",
              "\n",
              "    </div>\n",
              "  </div>\n"
            ],
            "application/vnd.google.colaboratory.intrinsic+json": {
              "type": "dataframe",
              "variable_name": "df",
              "summary": "{\n  \"name\": \"df\",\n  \"rows\": 3,\n  \"fields\": [\n    {\n      \"column\": \"question\",\n      \"properties\": {\n        \"dtype\": \"string\",\n        \"num_unique_values\": 3,\n        \"samples\": [\n          \"what did the President say about Justic Breyer?\",\n          \"What did the President say abou Intel's CEO?\",\n          \"What did the President say about gun violence?\"\n        ],\n        \"semantic_type\": \"\",\n        \"description\": \"\"\n      }\n    },\n    {\n      \"column\": \"answer\",\n      \"properties\": {\n        \"dtype\": \"string\",\n        \"num_unique_values\": 3,\n        \"samples\": [\n          \"The President honored Justice Breyer for his service and mentioned nominating Judge Ketanji Brown Jackson to continue his legacy.\",\n          \"The President mentioned that Intel's CEO, Pat Gelsinger, is ready to increase their investment from $20 billion to $100 billion, which would be one of the biggest investments in manufacturing in American history.\",\n          \"The President called for Congress to pass measures to reduce gun violence, including universal background checks and banning assault weapons and high-capacity magazines. He also emphasized the need to crack down on gun trafficking and ghost guns.\"\n        ],\n        \"semantic_type\": \"\",\n        \"description\": \"\"\n      }\n    },\n    {\n      \"column\": \"contexts\",\n      \"properties\": {\n        \"dtype\": \"object\",\n        \"semantic_type\": \"\",\n        \"description\": \"\"\n      }\n    },\n    {\n      \"column\": \"ground_truths\",\n      \"properties\": {\n        \"dtype\": \"object\",\n        \"semantic_type\": \"\",\n        \"description\": \"\"\n      }\n    },\n    {\n      \"column\": \"ground_truth\",\n      \"properties\": {\n        \"dtype\": \"string\",\n        \"num_unique_values\": 3,\n        \"samples\": [\n          \"The president said that Justice Breyer has dedicated his life to serve the country and thanked him for his service.\",\n          \"The president said that Pat Gelsinger is ready to increase Intel's investment to $100 billion.\",\n          \"The president asked Congress to pass proven measures to reduce gun violence.\"\n        ],\n        \"semantic_type\": \"\",\n        \"description\": \"\"\n      }\n    },\n    {\n      \"column\": \"context_precision\",\n      \"properties\": {\n        \"dtype\": \"number\",\n        \"std\": 2.8867515847990063e-11,\n        \"min\": 0.9999999999,\n        \"max\": 0.99999999995,\n        \"num_unique_values\": 2,\n        \"samples\": [\n          0.9999999999,\n          0.99999999995\n        ],\n        \"semantic_type\": \"\",\n        \"description\": \"\"\n      }\n    },\n    {\n      \"column\": \"context_recall\",\n      \"properties\": {\n        \"dtype\": \"number\",\n        \"std\": 0.0,\n        \"min\": 1.0,\n        \"max\": 1.0,\n        \"num_unique_values\": 1,\n        \"samples\": [\n          1.0\n        ],\n        \"semantic_type\": \"\",\n        \"description\": \"\"\n      }\n    },\n    {\n      \"column\": \"faithfulness\",\n      \"properties\": {\n        \"dtype\": \"number\",\n        \"std\": 0.0,\n        \"min\": 1.0,\n        \"max\": 1.0,\n        \"num_unique_values\": 1,\n        \"samples\": [\n          1.0\n        ],\n        \"semantic_type\": \"\",\n        \"description\": \"\"\n      }\n    },\n    {\n      \"column\": \"answer_relevancy\",\n      \"properties\": {\n        \"dtype\": \"number\",\n        \"std\": 0.038851361757512644,\n        \"min\": 0.8307300454537757,\n        \"max\": 0.9074439586199222,\n        \"num_unique_values\": 3,\n        \"samples\": [\n          0.8307300454537757\n        ],\n        \"semantic_type\": \"\",\n        \"description\": \"\"\n      }\n    }\n  ]\n}"
            }
          },
          "metadata": {},
          "execution_count": 71
        }
      ]
    },
    {
      "cell_type": "code",
      "source": [
        "df.iloc[0,:]"
      ],
      "metadata": {
        "colab": {
          "base_uri": "https://localhost:8080/"
        },
        "id": "xvZEKRENOMc7",
        "outputId": "1f1f0181-d020-4563-8859-4f01346edbde"
      },
      "execution_count": null,
      "outputs": [
        {
          "output_type": "execute_result",
          "data": {
            "text/plain": [
              "question               what did the President say about Justic Breyer?\n",
              "answer               The President honored Justice Breyer for his s...\n",
              "contexts             [Tonight, I’d like to honor someone who has de...\n",
              "ground_truths        [The president said that Justice Breyer has de...\n",
              "ground_truth         The president said that Justice Breyer has ded...\n",
              "context_precision                                                  1.0\n",
              "context_recall                                                     1.0\n",
              "faithfulness                                                       1.0\n",
              "answer_relevancy                                               0.83073\n",
              "Name: 0, dtype: object"
            ]
          },
          "metadata": {},
          "execution_count": 74
        }
      ]
    },
    {
      "cell_type": "code",
      "source": [
        "#data\n",
        "#this is my actual query\n",
        "df.iloc[0,:].question"
      ],
      "metadata": {
        "colab": {
          "base_uri": "https://localhost:8080/",
          "height": 35
        },
        "id": "uMAv2kiYPL6d",
        "outputId": "3995050e-34b8-4a5b-910c-63747f5d172c"
      },
      "execution_count": null,
      "outputs": [
        {
          "output_type": "execute_result",
          "data": {
            "text/plain": [
              "'what did the President say about Justic Breyer?'"
            ],
            "application/vnd.google.colaboratory.intrinsic+json": {
              "type": "string"
            }
          },
          "metadata": {},
          "execution_count": 75
        }
      ]
    },
    {
      "cell_type": "code",
      "source": [
        "#predicted\n",
        "#generation of the model\n",
        "df.iloc[0,:].answer"
      ],
      "metadata": {
        "colab": {
          "base_uri": "https://localhost:8080/",
          "height": 35
        },
        "id": "H53eHwv3Ph7C",
        "outputId": "5dc813d7-7d2d-4eeb-c49e-8e747569652c"
      },
      "execution_count": null,
      "outputs": [
        {
          "output_type": "execute_result",
          "data": {
            "text/plain": [
              "'The President honored Justice Breyer for his service and mentioned nominating Judge Ketanji Brown Jackson to continue his legacy.'"
            ],
            "application/vnd.google.colaboratory.intrinsic+json": {
              "type": "string"
            }
          },
          "metadata": {},
          "execution_count": 76
        }
      ]
    },
    {
      "cell_type": "code",
      "source": [
        "#actual\n",
        "#actual answer(manually we have written this answer)(this could be llm generated)\n",
        "df.iloc[0,:].ground_truth"
      ],
      "metadata": {
        "colab": {
          "base_uri": "https://localhost:8080/",
          "height": 35
        },
        "id": "e4RchGjuPlu_",
        "outputId": "aa238e6f-c71d-49c4-d838-5a031fc53a82"
      },
      "execution_count": null,
      "outputs": [
        {
          "output_type": "execute_result",
          "data": {
            "text/plain": [
              "'The president said that Justice Breyer has dedicated his life to serve the country and thanked him for his service.'"
            ],
            "application/vnd.google.colaboratory.intrinsic+json": {
              "type": "string"
            }
          },
          "metadata": {},
          "execution_count": 77
        }
      ]
    },
    {
      "cell_type": "code",
      "source": [
        "#average value\n",
        "#retrieval result(context)\n",
        "df.iloc[0,:].contexts[0]"
      ],
      "metadata": {
        "colab": {
          "base_uri": "https://localhost:8080/",
          "height": 72
        },
        "id": "vos6bzpFPtfM",
        "outputId": "2014eb8c-f5cf-44e2-93a6-53fe3f51855a"
      },
      "execution_count": null,
      "outputs": [
        {
          "output_type": "execute_result",
          "data": {
            "text/plain": [
              "'Tonight, I’d like to honor someone who has dedicated his life to serve this country: Justice Stephen Breyer—an Army veteran, Constitutional scholar, and retiring Justice of the United States Supreme Court. Justice Breyer, thank you for your service. \\n\\nOne of the most serious constitutional responsibilities a President has is nominating someone to serve on the United States Supreme Court.'"
            ],
            "application/vnd.google.colaboratory.intrinsic+json": {
              "type": "string"
            }
          },
          "metadata": {},
          "execution_count": 79
        }
      ]
    },
    {
      "cell_type": "code",
      "source": [
        "context_precision                                                  1.0\n",
        "context_recall                                                     1.0\n",
        "faithfulness                                                       1.0\n",
        "answer_relevancy                                               0.83073"
      ],
      "metadata": {
        "id": "NjgoF7p9Q3jE"
      },
      "execution_count": null,
      "outputs": []
    },
    {
      "cell_type": "code",
      "source": [
        "raga:https://docs.ragas.io/en/latest/concepts/metrics/context_recall.html\n",
        "TrueLence:https://www.trulens.org/trulens_eval/getting_started/core_concepts/rag_triad/\n",
        "ares:https://github.com/stanford-futuredata/ARES?tab=readme-ov-file#section3"
      ],
      "metadata": {
        "id": "GSenSZXzPy8y"
      },
      "execution_count": null,
      "outputs": []
    },
    {
      "cell_type": "code",
      "source": [
        "#rouge summrization\n",
        "#bleu translation"
      ],
      "metadata": {
        "id": "dHC8IxISQN2y"
      },
      "execution_count": null,
      "outputs": []
    },
    {
      "cell_type": "code",
      "source": [
        "from datasets import Dataset\n",
        "from ragas.metrics import answer_similarity\n",
        "from ragas import evaluate\n",
        "\n",
        "\n",
        "data_samples = {\n",
        "    'question': ['When was the first super bowl?', 'Who won the most super bowls?'],\n",
        "    'answer': ['The first superbowl was held on Jan 15, 1967', 'The most super bowls have been won by The New England Patriots'],\n",
        "    'ground_truth': ['The first superbowl was held on January 15, 1967', 'The New England Patriots have won the Super Bowl a record six times']\n",
        "}\n",
        "dataset = Dataset.from_dict(data_samples)\n",
        "score = evaluate(dataset,metrics=[answer_similarity])\n",
        "score.to_pandas()"
      ],
      "metadata": {
        "colab": {
          "base_uri": "https://localhost:8080/",
          "height": 161,
          "referenced_widgets": [
            "aea61943cfce4554ae3db563ff7d1999",
            "545628a8e2b54b0db0bfe7fb52d119e6",
            "0f7040e410854deabb94bf5ea4080a8e",
            "daa2cfe169e04db6857fa94765c963a4",
            "89b9465ed3504d60ace1639ed60b159a",
            "3778c125c91d43e69f06a39ecf10edc8",
            "260d47cb0c164810b88b52a4bd7bf295",
            "5d698eb8f4364fe390040ff2df50f234",
            "e1bd5b567ba5490780148fb43a2b45df",
            "c63034adeb3e41df9f9ec50bbc8e4612",
            "80632e399df24e69a9ef602897c14609"
          ]
        },
        "id": "L1dTb6TdWtiU",
        "outputId": "508adb92-4e9c-4569-b3c3-ce450ea7eb02"
      },
      "execution_count": null,
      "outputs": [
        {
          "output_type": "display_data",
          "data": {
            "text/plain": [
              "Evaluating:   0%|          | 0/2 [00:00<?, ?it/s]"
            ],
            "application/vnd.jupyter.widget-view+json": {
              "version_major": 2,
              "version_minor": 0,
              "model_id": "aea61943cfce4554ae3db563ff7d1999"
            }
          },
          "metadata": {}
        },
        {
          "output_type": "execute_result",
          "data": {
            "text/plain": [
              "                         question  \\\n",
              "0  When was the first super bowl?   \n",
              "1   Who won the most super bowls?   \n",
              "\n",
              "                                              answer  \\\n",
              "0       The first superbowl was held on Jan 15, 1967   \n",
              "1  The most super bowls have been won by The New ...   \n",
              "\n",
              "                                        ground_truth  answer_similarity  \n",
              "0   The first superbowl was held on January 15, 1967           0.996378  \n",
              "1  The New England Patriots have won the Super Bo...           0.924285  "
            ],
            "text/html": [
              "\n",
              "  <div id=\"df-c7c23196-b884-43a3-9c1f-46937980ded1\" class=\"colab-df-container\">\n",
              "    <div>\n",
              "<style scoped>\n",
              "    .dataframe tbody tr th:only-of-type {\n",
              "        vertical-align: middle;\n",
              "    }\n",
              "\n",
              "    .dataframe tbody tr th {\n",
              "        vertical-align: top;\n",
              "    }\n",
              "\n",
              "    .dataframe thead th {\n",
              "        text-align: right;\n",
              "    }\n",
              "</style>\n",
              "<table border=\"1\" class=\"dataframe\">\n",
              "  <thead>\n",
              "    <tr style=\"text-align: right;\">\n",
              "      <th></th>\n",
              "      <th>question</th>\n",
              "      <th>answer</th>\n",
              "      <th>ground_truth</th>\n",
              "      <th>answer_similarity</th>\n",
              "    </tr>\n",
              "  </thead>\n",
              "  <tbody>\n",
              "    <tr>\n",
              "      <th>0</th>\n",
              "      <td>When was the first super bowl?</td>\n",
              "      <td>The first superbowl was held on Jan 15, 1967</td>\n",
              "      <td>The first superbowl was held on January 15, 1967</td>\n",
              "      <td>0.996378</td>\n",
              "    </tr>\n",
              "    <tr>\n",
              "      <th>1</th>\n",
              "      <td>Who won the most super bowls?</td>\n",
              "      <td>The most super bowls have been won by The New ...</td>\n",
              "      <td>The New England Patriots have won the Super Bo...</td>\n",
              "      <td>0.924285</td>\n",
              "    </tr>\n",
              "  </tbody>\n",
              "</table>\n",
              "</div>\n",
              "    <div class=\"colab-df-buttons\">\n",
              "\n",
              "  <div class=\"colab-df-container\">\n",
              "    <button class=\"colab-df-convert\" onclick=\"convertToInteractive('df-c7c23196-b884-43a3-9c1f-46937980ded1')\"\n",
              "            title=\"Convert this dataframe to an interactive table.\"\n",
              "            style=\"display:none;\">\n",
              "\n",
              "  <svg xmlns=\"http://www.w3.org/2000/svg\" height=\"24px\" viewBox=\"0 -960 960 960\">\n",
              "    <path d=\"M120-120v-720h720v720H120Zm60-500h600v-160H180v160Zm220 220h160v-160H400v160Zm0 220h160v-160H400v160ZM180-400h160v-160H180v160Zm440 0h160v-160H620v160ZM180-180h160v-160H180v160Zm440 0h160v-160H620v160Z\"/>\n",
              "  </svg>\n",
              "    </button>\n",
              "\n",
              "  <style>\n",
              "    .colab-df-container {\n",
              "      display:flex;\n",
              "      gap: 12px;\n",
              "    }\n",
              "\n",
              "    .colab-df-convert {\n",
              "      background-color: #E8F0FE;\n",
              "      border: none;\n",
              "      border-radius: 50%;\n",
              "      cursor: pointer;\n",
              "      display: none;\n",
              "      fill: #1967D2;\n",
              "      height: 32px;\n",
              "      padding: 0 0 0 0;\n",
              "      width: 32px;\n",
              "    }\n",
              "\n",
              "    .colab-df-convert:hover {\n",
              "      background-color: #E2EBFA;\n",
              "      box-shadow: 0px 1px 2px rgba(60, 64, 67, 0.3), 0px 1px 3px 1px rgba(60, 64, 67, 0.15);\n",
              "      fill: #174EA6;\n",
              "    }\n",
              "\n",
              "    .colab-df-buttons div {\n",
              "      margin-bottom: 4px;\n",
              "    }\n",
              "\n",
              "    [theme=dark] .colab-df-convert {\n",
              "      background-color: #3B4455;\n",
              "      fill: #D2E3FC;\n",
              "    }\n",
              "\n",
              "    [theme=dark] .colab-df-convert:hover {\n",
              "      background-color: #434B5C;\n",
              "      box-shadow: 0px 1px 3px 1px rgba(0, 0, 0, 0.15);\n",
              "      filter: drop-shadow(0px 1px 2px rgba(0, 0, 0, 0.3));\n",
              "      fill: #FFFFFF;\n",
              "    }\n",
              "  </style>\n",
              "\n",
              "    <script>\n",
              "      const buttonEl =\n",
              "        document.querySelector('#df-c7c23196-b884-43a3-9c1f-46937980ded1 button.colab-df-convert');\n",
              "      buttonEl.style.display =\n",
              "        google.colab.kernel.accessAllowed ? 'block' : 'none';\n",
              "\n",
              "      async function convertToInteractive(key) {\n",
              "        const element = document.querySelector('#df-c7c23196-b884-43a3-9c1f-46937980ded1');\n",
              "        const dataTable =\n",
              "          await google.colab.kernel.invokeFunction('convertToInteractive',\n",
              "                                                    [key], {});\n",
              "        if (!dataTable) return;\n",
              "\n",
              "        const docLinkHtml = 'Like what you see? Visit the ' +\n",
              "          '<a target=\"_blank\" href=https://colab.research.google.com/notebooks/data_table.ipynb>data table notebook</a>'\n",
              "          + ' to learn more about interactive tables.';\n",
              "        element.innerHTML = '';\n",
              "        dataTable['output_type'] = 'display_data';\n",
              "        await google.colab.output.renderOutput(dataTable, element);\n",
              "        const docLink = document.createElement('div');\n",
              "        docLink.innerHTML = docLinkHtml;\n",
              "        element.appendChild(docLink);\n",
              "      }\n",
              "    </script>\n",
              "  </div>\n",
              "\n",
              "\n",
              "<div id=\"df-148dae54-5a37-4ffe-af19-73da5c7ab4ec\">\n",
              "  <button class=\"colab-df-quickchart\" onclick=\"quickchart('df-148dae54-5a37-4ffe-af19-73da5c7ab4ec')\"\n",
              "            title=\"Suggest charts\"\n",
              "            style=\"display:none;\">\n",
              "\n",
              "<svg xmlns=\"http://www.w3.org/2000/svg\" height=\"24px\"viewBox=\"0 0 24 24\"\n",
              "     width=\"24px\">\n",
              "    <g>\n",
              "        <path d=\"M19 3H5c-1.1 0-2 .9-2 2v14c0 1.1.9 2 2 2h14c1.1 0 2-.9 2-2V5c0-1.1-.9-2-2-2zM9 17H7v-7h2v7zm4 0h-2V7h2v10zm4 0h-2v-4h2v4z\"/>\n",
              "    </g>\n",
              "</svg>\n",
              "  </button>\n",
              "\n",
              "<style>\n",
              "  .colab-df-quickchart {\n",
              "      --bg-color: #E8F0FE;\n",
              "      --fill-color: #1967D2;\n",
              "      --hover-bg-color: #E2EBFA;\n",
              "      --hover-fill-color: #174EA6;\n",
              "      --disabled-fill-color: #AAA;\n",
              "      --disabled-bg-color: #DDD;\n",
              "  }\n",
              "\n",
              "  [theme=dark] .colab-df-quickchart {\n",
              "      --bg-color: #3B4455;\n",
              "      --fill-color: #D2E3FC;\n",
              "      --hover-bg-color: #434B5C;\n",
              "      --hover-fill-color: #FFFFFF;\n",
              "      --disabled-bg-color: #3B4455;\n",
              "      --disabled-fill-color: #666;\n",
              "  }\n",
              "\n",
              "  .colab-df-quickchart {\n",
              "    background-color: var(--bg-color);\n",
              "    border: none;\n",
              "    border-radius: 50%;\n",
              "    cursor: pointer;\n",
              "    display: none;\n",
              "    fill: var(--fill-color);\n",
              "    height: 32px;\n",
              "    padding: 0;\n",
              "    width: 32px;\n",
              "  }\n",
              "\n",
              "  .colab-df-quickchart:hover {\n",
              "    background-color: var(--hover-bg-color);\n",
              "    box-shadow: 0 1px 2px rgba(60, 64, 67, 0.3), 0 1px 3px 1px rgba(60, 64, 67, 0.15);\n",
              "    fill: var(--button-hover-fill-color);\n",
              "  }\n",
              "\n",
              "  .colab-df-quickchart-complete:disabled,\n",
              "  .colab-df-quickchart-complete:disabled:hover {\n",
              "    background-color: var(--disabled-bg-color);\n",
              "    fill: var(--disabled-fill-color);\n",
              "    box-shadow: none;\n",
              "  }\n",
              "\n",
              "  .colab-df-spinner {\n",
              "    border: 2px solid var(--fill-color);\n",
              "    border-color: transparent;\n",
              "    border-bottom-color: var(--fill-color);\n",
              "    animation:\n",
              "      spin 1s steps(1) infinite;\n",
              "  }\n",
              "\n",
              "  @keyframes spin {\n",
              "    0% {\n",
              "      border-color: transparent;\n",
              "      border-bottom-color: var(--fill-color);\n",
              "      border-left-color: var(--fill-color);\n",
              "    }\n",
              "    20% {\n",
              "      border-color: transparent;\n",
              "      border-left-color: var(--fill-color);\n",
              "      border-top-color: var(--fill-color);\n",
              "    }\n",
              "    30% {\n",
              "      border-color: transparent;\n",
              "      border-left-color: var(--fill-color);\n",
              "      border-top-color: var(--fill-color);\n",
              "      border-right-color: var(--fill-color);\n",
              "    }\n",
              "    40% {\n",
              "      border-color: transparent;\n",
              "      border-right-color: var(--fill-color);\n",
              "      border-top-color: var(--fill-color);\n",
              "    }\n",
              "    60% {\n",
              "      border-color: transparent;\n",
              "      border-right-color: var(--fill-color);\n",
              "    }\n",
              "    80% {\n",
              "      border-color: transparent;\n",
              "      border-right-color: var(--fill-color);\n",
              "      border-bottom-color: var(--fill-color);\n",
              "    }\n",
              "    90% {\n",
              "      border-color: transparent;\n",
              "      border-bottom-color: var(--fill-color);\n",
              "    }\n",
              "  }\n",
              "</style>\n",
              "\n",
              "  <script>\n",
              "    async function quickchart(key) {\n",
              "      const quickchartButtonEl =\n",
              "        document.querySelector('#' + key + ' button');\n",
              "      quickchartButtonEl.disabled = true;  // To prevent multiple clicks.\n",
              "      quickchartButtonEl.classList.add('colab-df-spinner');\n",
              "      try {\n",
              "        const charts = await google.colab.kernel.invokeFunction(\n",
              "            'suggestCharts', [key], {});\n",
              "      } catch (error) {\n",
              "        console.error('Error during call to suggestCharts:', error);\n",
              "      }\n",
              "      quickchartButtonEl.classList.remove('colab-df-spinner');\n",
              "      quickchartButtonEl.classList.add('colab-df-quickchart-complete');\n",
              "    }\n",
              "    (() => {\n",
              "      let quickchartButtonEl =\n",
              "        document.querySelector('#df-148dae54-5a37-4ffe-af19-73da5c7ab4ec button');\n",
              "      quickchartButtonEl.style.display =\n",
              "        google.colab.kernel.accessAllowed ? 'block' : 'none';\n",
              "    })();\n",
              "  </script>\n",
              "</div>\n",
              "\n",
              "    </div>\n",
              "  </div>\n"
            ],
            "application/vnd.google.colaboratory.intrinsic+json": {
              "type": "dataframe",
              "summary": "{\n  \"name\": \"score\",\n  \"rows\": 2,\n  \"fields\": [\n    {\n      \"column\": \"question\",\n      \"properties\": {\n        \"dtype\": \"string\",\n        \"num_unique_values\": 2,\n        \"samples\": [\n          \"Who won the most super bowls?\",\n          \"When was the first super bowl?\"\n        ],\n        \"semantic_type\": \"\",\n        \"description\": \"\"\n      }\n    },\n    {\n      \"column\": \"answer\",\n      \"properties\": {\n        \"dtype\": \"string\",\n        \"num_unique_values\": 2,\n        \"samples\": [\n          \"The most super bowls have been won by The New England Patriots\",\n          \"The first superbowl was held on Jan 15, 1967\"\n        ],\n        \"semantic_type\": \"\",\n        \"description\": \"\"\n      }\n    },\n    {\n      \"column\": \"ground_truth\",\n      \"properties\": {\n        \"dtype\": \"string\",\n        \"num_unique_values\": 2,\n        \"samples\": [\n          \"The New England Patriots have won the Super Bowl a record six times\",\n          \"The first superbowl was held on January 15, 1967\"\n        ],\n        \"semantic_type\": \"\",\n        \"description\": \"\"\n      }\n    },\n    {\n      \"column\": \"answer_similarity\",\n      \"properties\": {\n        \"dtype\": \"number\",\n        \"std\": 0.05097743257563156,\n        \"min\": 0.9242852642518871,\n        \"max\": 0.9963782407753052,\n        \"num_unique_values\": 2,\n        \"samples\": [\n          0.9242852642518871,\n          0.9963782407753052\n        ],\n        \"semantic_type\": \"\",\n        \"description\": \"\"\n      }\n    }\n  ]\n}"
            }
          },
          "metadata": {},
          "execution_count": 80
        }
      ]
    },
    {
      "cell_type": "code",
      "source": [
        "from datasets import Dataset\n",
        "from ragas.metrics import faithfulness, answer_correctness\n",
        "from ragas import evaluate\n",
        "\n",
        "data_samples = {\n",
        "    'question': ['When was the first super bowl?', 'Who won the most super bowls?'],\n",
        "    'answer': ['The first superbowl was held on Jan 15, 1967', 'The most super bowls have been won by The New England Patriots'],\n",
        "    'ground_truth': ['The first superbowl was held on January 15, 1967', 'The New England Patriots have won the Super Bowl a record six times']\n",
        "}\n",
        "dataset = Dataset.from_dict(data_samples)\n",
        "score = evaluate(dataset,metrics=[answer_correctness])\n",
        "score.to_pandas()"
      ],
      "metadata": {
        "colab": {
          "base_uri": "https://localhost:8080/",
          "height": 178,
          "referenced_widgets": [
            "bbf6f325c044411e9f0ddca6a19a6da7",
            "0403206b46e84ab48caddcd899c06ce2",
            "0ff90a234f994b888a9741d639a59a37",
            "d6bf0d213b1e4da4b07722d3cad455d3",
            "1f1364bd5d304963810d2ed015887d71",
            "1ecab2f0664e4902be01666ce41dfba3",
            "eae93c24eebe40168a8e8739422c47d3",
            "79d1db6324b846c58468ab70d0c41b10",
            "113ff233e46d4e5ba19c502d88de58a1",
            "102eb9bcf649448b8b79ae178b2a8d9c",
            "0d5e4dd1b5e44ecfa76891c87bef8b47"
          ]
        },
        "id": "Ft2R0c-SWxDS",
        "outputId": "4bdc900a-200a-4716-9fcb-789922fcc1c1"
      },
      "execution_count": null,
      "outputs": [
        {
          "output_type": "display_data",
          "data": {
            "text/plain": [
              "Evaluating:   0%|          | 0/2 [00:00<?, ?it/s]"
            ],
            "application/vnd.jupyter.widget-view+json": {
              "version_major": 2,
              "version_minor": 0,
              "model_id": "bbf6f325c044411e9f0ddca6a19a6da7"
            }
          },
          "metadata": {}
        },
        {
          "output_type": "execute_result",
          "data": {
            "text/plain": [
              "                         question  \\\n",
              "0  When was the first super bowl?   \n",
              "1   Who won the most super bowls?   \n",
              "\n",
              "                                              answer  \\\n",
              "0       The first superbowl was held on Jan 15, 1967   \n",
              "1  The most super bowls have been won by The New ...   \n",
              "\n",
              "                                        ground_truth  answer_correctness  \n",
              "0   The first superbowl was held on January 15, 1967            0.749095  \n",
              "1  The New England Patriots have won the Super Bo...            0.731078  "
            ],
            "text/html": [
              "\n",
              "  <div id=\"df-b4972e57-e9a1-4255-b924-d1f60fad3e04\" class=\"colab-df-container\">\n",
              "    <div>\n",
              "<style scoped>\n",
              "    .dataframe tbody tr th:only-of-type {\n",
              "        vertical-align: middle;\n",
              "    }\n",
              "\n",
              "    .dataframe tbody tr th {\n",
              "        vertical-align: top;\n",
              "    }\n",
              "\n",
              "    .dataframe thead th {\n",
              "        text-align: right;\n",
              "    }\n",
              "</style>\n",
              "<table border=\"1\" class=\"dataframe\">\n",
              "  <thead>\n",
              "    <tr style=\"text-align: right;\">\n",
              "      <th></th>\n",
              "      <th>question</th>\n",
              "      <th>answer</th>\n",
              "      <th>ground_truth</th>\n",
              "      <th>answer_correctness</th>\n",
              "    </tr>\n",
              "  </thead>\n",
              "  <tbody>\n",
              "    <tr>\n",
              "      <th>0</th>\n",
              "      <td>When was the first super bowl?</td>\n",
              "      <td>The first superbowl was held on Jan 15, 1967</td>\n",
              "      <td>The first superbowl was held on January 15, 1967</td>\n",
              "      <td>0.749095</td>\n",
              "    </tr>\n",
              "    <tr>\n",
              "      <th>1</th>\n",
              "      <td>Who won the most super bowls?</td>\n",
              "      <td>The most super bowls have been won by The New ...</td>\n",
              "      <td>The New England Patriots have won the Super Bo...</td>\n",
              "      <td>0.731078</td>\n",
              "    </tr>\n",
              "  </tbody>\n",
              "</table>\n",
              "</div>\n",
              "    <div class=\"colab-df-buttons\">\n",
              "\n",
              "  <div class=\"colab-df-container\">\n",
              "    <button class=\"colab-df-convert\" onclick=\"convertToInteractive('df-b4972e57-e9a1-4255-b924-d1f60fad3e04')\"\n",
              "            title=\"Convert this dataframe to an interactive table.\"\n",
              "            style=\"display:none;\">\n",
              "\n",
              "  <svg xmlns=\"http://www.w3.org/2000/svg\" height=\"24px\" viewBox=\"0 -960 960 960\">\n",
              "    <path d=\"M120-120v-720h720v720H120Zm60-500h600v-160H180v160Zm220 220h160v-160H400v160Zm0 220h160v-160H400v160ZM180-400h160v-160H180v160Zm440 0h160v-160H620v160ZM180-180h160v-160H180v160Zm440 0h160v-160H620v160Z\"/>\n",
              "  </svg>\n",
              "    </button>\n",
              "\n",
              "  <style>\n",
              "    .colab-df-container {\n",
              "      display:flex;\n",
              "      gap: 12px;\n",
              "    }\n",
              "\n",
              "    .colab-df-convert {\n",
              "      background-color: #E8F0FE;\n",
              "      border: none;\n",
              "      border-radius: 50%;\n",
              "      cursor: pointer;\n",
              "      display: none;\n",
              "      fill: #1967D2;\n",
              "      height: 32px;\n",
              "      padding: 0 0 0 0;\n",
              "      width: 32px;\n",
              "    }\n",
              "\n",
              "    .colab-df-convert:hover {\n",
              "      background-color: #E2EBFA;\n",
              "      box-shadow: 0px 1px 2px rgba(60, 64, 67, 0.3), 0px 1px 3px 1px rgba(60, 64, 67, 0.15);\n",
              "      fill: #174EA6;\n",
              "    }\n",
              "\n",
              "    .colab-df-buttons div {\n",
              "      margin-bottom: 4px;\n",
              "    }\n",
              "\n",
              "    [theme=dark] .colab-df-convert {\n",
              "      background-color: #3B4455;\n",
              "      fill: #D2E3FC;\n",
              "    }\n",
              "\n",
              "    [theme=dark] .colab-df-convert:hover {\n",
              "      background-color: #434B5C;\n",
              "      box-shadow: 0px 1px 3px 1px rgba(0, 0, 0, 0.15);\n",
              "      filter: drop-shadow(0px 1px 2px rgba(0, 0, 0, 0.3));\n",
              "      fill: #FFFFFF;\n",
              "    }\n",
              "  </style>\n",
              "\n",
              "    <script>\n",
              "      const buttonEl =\n",
              "        document.querySelector('#df-b4972e57-e9a1-4255-b924-d1f60fad3e04 button.colab-df-convert');\n",
              "      buttonEl.style.display =\n",
              "        google.colab.kernel.accessAllowed ? 'block' : 'none';\n",
              "\n",
              "      async function convertToInteractive(key) {\n",
              "        const element = document.querySelector('#df-b4972e57-e9a1-4255-b924-d1f60fad3e04');\n",
              "        const dataTable =\n",
              "          await google.colab.kernel.invokeFunction('convertToInteractive',\n",
              "                                                    [key], {});\n",
              "        if (!dataTable) return;\n",
              "\n",
              "        const docLinkHtml = 'Like what you see? Visit the ' +\n",
              "          '<a target=\"_blank\" href=https://colab.research.google.com/notebooks/data_table.ipynb>data table notebook</a>'\n",
              "          + ' to learn more about interactive tables.';\n",
              "        element.innerHTML = '';\n",
              "        dataTable['output_type'] = 'display_data';\n",
              "        await google.colab.output.renderOutput(dataTable, element);\n",
              "        const docLink = document.createElement('div');\n",
              "        docLink.innerHTML = docLinkHtml;\n",
              "        element.appendChild(docLink);\n",
              "      }\n",
              "    </script>\n",
              "  </div>\n",
              "\n",
              "\n",
              "<div id=\"df-a9e9a416-534f-4695-a6ad-027532ce9057\">\n",
              "  <button class=\"colab-df-quickchart\" onclick=\"quickchart('df-a9e9a416-534f-4695-a6ad-027532ce9057')\"\n",
              "            title=\"Suggest charts\"\n",
              "            style=\"display:none;\">\n",
              "\n",
              "<svg xmlns=\"http://www.w3.org/2000/svg\" height=\"24px\"viewBox=\"0 0 24 24\"\n",
              "     width=\"24px\">\n",
              "    <g>\n",
              "        <path d=\"M19 3H5c-1.1 0-2 .9-2 2v14c0 1.1.9 2 2 2h14c1.1 0 2-.9 2-2V5c0-1.1-.9-2-2-2zM9 17H7v-7h2v7zm4 0h-2V7h2v10zm4 0h-2v-4h2v4z\"/>\n",
              "    </g>\n",
              "</svg>\n",
              "  </button>\n",
              "\n",
              "<style>\n",
              "  .colab-df-quickchart {\n",
              "      --bg-color: #E8F0FE;\n",
              "      --fill-color: #1967D2;\n",
              "      --hover-bg-color: #E2EBFA;\n",
              "      --hover-fill-color: #174EA6;\n",
              "      --disabled-fill-color: #AAA;\n",
              "      --disabled-bg-color: #DDD;\n",
              "  }\n",
              "\n",
              "  [theme=dark] .colab-df-quickchart {\n",
              "      --bg-color: #3B4455;\n",
              "      --fill-color: #D2E3FC;\n",
              "      --hover-bg-color: #434B5C;\n",
              "      --hover-fill-color: #FFFFFF;\n",
              "      --disabled-bg-color: #3B4455;\n",
              "      --disabled-fill-color: #666;\n",
              "  }\n",
              "\n",
              "  .colab-df-quickchart {\n",
              "    background-color: var(--bg-color);\n",
              "    border: none;\n",
              "    border-radius: 50%;\n",
              "    cursor: pointer;\n",
              "    display: none;\n",
              "    fill: var(--fill-color);\n",
              "    height: 32px;\n",
              "    padding: 0;\n",
              "    width: 32px;\n",
              "  }\n",
              "\n",
              "  .colab-df-quickchart:hover {\n",
              "    background-color: var(--hover-bg-color);\n",
              "    box-shadow: 0 1px 2px rgba(60, 64, 67, 0.3), 0 1px 3px 1px rgba(60, 64, 67, 0.15);\n",
              "    fill: var(--button-hover-fill-color);\n",
              "  }\n",
              "\n",
              "  .colab-df-quickchart-complete:disabled,\n",
              "  .colab-df-quickchart-complete:disabled:hover {\n",
              "    background-color: var(--disabled-bg-color);\n",
              "    fill: var(--disabled-fill-color);\n",
              "    box-shadow: none;\n",
              "  }\n",
              "\n",
              "  .colab-df-spinner {\n",
              "    border: 2px solid var(--fill-color);\n",
              "    border-color: transparent;\n",
              "    border-bottom-color: var(--fill-color);\n",
              "    animation:\n",
              "      spin 1s steps(1) infinite;\n",
              "  }\n",
              "\n",
              "  @keyframes spin {\n",
              "    0% {\n",
              "      border-color: transparent;\n",
              "      border-bottom-color: var(--fill-color);\n",
              "      border-left-color: var(--fill-color);\n",
              "    }\n",
              "    20% {\n",
              "      border-color: transparent;\n",
              "      border-left-color: var(--fill-color);\n",
              "      border-top-color: var(--fill-color);\n",
              "    }\n",
              "    30% {\n",
              "      border-color: transparent;\n",
              "      border-left-color: var(--fill-color);\n",
              "      border-top-color: var(--fill-color);\n",
              "      border-right-color: var(--fill-color);\n",
              "    }\n",
              "    40% {\n",
              "      border-color: transparent;\n",
              "      border-right-color: var(--fill-color);\n",
              "      border-top-color: var(--fill-color);\n",
              "    }\n",
              "    60% {\n",
              "      border-color: transparent;\n",
              "      border-right-color: var(--fill-color);\n",
              "    }\n",
              "    80% {\n",
              "      border-color: transparent;\n",
              "      border-right-color: var(--fill-color);\n",
              "      border-bottom-color: var(--fill-color);\n",
              "    }\n",
              "    90% {\n",
              "      border-color: transparent;\n",
              "      border-bottom-color: var(--fill-color);\n",
              "    }\n",
              "  }\n",
              "</style>\n",
              "\n",
              "  <script>\n",
              "    async function quickchart(key) {\n",
              "      const quickchartButtonEl =\n",
              "        document.querySelector('#' + key + ' button');\n",
              "      quickchartButtonEl.disabled = true;  // To prevent multiple clicks.\n",
              "      quickchartButtonEl.classList.add('colab-df-spinner');\n",
              "      try {\n",
              "        const charts = await google.colab.kernel.invokeFunction(\n",
              "            'suggestCharts', [key], {});\n",
              "      } catch (error) {\n",
              "        console.error('Error during call to suggestCharts:', error);\n",
              "      }\n",
              "      quickchartButtonEl.classList.remove('colab-df-spinner');\n",
              "      quickchartButtonEl.classList.add('colab-df-quickchart-complete');\n",
              "    }\n",
              "    (() => {\n",
              "      let quickchartButtonEl =\n",
              "        document.querySelector('#df-a9e9a416-534f-4695-a6ad-027532ce9057 button');\n",
              "      quickchartButtonEl.style.display =\n",
              "        google.colab.kernel.accessAllowed ? 'block' : 'none';\n",
              "    })();\n",
              "  </script>\n",
              "</div>\n",
              "\n",
              "    </div>\n",
              "  </div>\n"
            ],
            "application/vnd.google.colaboratory.intrinsic+json": {
              "type": "dataframe",
              "summary": "{\n  \"name\": \"score\",\n  \"rows\": 2,\n  \"fields\": [\n    {\n      \"column\": \"question\",\n      \"properties\": {\n        \"dtype\": \"string\",\n        \"num_unique_values\": 2,\n        \"samples\": [\n          \"Who won the most super bowls?\",\n          \"When was the first super bowl?\"\n        ],\n        \"semantic_type\": \"\",\n        \"description\": \"\"\n      }\n    },\n    {\n      \"column\": \"answer\",\n      \"properties\": {\n        \"dtype\": \"string\",\n        \"num_unique_values\": 2,\n        \"samples\": [\n          \"The most super bowls have been won by The New England Patriots\",\n          \"The first superbowl was held on Jan 15, 1967\"\n        ],\n        \"semantic_type\": \"\",\n        \"description\": \"\"\n      }\n    },\n    {\n      \"column\": \"ground_truth\",\n      \"properties\": {\n        \"dtype\": \"string\",\n        \"num_unique_values\": 2,\n        \"samples\": [\n          \"The New England Patriots have won the Super Bowl a record six times\",\n          \"The first superbowl was held on January 15, 1967\"\n        ],\n        \"semantic_type\": \"\",\n        \"description\": \"\"\n      }\n    },\n    {\n      \"column\": \"answer_correctness\",\n      \"properties\": {\n        \"dtype\": \"number\",\n        \"std\": 0.012739500471641239,\n        \"min\": 0.7310781858489729,\n        \"max\": 0.7490945601938264,\n        \"num_unique_values\": 2,\n        \"samples\": [\n          0.7310781858489729,\n          0.7490945601938264\n        ],\n        \"semantic_type\": \"\",\n        \"description\": \"\"\n      }\n    }\n  ]\n}"
            }
          },
          "metadata": {},
          "execution_count": 81
        }
      ]
    },
    {
      "cell_type": "code",
      "source": [],
      "metadata": {
        "id": "Fi5gBiO_XANe"
      },
      "execution_count": null,
      "outputs": []
    }
  ]
}